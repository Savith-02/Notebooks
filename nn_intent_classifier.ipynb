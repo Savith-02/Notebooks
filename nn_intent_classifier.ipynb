{
  "nbformat": 4,
  "nbformat_minor": 0,
  "metadata": {
    "colab": {
      "provenance": [],
      "gpuType": "T4",
      "mount_file_id": "1Nf927wR4OdskN9km_0vkQpG2mmrAKSbI",
      "authorship_tag": "ABX9TyNk9I2e4pfXfX/OOoXIj+l+",
      "include_colab_link": true
    },
    "kernelspec": {
      "name": "python3",
      "display_name": "Python 3"
    },
    "language_info": {
      "name": "python"
    },
    "accelerator": "GPU",
    "widgets": {
      "application/vnd.jupyter.widget-state+json": {
        "a9b78870bb344d858d6d9eadef69c100": {
          "model_module": "@jupyter-widgets/controls",
          "model_name": "HBoxModel",
          "model_module_version": "1.5.0",
          "state": {
            "_dom_classes": [],
            "_model_module": "@jupyter-widgets/controls",
            "_model_module_version": "1.5.0",
            "_model_name": "HBoxModel",
            "_view_count": null,
            "_view_module": "@jupyter-widgets/controls",
            "_view_module_version": "1.5.0",
            "_view_name": "HBoxView",
            "box_style": "",
            "children": [
              "IPY_MODEL_973a6b11c3b644929ae028eceae4e7f9",
              "IPY_MODEL_69a02d7f3c3d4cc0b502fc2fd7102a30",
              "IPY_MODEL_be8e53b0e47f4466bb80f40eb2b0ba8e"
            ],
            "layout": "IPY_MODEL_e01d7e850b0448d29fcb7f445f8ed617"
          }
        },
        "973a6b11c3b644929ae028eceae4e7f9": {
          "model_module": "@jupyter-widgets/controls",
          "model_name": "HTMLModel",
          "model_module_version": "1.5.0",
          "state": {
            "_dom_classes": [],
            "_model_module": "@jupyter-widgets/controls",
            "_model_module_version": "1.5.0",
            "_model_name": "HTMLModel",
            "_view_count": null,
            "_view_module": "@jupyter-widgets/controls",
            "_view_module_version": "1.5.0",
            "_view_name": "HTMLView",
            "description": "",
            "description_tooltip": null,
            "layout": "IPY_MODEL_c15b722f83f5483a9b14b155463fd34c",
            "placeholder": "​",
            "style": "IPY_MODEL_31509dc791d4432aa102d0823e4a1f89",
            "value": "100%"
          }
        },
        "69a02d7f3c3d4cc0b502fc2fd7102a30": {
          "model_module": "@jupyter-widgets/controls",
          "model_name": "FloatProgressModel",
          "model_module_version": "1.5.0",
          "state": {
            "_dom_classes": [],
            "_model_module": "@jupyter-widgets/controls",
            "_model_module_version": "1.5.0",
            "_model_name": "FloatProgressModel",
            "_view_count": null,
            "_view_module": "@jupyter-widgets/controls",
            "_view_module_version": "1.5.0",
            "_view_name": "ProgressView",
            "bar_style": "success",
            "description": "",
            "description_tooltip": null,
            "layout": "IPY_MODEL_d994264d222e4f2db432a6733454c669",
            "max": 100,
            "min": 0,
            "orientation": "horizontal",
            "style": "IPY_MODEL_0571e7c20c744c9f83c6cbbddb1edc72",
            "value": 100
          }
        },
        "be8e53b0e47f4466bb80f40eb2b0ba8e": {
          "model_module": "@jupyter-widgets/controls",
          "model_name": "HTMLModel",
          "model_module_version": "1.5.0",
          "state": {
            "_dom_classes": [],
            "_model_module": "@jupyter-widgets/controls",
            "_model_module_version": "1.5.0",
            "_model_name": "HTMLModel",
            "_view_count": null,
            "_view_module": "@jupyter-widgets/controls",
            "_view_module_version": "1.5.0",
            "_view_name": "HTMLView",
            "description": "",
            "description_tooltip": null,
            "layout": "IPY_MODEL_60410230aa004f51b3bbd28eee1eb8d9",
            "placeholder": "​",
            "style": "IPY_MODEL_2e2212397982409b80a90e12b1a111c1",
            "value": " 100/100 [00:42&lt;00:00,  3.23it/s]"
          }
        },
        "e01d7e850b0448d29fcb7f445f8ed617": {
          "model_module": "@jupyter-widgets/base",
          "model_name": "LayoutModel",
          "model_module_version": "1.2.0",
          "state": {
            "_model_module": "@jupyter-widgets/base",
            "_model_module_version": "1.2.0",
            "_model_name": "LayoutModel",
            "_view_count": null,
            "_view_module": "@jupyter-widgets/base",
            "_view_module_version": "1.2.0",
            "_view_name": "LayoutView",
            "align_content": null,
            "align_items": null,
            "align_self": null,
            "border": null,
            "bottom": null,
            "display": null,
            "flex": null,
            "flex_flow": null,
            "grid_area": null,
            "grid_auto_columns": null,
            "grid_auto_flow": null,
            "grid_auto_rows": null,
            "grid_column": null,
            "grid_gap": null,
            "grid_row": null,
            "grid_template_areas": null,
            "grid_template_columns": null,
            "grid_template_rows": null,
            "height": null,
            "justify_content": null,
            "justify_items": null,
            "left": null,
            "margin": null,
            "max_height": null,
            "max_width": null,
            "min_height": null,
            "min_width": null,
            "object_fit": null,
            "object_position": null,
            "order": null,
            "overflow": null,
            "overflow_x": null,
            "overflow_y": null,
            "padding": null,
            "right": null,
            "top": null,
            "visibility": null,
            "width": null
          }
        },
        "c15b722f83f5483a9b14b155463fd34c": {
          "model_module": "@jupyter-widgets/base",
          "model_name": "LayoutModel",
          "model_module_version": "1.2.0",
          "state": {
            "_model_module": "@jupyter-widgets/base",
            "_model_module_version": "1.2.0",
            "_model_name": "LayoutModel",
            "_view_count": null,
            "_view_module": "@jupyter-widgets/base",
            "_view_module_version": "1.2.0",
            "_view_name": "LayoutView",
            "align_content": null,
            "align_items": null,
            "align_self": null,
            "border": null,
            "bottom": null,
            "display": null,
            "flex": null,
            "flex_flow": null,
            "grid_area": null,
            "grid_auto_columns": null,
            "grid_auto_flow": null,
            "grid_auto_rows": null,
            "grid_column": null,
            "grid_gap": null,
            "grid_row": null,
            "grid_template_areas": null,
            "grid_template_columns": null,
            "grid_template_rows": null,
            "height": null,
            "justify_content": null,
            "justify_items": null,
            "left": null,
            "margin": null,
            "max_height": null,
            "max_width": null,
            "min_height": null,
            "min_width": null,
            "object_fit": null,
            "object_position": null,
            "order": null,
            "overflow": null,
            "overflow_x": null,
            "overflow_y": null,
            "padding": null,
            "right": null,
            "top": null,
            "visibility": null,
            "width": null
          }
        },
        "31509dc791d4432aa102d0823e4a1f89": {
          "model_module": "@jupyter-widgets/controls",
          "model_name": "DescriptionStyleModel",
          "model_module_version": "1.5.0",
          "state": {
            "_model_module": "@jupyter-widgets/controls",
            "_model_module_version": "1.5.0",
            "_model_name": "DescriptionStyleModel",
            "_view_count": null,
            "_view_module": "@jupyter-widgets/base",
            "_view_module_version": "1.2.0",
            "_view_name": "StyleView",
            "description_width": ""
          }
        },
        "d994264d222e4f2db432a6733454c669": {
          "model_module": "@jupyter-widgets/base",
          "model_name": "LayoutModel",
          "model_module_version": "1.2.0",
          "state": {
            "_model_module": "@jupyter-widgets/base",
            "_model_module_version": "1.2.0",
            "_model_name": "LayoutModel",
            "_view_count": null,
            "_view_module": "@jupyter-widgets/base",
            "_view_module_version": "1.2.0",
            "_view_name": "LayoutView",
            "align_content": null,
            "align_items": null,
            "align_self": null,
            "border": null,
            "bottom": null,
            "display": null,
            "flex": null,
            "flex_flow": null,
            "grid_area": null,
            "grid_auto_columns": null,
            "grid_auto_flow": null,
            "grid_auto_rows": null,
            "grid_column": null,
            "grid_gap": null,
            "grid_row": null,
            "grid_template_areas": null,
            "grid_template_columns": null,
            "grid_template_rows": null,
            "height": null,
            "justify_content": null,
            "justify_items": null,
            "left": null,
            "margin": null,
            "max_height": null,
            "max_width": null,
            "min_height": null,
            "min_width": null,
            "object_fit": null,
            "object_position": null,
            "order": null,
            "overflow": null,
            "overflow_x": null,
            "overflow_y": null,
            "padding": null,
            "right": null,
            "top": null,
            "visibility": null,
            "width": null
          }
        },
        "0571e7c20c744c9f83c6cbbddb1edc72": {
          "model_module": "@jupyter-widgets/controls",
          "model_name": "ProgressStyleModel",
          "model_module_version": "1.5.0",
          "state": {
            "_model_module": "@jupyter-widgets/controls",
            "_model_module_version": "1.5.0",
            "_model_name": "ProgressStyleModel",
            "_view_count": null,
            "_view_module": "@jupyter-widgets/base",
            "_view_module_version": "1.2.0",
            "_view_name": "StyleView",
            "bar_color": null,
            "description_width": ""
          }
        },
        "60410230aa004f51b3bbd28eee1eb8d9": {
          "model_module": "@jupyter-widgets/base",
          "model_name": "LayoutModel",
          "model_module_version": "1.2.0",
          "state": {
            "_model_module": "@jupyter-widgets/base",
            "_model_module_version": "1.2.0",
            "_model_name": "LayoutModel",
            "_view_count": null,
            "_view_module": "@jupyter-widgets/base",
            "_view_module_version": "1.2.0",
            "_view_name": "LayoutView",
            "align_content": null,
            "align_items": null,
            "align_self": null,
            "border": null,
            "bottom": null,
            "display": null,
            "flex": null,
            "flex_flow": null,
            "grid_area": null,
            "grid_auto_columns": null,
            "grid_auto_flow": null,
            "grid_auto_rows": null,
            "grid_column": null,
            "grid_gap": null,
            "grid_row": null,
            "grid_template_areas": null,
            "grid_template_columns": null,
            "grid_template_rows": null,
            "height": null,
            "justify_content": null,
            "justify_items": null,
            "left": null,
            "margin": null,
            "max_height": null,
            "max_width": null,
            "min_height": null,
            "min_width": null,
            "object_fit": null,
            "object_position": null,
            "order": null,
            "overflow": null,
            "overflow_x": null,
            "overflow_y": null,
            "padding": null,
            "right": null,
            "top": null,
            "visibility": null,
            "width": null
          }
        },
        "2e2212397982409b80a90e12b1a111c1": {
          "model_module": "@jupyter-widgets/controls",
          "model_name": "DescriptionStyleModel",
          "model_module_version": "1.5.0",
          "state": {
            "_model_module": "@jupyter-widgets/controls",
            "_model_module_version": "1.5.0",
            "_model_name": "DescriptionStyleModel",
            "_view_count": null,
            "_view_module": "@jupyter-widgets/base",
            "_view_module_version": "1.2.0",
            "_view_name": "StyleView",
            "description_width": ""
          }
        }
      }
    }
  },
  "cells": [
    {
      "cell_type": "markdown",
      "metadata": {
        "id": "view-in-github",
        "colab_type": "text"
      },
      "source": [
        "<a href=\"https://colab.research.google.com/github/Savith-02/notebooks/blob/main/nn_intent_classifier.ipynb\" target=\"_parent\"><img src=\"https://colab.research.google.com/assets/colab-badge.svg\" alt=\"Open In Colab\"/></a>"
      ]
    },
    {
      "cell_type": "code",
      "execution_count": 26,
      "metadata": {
        "colab": {
          "base_uri": "https://localhost:8080/"
        },
        "id": "B9jFXoOHZYAG",
        "outputId": "4e8d3f10-d030-4d90-f5ab-c8b00e8c4ec8"
      },
      "outputs": [
        {
          "output_type": "stream",
          "name": "stdout",
          "text": [
            "[('Greet', 'Hi'), ('Greet', 'Hello'), ('Greet', 'Hey there'), ('Greet', 'Good morning'), ('Greet', 'Howdy'), ('Greet', 'Hi there'), ('Greet', 'Hey'), ('Greet', 'Good afternoon'), ('Greet', 'Hello there'), ('Greet', 'Hi how can I help you?')]\n"
          ]
        }
      ],
      "source": [
        "def read_dataset(file_path):\n",
        "    data = []\n",
        "    with open(file_path, 'r') as file:\n",
        "        for line in file:\n",
        "            intent, sentence = line.strip().split(',')\n",
        "            data.append((intent.strip(), sentence.strip()))\n",
        "    return data\n",
        "\n",
        "file_path = \"drive/MyDrive/Code/rawData/data_small.txt\"\n",
        "dataset = read_dataset(file_path)[1:]\n",
        "print(dataset[:10])"
      ]
    },
    {
      "cell_type": "code",
      "source": [
        "intent_counts = {}\n",
        "for intent, _ in dataset:\n",
        "    if intent not in intent_counts:\n",
        "        intent_counts[intent] = 0\n",
        "    intent_counts[intent] += 1\n",
        "print(intent_counts)\n",
        "print(f\"Number of examples in dataset: {len(dataset)}\")"
      ],
      "metadata": {
        "colab": {
          "base_uri": "https://localhost:8080/"
        },
        "id": "8fRpvOzYZyNr",
        "outputId": "777aba60-9930-4095-cb3e-a765d47f2dd5"
      },
      "execution_count": 27,
      "outputs": [
        {
          "output_type": "stream",
          "name": "stdout",
          "text": [
            "{'Greet': 53, 'Farewell': 66, 'Inquiry': 50, 'Feedback': 50, 'Complaint': 38, 'Request': 50, 'Navigation': 58}\n",
            "Number of examples in dataset: 365\n"
          ]
        }
      ]
    },
    {
      "cell_type": "code",
      "source": [
        "all_sentences = set(sentence for intent, sentence in dataset)\n",
        "print(f\"All unique sentences count: {len(all_sentences)}\")"
      ],
      "metadata": {
        "colab": {
          "base_uri": "https://localhost:8080/"
        },
        "id": "al9Wbj_PdWNH",
        "outputId": "6fdea1d0-b06e-4a2c-fcbc-9d71b7afabeb"
      },
      "execution_count": 28,
      "outputs": [
        {
          "output_type": "stream",
          "name": "stdout",
          "text": [
            "All unique sentences count: 355\n"
          ]
        }
      ]
    },
    {
      "cell_type": "code",
      "source": [
        "# Check for duplicates\n",
        "# from collections import Counter\n",
        "# word_counts = Counter(sentence for intent, sentence in dataset)\n",
        "# word_counts"
      ],
      "metadata": {
        "id": "F71YYZb4dUKP"
      },
      "execution_count": 29,
      "outputs": []
    },
    {
      "cell_type": "code",
      "source": [
        "from itertools import chain\n",
        "\n",
        "all_words = set(chain(*[sentence.lower().split(\" \") for intent, sentence in dataset]))\n",
        "print(f\"All unique sentences count: {len(all_words)}\")"
      ],
      "metadata": {
        "colab": {
          "base_uri": "https://localhost:8080/"
        },
        "id": "g3xH2Wv6fxBG",
        "outputId": "792e8da6-20eb-488a-fe2b-6f6e627aed6f"
      },
      "execution_count": 30,
      "outputs": [
        {
          "output_type": "stream",
          "name": "stdout",
          "text": [
            "All unique sentences count: 723\n"
          ]
        }
      ]
    },
    {
      "cell_type": "code",
      "source": [
        "import torch\n",
        "import torch.nn as nn\n",
        "import torch.optim as optim\n",
        "import matplotlib.pyplot as plt\n",
        "import torch.optim as optim\n",
        "\n",
        "device = torch.device(\"cuda:0\" if torch.cuda.is_available() else \"cpu\")"
      ],
      "metadata": {
        "id": "9PE2p0FYZ1Ps"
      },
      "execution_count": 31,
      "outputs": []
    },
    {
      "cell_type": "code",
      "source": [
        "word_to_index = {char: i for i, char in enumerate(all_words)}\n",
        "print(f\"No of words: {len(all_words)}\")\n",
        "print(word_to_index.items())"
      ],
      "metadata": {
        "colab": {
          "base_uri": "https://localhost:8080/"
        },
        "id": "qpxu-BcwZ_1s",
        "outputId": "791db370-d194-4772-f69a-2a2acf1aba68"
      },
      "execution_count": 32,
      "outputs": [
        {
          "output_type": "stream",
          "name": "stdout",
          "text": [
            "No of words: 723\n",
            "dict_items([('hi', 0), ('new?', 1), ('bookmark', 2), ('york', 3), ('plumber?', 4), ('support?', 5), ('its', 6), ('delivery', 7), ('wait', 8), ('music', 9), ('hotel?', 10), ('upload', 11), ('could', 12), ('responsive.', 13), ('now!', 14), ('table', 15), ('innovative', 16), ('bill.', 17), ('issues.', 18), ('birthday?', 19), ('browsing', 20), ('thriving', 21), ('experience.', 22), ('do', 23), ('i', 24), ('looking', 25), (\"you've\", 26), (\"i've\", 27), ('section.', 28), ('unclear', 29), ('pm.', 30), ('paths', 31), ('information', 32), ('add', 33), ('howdy', 34), ('city?', 35), ('up!', 36), ('friend', 37), ('up?', 38), ('annoying.', 39), ('advanced', 40), ('trouble', 41), ('population', 42), ('whenever', 43), ('using', 44), ('issue.', 45), ('professional', 46), ('audio', 47), ('topic?', 48), ('future', 49), ('goodnight', 50), ('curve', 51), ('drive?', 52), ('restaurants', 53), ('historical', 54), ('job', 55), ('is', 56), ('help.', 57), ('serve', 58), ('yourself', 59), ('an', 60), ('python?', 61), ('am', 62), ('friend!', 63), ('won', 64), ('beginning', 65), ('traffic', 66), ('tool.', 67), ('menu', 68), ('account', 69), ('weekend.', 70), ('process', 71), ('new', 72), ('towards', 73), ('today?', 74), ('stop?', 75), ('accurately', 76), ('little', 77), ('support', 78), ('impairments.', 79), ('movie', 80), ('tonight?', 81), ('account.', 82), ('impact.', 83), ('aboard!', 84), ('organic', 85), ('kind', 86), ('incorrect.', 87), ('doctor', 88), ('navigate', 89), ('\"ambiguous.\"', 90), ('breeds?', 91), ('data', 92), ('others.', 93), ('play', 94), ('received.', 95), ('me?', 96), ('technology.', 97), ('would', 98), ('up', 99), ('customer', 100), ('room', 101), ('confident', 102), ('password?', 103), ('topic', 104), ('fit', 105), ('job.', 106), ('some', 107), ('capabilities.', 108), ('item', 109), ('city', 110), ('work.', 111), ('explain', 112), ('airport.', 113), ('resource', 114), ('our', 115), ('person', 116), ('results?', 117), ('understanding', 118), ('difficult', 119), ('book?', 120), ('through', 121), ('show', 122), ('found', 123), ('known', 124), ('care', 125), ('catch', 126), ('release?', 127), ('card?', 128), ('every', 129), ('other', 130), ('place', 131), ('break', 132), ('shopping', 133), ('order.', 134), ('easy!', 135), ('talk', 136), ('hotel', 137), ('file.', 138), ('cup', 139), ('page?', 140), ('reflect', 141), ('started', 142), ('can', 143), ('fastest', 144), ('understand', 145), ('open', 146), ('example', 147), ('seems', 148), ('fix', 149), ('destinations.', 150), ('window', 151), ('awesome!', 152), ('thank', 153), ('fast', 154), ('order', 155), ('late.', 156), ('outdated', 157), ('continues', 158), ('movies', 159), ('get', 160), ('seamless', 161), ('brightly', 162), (\"mornin'\", 163), ('was', 164), ('send', 165), ('filter', 166), ('task?', 167), ('share', 168), ('category', 169), ('recent', 170), ('problem.', 171), ('contact', 172), ('flights.', 173), ('hiking', 174), ('afternoon', 175), ('cookies?', 176), ('pick', 177), ('integration', 178), ('unhelpful.', 179), ('unexpectedly.', 180), ('powerful', 181), ('not-too-distant', 182), ('process?', 183), (\"let's\", 184), ('long', 185), ('temperature', 186), ('transportation', 187), ('lack', 188), ('very', 189), (\"how's\", 190), ('from', 191), ('these', 192), ('been?', 193), ('feedback', 194), ('for', 195), ('child', 196), ('commands?', 197), ('like', 198), ('positive.', 199), ('events', 200), ('dog', 201), ('clarify', 202), ('school?', 203), ('welcome', 204), ('goodbye', 205), ('this.', 206), ('summarize', 207), ('assistance', 208), (\"didn't\", 209), ('invaluable', 210), ('news?', 211), ('product.', 212), ('check', 213), ('really', 214), ('sushi-making', 215), ('time?', 216), ('many', 217), ('search', 218), ('error', 219), ('adventure', 220), ('system.', 221), ('bank', 222), ('local', 223), ('thought', 224), ('results.', 225), ('latest', 226), ('advice', 227), ('customization', 228), ('or', 229), ('definitely', 230), ('well', 231), ('happy', 232), ('clear', 233), ('chocolate', 234), ('point.', 235), ('news', 236), ('safe', 237), ('map', 238), ('fishing?', 239), ('exit', 240), ('evening', 241), ('who', 242), ('meeting', 243), ('great!', 244), ('if', 245), ('favorite', 246), ('refine', 247), ('times', 248), ('current', 249), ('brand', 250), ('fancy', 251), ('feature.', 252), ('next', 253), ('at', 254), ('responsive', 255), ('restart', 256), ('document?', 257), ('recipe', 258), ('fantastic', 259), ('convenient.', 260), ('package?', 261), ('problem', 262), ('delivery?', 263), ('balance?', 264), ('tomorrow', 265), ('content', 266), ('shining', 267), ('game', 268), ('of', 269), ('specializes', 270), ('options', 271), ('further', 272), (\"there's\", 273), ('layout', 274), ('article', 275), ('tools', 276), ('were', 277), ('chip', 278), ('track', 279), ('book', 280), ('app', 281), ('way', 282), ('performance', 283), ('will', 284), ('connect', 285), ('too', 286), ('bus', 287), ('best', 288), ('needed.', 289), ('asset', 290), ('work', 291), ('how', 292), ('accuracy', 293), (\"i'd\", 294), ('out', 295), ('morning.', 296), ('france?', 297), ('system', 298), ('watch', 299), ('needs.', 300), ('near', 301), ('disappointed', 302), ('issue?', 303), ('package', 304), ('works?', 305), ('visual', 306), ('before', 307), ('go', 308), ('keep', 309), ('developing', 310), ('expensive', 311), ('learning', 312), ('exchange', 313), ('tight!', 314), ('response', 315), ('concerned', 316), ('stories', 317), ('pleasure', 318), ('detailed', 319), ('having', 320), ('anything', 321), ('overall', 322), ('assistance.', 323), ('available.', 324), ('incredibly', 325), ('step', 326), ('valuable', 327), ('description', 328), ('shall', 329), ('definition', 330), ('related', 331), ('tab', 332), ('park?', 333), ('provided', 334), ('cross', 335), ('trail?', 336), ('progress', 337), ('have', 338), ('develop', 339), ('service.', 340), ('playing', 341), ('exceeded', 342), ('all!', 343), ('going?', 344), ('learn', 345), ('situation?', 346), ('terrible.', 347), ('later', 348), ('dissatisfied', 349), ('empire.', 350), ('faucet?', 351), ('ingredients', 352), ('tomorrow!', 353), ('so', 354), ('terminology', 355), ('tutorials', 356), ('requesting', 357), ('today.', 358), ('helpful.', 359), ('by', 360), ('your', 361), ('buy', 362), ('did', 363), ('log', 364), ('keeps', 365), ('tell', 366), ('meet', 367), ('song', 368), ('navigate.', 369), ('downtown?', 370), ('find', 371), ('pricing', 372), ('smiling', 373), ('edit', 374), ('later?', 375), ('adios', 376), ('below', 377), ('hiya', 378), ('into', 379), ('far', 380), ('beyond.', 381), ('mistake', 382), ('actually', 383), ('items', 384), ('in', 385), ('date', 386), ('significant', 387), ('but', 388), ('a', 389), ('make', 390), ('now', 391), ('getting', 392), ('going', 393), ('detail', 394), ('history?', 395), ('details.', 396), ('format?', 397), ('hello', 398), ('exactly', 399), ('crashing', 400), ('website', 401), ('response.', 402), ('disabilities.', 403), ('mailing', 404), ('return', 405), ('my', 406), ('access', 407), ('terms', 408), ('and', 409), ('everything?', 410), ('matter.', 411), ('results', 412), ('upgrade.', 413), ('take', 414), ('meaning', 415), ('spot', 416), ('prompt', 417), ('intuitive.', 418), ('gift', 419), ('town?', 420), ('appreciate', 421), ('used.', 422), ('set', 423), ('groceries?', 424), (\"o'\", 425), ('text', 426), ('everyone', 427), ('message', 428), ('cart?', 429), ('nearest', 430), ('glad', 431), ('clean', 432), ('attractions?', 433), ('need', 434), ('defective.', 435), ('main', 436), ('to?', 437), ('more', 438), ('long!', 439), ('provide', 440), ('here', 441), ('word?', 442), ('purchasing', 443), ('on', 444), ('list', 445), ('recipe.', 446), ('with', 447), ('doing', 448), ('restrictive.', 449), ('soon', 450), ('informative', 451), ('expected.', 452), ('save', 453), ('the', 454), ('please', 455), ('ya', 456), ('program', 457), ('video', 458), ('bye', 459), ('it.', 460), ('word', 461), ('expectations.', 462), ('...', 463), ('calories', 464), ('quality', 465), ('sort', 466), ('everyone!', 467), ('been', 468), ('assistance?', 469), ('additional', 470), ('change', 471), ('section', 472), ('work!', 473), ('settings', 474), ('guitar?', 475), ('ride-sharing', 476), ('later!', 477), ('help', 478), ('above', 479), ('coffee?', 480), ('market?', 481), ('feature', 482), ('strong', 483), ('tutorial', 484), ('ya!', 485), ('exceptional.', 486), ('fixing', 487), ('system?', 488), ('criteria', 489), ('forecast', 490), ('soon!', 491), ('frustrated', 492), ('assist', 493), ('euros?', 494), ('2', 495), ('calendar', 496), ('device?', 497), ('call', 498), ('rate', 499), ('has', 500), ('link', 501), ('print', 502), ('class!', 503), ('quite', 504), ('until', 505), ('that', 506), ('window.', 507), ('impressed', 508), ('product', 509), ('frequently.', 510), ('seeking', 511), ('are', 512), ('voice', 513), ('leaky', 514), ('you', 515), ('information?', 516), ('features', 517), ('model', 518), ('experience', 519), ('night?', 520), ('ways.', 521), ('regret', 522), ('warm', 523), ('calendar.', 524), ('banana?', 525), ('language', 526), ('see', 527), ('reviews', 528), ('previous', 529), ('spanish?', 530), ('query?', 531), ('great', 532), ('day!', 533), ('sleep', 534), ('efficient.', 535), ('you!', 536), ('available?', 537), ('understand.', 538), ('accessible', 539), ('no', 540), ('potential', 541), ('par.', 542), ('nice', 543), ('touch', 544), ('biased', 545), ('page', 546), ('top', 547), ('menu.', 548), ('user', 549), ('tourist', 550), (\"farmers'\", 551), ('theaters.', 552), ('future.', 553), ('there', 554), ('weather', 555), ('translate', 556), ('good', 557), ('doing?', 558), ('had', 559), ('advertised', 560), ('rent', 561), ('recommend', 562), ('bad', 563), ('7', 564), ('upcoming', 565), ('dog-friendly', 566), ('italian', 567), ('flip', 568), ('okay?', 569), ('stay', 570), ('privacy', 571), ('lot', 572), ('we', 573), ('color?', 574), ('facts', 575), ('logout', 576), ('specific', 577), ('answer?', 578), ('week?', 579), ('time', 580), ('solution', 581), ('class?', 582), ('customize', 583), ('close', 584), ('else', 585), (\"what's\", 586), ('went', 587), ('roman', 588), ('disappointing.', 589), ('last', 590), ('sunset?', 591), ('about', 592), ('paris', 593), ('again', 594), ('demographics.', 595), ('resolve', 596), ('price?', 597), ('reset', 598), ('what', 599), ('users', 600), ('awesome', 601), (\"i'm\", 602), ('love', 603), ('station?', 604), ('to', 605), ('much', 606), ('hey', 607), ('address?', 608), ('satisfied', 609), ('taxes', 610), ('scenic', 611), ('live', 612), ('thanks.', 613), ('morning', 614), ('pleased', 615), ('this', 616), ('use', 617), ('policies', 618), ('effective.', 619), ('food?', 620), ('interface', 621), ('team', 622), ('one', 623), ('back', 624), ('restaurant?', 625), ('unsatisfactory.', 626), ('pictures', 627), ('capital', 628), ('design', 629), ('car?', 630), ('we?', 631), ('pharmacy?', 632), ('online?', 633), ('as', 634), ('not', 635), ('app.', 636), ('try', 637), ('feels', 638), ('day', 639), ('company.', 640), ('where', 641), ('you.', 642), ('different', 643), ('problem?', 644), ('artist?', 645), ('be', 646), ('side', 647), ('level', 648), ('stargazing?', 649), ('friend?', 650), ('tickets?', 651), ('you?', 652), ('reliable', 653), ('helpful', 654), ('average', 655), ('particularly', 656), ('page.', 657), ('thanks', 658), ('visualization', 659), ('guide', 660), ('slight', 661), ('explore', 662), ('it', 663), ('this?', 664), ('then', 665), ('it!', 666), (\"it's\", 667), ('unacceptable.', 668), ('alarm', 669), ('further?', 670), ('schedule', 671), ('move', 672), ('appreciated.', 673), ('user-friendly.', 674), ('options.', 675), ('rendezvous', 676), ('support.', 677), ('service', 678), ('makes', 679), (\"mother's\", 680), ('excellent', 681), ('effort', 682), ('allergies?', 683), ('route', 684), ('pizza', 685), ('skip', 686), ('up.', 687), ('enroll', 688), ('excellent.', 689), ('center?', 690), ('me', 691), ('closest', 692), ('time!', 693), ('airport?', 694), ('rocking!', 695), ('functionality', 696), ('give', 697), ('library', 698), ('which', 699), ('happening?', 700), ('excited', 701), ('come', 702), ('explanations.', 703), ('year?', 704), ('poor.', 705), ('certain', 706), ('impressive.', 707), ('pet-friendly', 708), ('easy', 709), ('public', 710), ('expectations', 711), ('file', 712), ('reservation?', 713), ('buddy', 714), ('apply', 715), ('made', 716), ('service?', 717), ('gas', 718), ('travel', 719), ('goodnight!', 720), ('unhappy', 721), ('outcome.', 722)])\n"
          ]
        }
      ]
    },
    {
      "cell_type": "code",
      "source": [
        "all_intents = set(intent for intent, _ in dataset[1:])\n",
        "intent_to_index = {intent: i for i, intent in enumerate(all_intents)}\n",
        "index_to_intent = {intent: i for i, intent in intent_to_index.items()}\n",
        "\n",
        "print(f\"No of intents {len(all_intents)}\")\n",
        "print(intent_to_index.items())\n",
        "print(index_to_intent.items())"
      ],
      "metadata": {
        "colab": {
          "base_uri": "https://localhost:8080/"
        },
        "id": "mbmsFe3IaQls",
        "outputId": "f6dad163-f88d-4925-abf1-f926a8967aa6"
      },
      "execution_count": 33,
      "outputs": [
        {
          "output_type": "stream",
          "name": "stdout",
          "text": [
            "No of intents 7\n",
            "dict_items([('Inquiry', 0), ('Feedback', 1), ('Greet', 2), ('Farewell', 3), ('Request', 4), ('Complaint', 5), ('Navigation', 6)])\n",
            "dict_items([(0, 'Inquiry'), (1, 'Feedback'), (2, 'Greet'), (3, 'Farewell'), (4, 'Request'), (5, 'Complaint'), (6, 'Navigation')])\n"
          ]
        }
      ]
    },
    {
      "cell_type": "code",
      "source": [
        "def sentence_to_tensor(sentence):\n",
        "    tensor = torch.zeros(len(all_words)).to(device)\n",
        "    for i, word in enumerate(sentence.lower().split(\" \")):\n",
        "        if word in word_to_index:\n",
        "          tensor[word_to_index[word]] = 1\n",
        "\n",
        "    return tensor"
      ],
      "metadata": {
        "id": "CW4XiH4Rj4Ee"
      },
      "execution_count": 34,
      "outputs": []
    },
    {
      "cell_type": "code",
      "source": [
        "# def tensor_to_sentence(tensor, all_words, word_to_index):\n",
        "#     sentence = []\n",
        "#     for i in range(len(tensor)):\n",
        "#         if tensor[i] == 1:\n",
        "#             word = list(word_to_index.keys())[list(word_to_index.values()).index(i)]\n",
        "#             sentence.append(word)\n",
        "#     return \" \".join(sentence)"
      ],
      "metadata": {
        "id": "3hKDkeKcu7_G"
      },
      "execution_count": 35,
      "outputs": []
    },
    {
      "cell_type": "code",
      "source": [
        "from torch.utils.data import Dataset, DataLoader\n",
        "from sklearn.model_selection import train_test_split\n",
        "import torchvision.transforms as transforms\n",
        "\n",
        "class CustomDataset(Dataset):\n",
        "    def __init__(self, dataset, feature_transform=None, label_transform=None):\n",
        "        self.data = dataset\n",
        "        self.feature_transform = feature_transform\n",
        "        self.label_transform = label_transform\n",
        "    def __len__(self):\n",
        "        return len(self.data)\n",
        "\n",
        "    def __getitem__(self, idx):\n",
        "        sample = self.data[idx]\n",
        "        return label_transform[sample[0]], feature_transform(sample[1])\n",
        "            # sample[1] = self.transform(sample[1])\n"
      ],
      "metadata": {
        "id": "Q5l0VCoBlcgm"
      },
      "execution_count": 36,
      "outputs": []
    },
    {
      "cell_type": "code",
      "source": [
        "feature_transform = transforms.Compose([\n",
        "    sentence_to_tensor,\n",
        "])\n",
        "label_transform = intent_to_index"
      ],
      "metadata": {
        "id": "xtcBttw71sF4"
      },
      "execution_count": 37,
      "outputs": []
    },
    {
      "cell_type": "code",
      "source": [
        "from sklearn.model_selection import train_test_split\n",
        "\n",
        "training_data, test_data = train_test_split(dataset, test_size=0.4, random_state=42)"
      ],
      "metadata": {
        "id": "I4ZMexkRV5Gr"
      },
      "execution_count": 38,
      "outputs": []
    },
    {
      "cell_type": "code",
      "source": [
        "BATCH_SIZE = 32\n",
        "\n",
        "train_dataset = CustomDataset(training_data, feature_transform=feature_transform, label_transform=label_transform)\n",
        "train_dataloader = DataLoader(train_dataset, batch_size=32, shuffle=True, num_workers=2)\n",
        "\n",
        "test_dataset = CustomDataset(test_data, feature_transform=feature_transform, label_transform=label_transform)\n",
        "test_dataloader = DataLoader(test_dataset, batch_size=32, shuffle=False, num_workers=2)\n",
        "print(f\"Number of samples in training dataset: {len(train_dataset)}\")\n",
        "print(f\"Number of samples in cv dataset: {len(test_dataset)}\")"
      ],
      "metadata": {
        "id": "RnEfoGCamxIW",
        "colab": {
          "base_uri": "https://localhost:8080/"
        },
        "outputId": "821e3d02-120a-406a-d68f-a66cdaf712e3"
      },
      "execution_count": 39,
      "outputs": [
        {
          "output_type": "stream",
          "name": "stdout",
          "text": [
            "Number of samples in training dataset: 219\n",
            "Number of samples in cv dataset: 146\n"
          ]
        }
      ]
    },
    {
      "cell_type": "code",
      "source": [
        "for batch, (intent, sentence) in enumerate(train_dataloader):\n",
        "    if batch == 1:\n",
        "      break\n",
        "    print(sentence.shape)\n",
        "    print(intent.shape)\n",
        "    print(intent)\n",
        "    print(\"-----------\")"
      ],
      "metadata": {
        "colab": {
          "base_uri": "https://localhost:8080/"
        },
        "id": "gLE7vFqkocS-",
        "outputId": "1d3cbdd5-83e0-49fc-88f3-a15c335dce52"
      },
      "execution_count": 40,
      "outputs": [
        {
          "output_type": "stream",
          "name": "stdout",
          "text": [
            "torch.Size([32, 723])\n",
            "torch.Size([32])\n",
            "tensor([4, 5, 2, 3, 6, 4, 1, 4, 4, 2, 1, 0, 3, 1, 3, 5, 6, 4, 0, 6, 1, 5, 1, 3,\n",
            "        3, 0, 5, 4, 3, 5, 1, 0])\n",
            "-----------\n"
          ]
        }
      ]
    },
    {
      "cell_type": "code",
      "source": [
        "class MyModel(nn.Module):\n",
        "    def __init__(self, word_count, intent_class_count, hidden_units):\n",
        "        super(MyModel, self).__init__()\n",
        "        self.fc1 = nn.Linear(word_count, hidden_units)\n",
        "        self.fc2 = nn.Linear(hidden_units, intent_class_count)\n",
        "\n",
        "    def forward(self, x):\n",
        "        x = torch.relu(self.fc1(x))\n",
        "        x = self.fc2(x)\n",
        "        return x"
      ],
      "metadata": {
        "id": "BlCQAXnsHa_w"
      },
      "execution_count": 41,
      "outputs": []
    },
    {
      "cell_type": "code",
      "source": [
        "def train_step(model, dataloader, optimizer, loss_fn):\n",
        "\n",
        "    model.train()\n",
        "    train_loss, train_acc = 0, 0\n",
        "\n",
        "    for batch, (intent, sentence) in enumerate(dataloader):\n",
        "\n",
        "        train_pred_logits = model(sentence)\n",
        "        loss = loss_fn(train_pred_logits, intent)\n",
        "\n",
        "        model.zero_grad()\n",
        "        loss.backward()\n",
        "        optimizer.step()\n",
        "\n",
        "        train_loss += loss.item()\n",
        "        loss = loss_fn(train_pred_logits, intent)\n",
        "\n",
        "        train_pred_class = torch.argmax(torch.softmax(train_pred_logits, dim=1), dim=1)\n",
        "        train_acc += (train_pred_class == intent).sum().item() / len(train_pred_class)\n",
        "\n",
        "    train_loss = train_loss / len(dataloader)\n",
        "    train_acc = train_acc / len(dataloader)\n",
        "    return train_loss, train_acc"
      ],
      "metadata": {
        "id": "7ZesrEimLuja"
      },
      "execution_count": 42,
      "outputs": []
    },
    {
      "cell_type": "code",
      "source": [
        "def test_step(model, dataloader, loss_fn):\n",
        "\n",
        "    model.train()\n",
        "    train_loss, train_acc = 0, 0\n",
        "\n",
        "    for batch, (intent, sentence) in enumerate(dataloader):\n",
        "\n",
        "        train_pred_logits = model(sentence)\n",
        "        loss = loss_fn(train_pred_logits, intent)\n",
        "\n",
        "        train_loss += loss.item()\n",
        "        loss = loss_fn(train_pred_logits, intent)\n",
        "\n",
        "        train_pred_class = torch.argmax(torch.softmax(train_pred_logits, dim=1), dim=1)\n",
        "        train_acc += (train_pred_class == intent).sum().item() / len(train_pred_class)\n",
        "\n",
        "    train_loss = train_loss / len(dataloader)\n",
        "    train_acc = train_acc / len(dataloader)\n",
        "    return train_loss, train_acc"
      ],
      "metadata": {
        "id": "zZ-_DhdGPBkT"
      },
      "execution_count": 43,
      "outputs": []
    },
    {
      "cell_type": "code",
      "source": [
        "from tqdm.auto import tqdm\n",
        "\n",
        "def train(model, train_dataloader, test_dataloader, epochs, optimizer, loss_fn):\n",
        "\n",
        "    results = {\"train_loss\": [],\n",
        "        \"train_acc\": [],\n",
        "        \"test_loss\": [],\n",
        "        \"test_acc\": []\n",
        "    }\n",
        "    for epoch in tqdm(range(epochs)):\n",
        "          train_loss, train_acc = train_step(model=model,\n",
        "                                            dataloader=train_dataloader,\n",
        "                                            loss_fn=loss_fn,\n",
        "                                            optimizer=optimizer)\n",
        "\n",
        "          test_loss, test_acc = test_step(model=model,\n",
        "              dataloader=test_dataloader,\n",
        "              loss_fn=loss_fn)\n",
        "\n",
        "          print(\n",
        "              f\"Epoch: {epoch+1} | \"\n",
        "              f\"train_loss: {train_loss:.4f} | \"\n",
        "              f\"train_acc: {train_acc:.4f} | \"\n",
        "              f\"test_loss: {test_loss:.4f} | \"\n",
        "              f\"test_acc: {test_acc:.4f}\"\n",
        "          )\n",
        "\n",
        "          results[\"train_loss\"].append(train_loss)\n",
        "          results[\"train_acc\"].append(train_acc)\n",
        "          results[\"test_loss\"].append(test_loss)\n",
        "          results[\"test_acc\"].append(test_acc)\n",
        "\n",
        "    return results"
      ],
      "metadata": {
        "id": "QyVHFUeesWfM"
      },
      "execution_count": 44,
      "outputs": []
    },
    {
      "cell_type": "code",
      "source": [
        "model = MyModel(len(all_words), len(all_intents), 128)\n",
        "loss_fn = nn.CrossEntropyLoss()\n",
        "optimizer = torch.optim.Adam(params=model.parameters(), lr=0.001)"
      ],
      "metadata": {
        "id": "2VQ2mNmxPoGq"
      },
      "execution_count": 45,
      "outputs": []
    },
    {
      "cell_type": "code",
      "source": [
        "model_0_results = train(model, train_dataloader, test_dataloader, 100, optimizer, loss_fn)"
      ],
      "metadata": {
        "colab": {
          "base_uri": "https://localhost:8080/",
          "height": 1000,
          "referenced_widgets": [
            "a9b78870bb344d858d6d9eadef69c100",
            "973a6b11c3b644929ae028eceae4e7f9",
            "69a02d7f3c3d4cc0b502fc2fd7102a30",
            "be8e53b0e47f4466bb80f40eb2b0ba8e",
            "e01d7e850b0448d29fcb7f445f8ed617",
            "c15b722f83f5483a9b14b155463fd34c",
            "31509dc791d4432aa102d0823e4a1f89",
            "d994264d222e4f2db432a6733454c669",
            "0571e7c20c744c9f83c6cbbddb1edc72",
            "60410230aa004f51b3bbd28eee1eb8d9",
            "2e2212397982409b80a90e12b1a111c1"
          ]
        },
        "id": "Jbz_sjLfUjGl",
        "outputId": "a7b1e2fb-60f3-430f-d254-5a6a17316182"
      },
      "execution_count": 46,
      "outputs": [
        {
          "output_type": "display_data",
          "data": {
            "text/plain": [
              "  0%|          | 0/100 [00:00<?, ?it/s]"
            ],
            "application/vnd.jupyter.widget-view+json": {
              "version_major": 2,
              "version_minor": 0,
              "model_id": "a9b78870bb344d858d6d9eadef69c100"
            }
          },
          "metadata": {}
        },
        {
          "output_type": "stream",
          "name": "stdout",
          "text": [
            "Epoch: 1 | train_loss: 1.9351 | train_acc: 0.1515 | test_loss: 1.9266 | test_acc: 0.1062\n",
            "Epoch: 2 | train_loss: 1.8900 | train_acc: 0.1916 | test_loss: 1.9033 | test_acc: 0.1549\n",
            "Epoch: 3 | train_loss: 1.8417 | train_acc: 0.4190 | test_loss: 1.8742 | test_acc: 0.2410\n",
            "Epoch: 4 | train_loss: 1.7774 | train_acc: 0.5908 | test_loss: 1.8350 | test_acc: 0.4278\n",
            "Epoch: 5 | train_loss: 1.6990 | train_acc: 0.7450 | test_loss: 1.7840 | test_acc: 0.5486\n",
            "Epoch: 6 | train_loss: 1.5949 | train_acc: 0.8421 | test_loss: 1.7210 | test_acc: 0.6194\n",
            "Epoch: 7 | train_loss: 1.4796 | train_acc: 0.8912 | test_loss: 1.6477 | test_acc: 0.6319\n",
            "Epoch: 8 | train_loss: 1.3392 | train_acc: 0.9216 | test_loss: 1.5599 | test_acc: 0.6694\n",
            "Epoch: 9 | train_loss: 1.1902 | train_acc: 0.9395 | test_loss: 1.4648 | test_acc: 0.6944\n",
            "Epoch: 10 | train_loss: 1.0440 | train_acc: 0.9492 | test_loss: 1.3642 | test_acc: 0.7306\n",
            "Epoch: 11 | train_loss: 0.8981 | train_acc: 0.9671 | test_loss: 1.2609 | test_acc: 0.7431\n",
            "Epoch: 12 | train_loss: 0.7598 | train_acc: 0.9866 | test_loss: 1.1591 | test_acc: 0.7493\n",
            "Epoch: 13 | train_loss: 0.6371 | train_acc: 0.9911 | test_loss: 1.0629 | test_acc: 0.7806\n",
            "Epoch: 14 | train_loss: 0.5285 | train_acc: 1.0000 | test_loss: 0.9763 | test_acc: 0.7931\n",
            "Epoch: 15 | train_loss: 0.4347 | train_acc: 1.0000 | test_loss: 0.9034 | test_acc: 0.8118\n",
            "Epoch: 16 | train_loss: 0.3582 | train_acc: 1.0000 | test_loss: 0.8408 | test_acc: 0.8181\n",
            "Epoch: 17 | train_loss: 0.2980 | train_acc: 1.0000 | test_loss: 0.7906 | test_acc: 0.8007\n",
            "Epoch: 18 | train_loss: 0.2491 | train_acc: 1.0000 | test_loss: 0.7474 | test_acc: 0.8007\n",
            "Epoch: 19 | train_loss: 0.2109 | train_acc: 1.0000 | test_loss: 0.7132 | test_acc: 0.8007\n",
            "Epoch: 20 | train_loss: 0.1791 | train_acc: 1.0000 | test_loss: 0.6840 | test_acc: 0.8118\n",
            "Epoch: 21 | train_loss: 0.1541 | train_acc: 1.0000 | test_loss: 0.6600 | test_acc: 0.8118\n",
            "Epoch: 22 | train_loss: 0.1334 | train_acc: 1.0000 | test_loss: 0.6432 | test_acc: 0.8181\n",
            "Epoch: 23 | train_loss: 0.1161 | train_acc: 1.0000 | test_loss: 0.6263 | test_acc: 0.8181\n",
            "Epoch: 24 | train_loss: 0.1017 | train_acc: 1.0000 | test_loss: 0.6144 | test_acc: 0.8181\n",
            "Epoch: 25 | train_loss: 0.0907 | train_acc: 1.0000 | test_loss: 0.6042 | test_acc: 0.8181\n",
            "Epoch: 26 | train_loss: 0.0812 | train_acc: 1.0000 | test_loss: 0.5940 | test_acc: 0.8181\n",
            "Epoch: 27 | train_loss: 0.0732 | train_acc: 1.0000 | test_loss: 0.5867 | test_acc: 0.8181\n",
            "Epoch: 28 | train_loss: 0.0662 | train_acc: 1.0000 | test_loss: 0.5794 | test_acc: 0.8181\n",
            "Epoch: 29 | train_loss: 0.0602 | train_acc: 1.0000 | test_loss: 0.5725 | test_acc: 0.8181\n",
            "Epoch: 30 | train_loss: 0.0549 | train_acc: 1.0000 | test_loss: 0.5671 | test_acc: 0.8181\n",
            "Epoch: 31 | train_loss: 0.0507 | train_acc: 1.0000 | test_loss: 0.5623 | test_acc: 0.8292\n",
            "Epoch: 32 | train_loss: 0.0466 | train_acc: 1.0000 | test_loss: 0.5588 | test_acc: 0.8181\n",
            "Epoch: 33 | train_loss: 0.0428 | train_acc: 1.0000 | test_loss: 0.5560 | test_acc: 0.8181\n",
            "Epoch: 34 | train_loss: 0.0398 | train_acc: 1.0000 | test_loss: 0.5532 | test_acc: 0.8292\n",
            "Epoch: 35 | train_loss: 0.0368 | train_acc: 1.0000 | test_loss: 0.5499 | test_acc: 0.8292\n",
            "Epoch: 36 | train_loss: 0.0347 | train_acc: 1.0000 | test_loss: 0.5470 | test_acc: 0.8292\n",
            "Epoch: 37 | train_loss: 0.0321 | train_acc: 1.0000 | test_loss: 0.5445 | test_acc: 0.8292\n",
            "Epoch: 38 | train_loss: 0.0304 | train_acc: 1.0000 | test_loss: 0.5431 | test_acc: 0.8292\n",
            "Epoch: 39 | train_loss: 0.0283 | train_acc: 1.0000 | test_loss: 0.5400 | test_acc: 0.8292\n",
            "Epoch: 40 | train_loss: 0.0267 | train_acc: 1.0000 | test_loss: 0.5392 | test_acc: 0.8292\n",
            "Epoch: 41 | train_loss: 0.0252 | train_acc: 1.0000 | test_loss: 0.5379 | test_acc: 0.8292\n",
            "Epoch: 42 | train_loss: 0.0238 | train_acc: 1.0000 | test_loss: 0.5366 | test_acc: 0.8292\n",
            "Epoch: 43 | train_loss: 0.0225 | train_acc: 1.0000 | test_loss: 0.5345 | test_acc: 0.8292\n",
            "Epoch: 44 | train_loss: 0.0211 | train_acc: 1.0000 | test_loss: 0.5337 | test_acc: 0.8292\n",
            "Epoch: 45 | train_loss: 0.0202 | train_acc: 1.0000 | test_loss: 0.5324 | test_acc: 0.8292\n",
            "Epoch: 46 | train_loss: 0.0192 | train_acc: 1.0000 | test_loss: 0.5316 | test_acc: 0.8292\n",
            "Epoch: 47 | train_loss: 0.0182 | train_acc: 1.0000 | test_loss: 0.5309 | test_acc: 0.8292\n",
            "Epoch: 48 | train_loss: 0.0175 | train_acc: 1.0000 | test_loss: 0.5312 | test_acc: 0.8292\n",
            "Epoch: 49 | train_loss: 0.0164 | train_acc: 1.0000 | test_loss: 0.5296 | test_acc: 0.8292\n",
            "Epoch: 50 | train_loss: 0.0158 | train_acc: 1.0000 | test_loss: 0.5293 | test_acc: 0.8292\n",
            "Epoch: 51 | train_loss: 0.0151 | train_acc: 1.0000 | test_loss: 0.5287 | test_acc: 0.8292\n",
            "Epoch: 52 | train_loss: 0.0144 | train_acc: 1.0000 | test_loss: 0.5286 | test_acc: 0.8229\n",
            "Epoch: 53 | train_loss: 0.0139 | train_acc: 1.0000 | test_loss: 0.5289 | test_acc: 0.8229\n",
            "Epoch: 54 | train_loss: 0.0133 | train_acc: 1.0000 | test_loss: 0.5282 | test_acc: 0.8229\n",
            "Epoch: 55 | train_loss: 0.0127 | train_acc: 1.0000 | test_loss: 0.5275 | test_acc: 0.8229\n",
            "Epoch: 56 | train_loss: 0.0122 | train_acc: 1.0000 | test_loss: 0.5275 | test_acc: 0.8292\n",
            "Epoch: 57 | train_loss: 0.0118 | train_acc: 1.0000 | test_loss: 0.5273 | test_acc: 0.8292\n",
            "Epoch: 58 | train_loss: 0.0113 | train_acc: 1.0000 | test_loss: 0.5267 | test_acc: 0.8292\n",
            "Epoch: 59 | train_loss: 0.0109 | train_acc: 1.0000 | test_loss: 0.5267 | test_acc: 0.8292\n",
            "Epoch: 60 | train_loss: 0.0106 | train_acc: 1.0000 | test_loss: 0.5270 | test_acc: 0.8292\n",
            "Epoch: 61 | train_loss: 0.0102 | train_acc: 1.0000 | test_loss: 0.5270 | test_acc: 0.8292\n",
            "Epoch: 62 | train_loss: 0.0098 | train_acc: 1.0000 | test_loss: 0.5268 | test_acc: 0.8292\n",
            "Epoch: 63 | train_loss: 0.0095 | train_acc: 1.0000 | test_loss: 0.5265 | test_acc: 0.8292\n",
            "Epoch: 64 | train_loss: 0.0091 | train_acc: 1.0000 | test_loss: 0.5264 | test_acc: 0.8292\n",
            "Epoch: 65 | train_loss: 0.0088 | train_acc: 1.0000 | test_loss: 0.5267 | test_acc: 0.8292\n",
            "Epoch: 66 | train_loss: 0.0086 | train_acc: 1.0000 | test_loss: 0.5268 | test_acc: 0.8292\n",
            "Epoch: 67 | train_loss: 0.0083 | train_acc: 1.0000 | test_loss: 0.5275 | test_acc: 0.8292\n",
            "Epoch: 68 | train_loss: 0.0081 | train_acc: 1.0000 | test_loss: 0.5279 | test_acc: 0.8292\n",
            "Epoch: 69 | train_loss: 0.0078 | train_acc: 1.0000 | test_loss: 0.5275 | test_acc: 0.8292\n",
            "Epoch: 70 | train_loss: 0.0075 | train_acc: 1.0000 | test_loss: 0.5272 | test_acc: 0.8292\n",
            "Epoch: 71 | train_loss: 0.0073 | train_acc: 1.0000 | test_loss: 0.5275 | test_acc: 0.8292\n",
            "Epoch: 72 | train_loss: 0.0071 | train_acc: 1.0000 | test_loss: 0.5278 | test_acc: 0.8292\n",
            "Epoch: 73 | train_loss: 0.0069 | train_acc: 1.0000 | test_loss: 0.5281 | test_acc: 0.8292\n",
            "Epoch: 74 | train_loss: 0.0067 | train_acc: 1.0000 | test_loss: 0.5275 | test_acc: 0.8292\n",
            "Epoch: 75 | train_loss: 0.0065 | train_acc: 1.0000 | test_loss: 0.5276 | test_acc: 0.8292\n",
            "Epoch: 76 | train_loss: 0.0063 | train_acc: 1.0000 | test_loss: 0.5280 | test_acc: 0.8292\n",
            "Epoch: 77 | train_loss: 0.0061 | train_acc: 1.0000 | test_loss: 0.5280 | test_acc: 0.8292\n",
            "Epoch: 78 | train_loss: 0.0061 | train_acc: 1.0000 | test_loss: 0.5285 | test_acc: 0.8292\n",
            "Epoch: 79 | train_loss: 0.0058 | train_acc: 1.0000 | test_loss: 0.5287 | test_acc: 0.8292\n",
            "Epoch: 80 | train_loss: 0.0056 | train_acc: 1.0000 | test_loss: 0.5287 | test_acc: 0.8292\n",
            "Epoch: 81 | train_loss: 0.0055 | train_acc: 1.0000 | test_loss: 0.5286 | test_acc: 0.8292\n",
            "Epoch: 82 | train_loss: 0.0054 | train_acc: 1.0000 | test_loss: 0.5289 | test_acc: 0.8292\n",
            "Epoch: 83 | train_loss: 0.0053 | train_acc: 1.0000 | test_loss: 0.5290 | test_acc: 0.8292\n",
            "Epoch: 84 | train_loss: 0.0052 | train_acc: 1.0000 | test_loss: 0.5291 | test_acc: 0.8292\n",
            "Epoch: 85 | train_loss: 0.0050 | train_acc: 1.0000 | test_loss: 0.5298 | test_acc: 0.8292\n",
            "Epoch: 86 | train_loss: 0.0049 | train_acc: 1.0000 | test_loss: 0.5304 | test_acc: 0.8292\n",
            "Epoch: 87 | train_loss: 0.0047 | train_acc: 1.0000 | test_loss: 0.5308 | test_acc: 0.8292\n",
            "Epoch: 88 | train_loss: 0.0046 | train_acc: 1.0000 | test_loss: 0.5308 | test_acc: 0.8292\n",
            "Epoch: 89 | train_loss: 0.0046 | train_acc: 1.0000 | test_loss: 0.5311 | test_acc: 0.8292\n",
            "Epoch: 90 | train_loss: 0.0045 | train_acc: 1.0000 | test_loss: 0.5319 | test_acc: 0.8292\n",
            "Epoch: 91 | train_loss: 0.0043 | train_acc: 1.0000 | test_loss: 0.5315 | test_acc: 0.8292\n",
            "Epoch: 92 | train_loss: 0.0042 | train_acc: 1.0000 | test_loss: 0.5320 | test_acc: 0.8292\n",
            "Epoch: 93 | train_loss: 0.0042 | train_acc: 1.0000 | test_loss: 0.5324 | test_acc: 0.8292\n",
            "Epoch: 94 | train_loss: 0.0041 | train_acc: 1.0000 | test_loss: 0.5325 | test_acc: 0.8292\n",
            "Epoch: 95 | train_loss: 0.0040 | train_acc: 1.0000 | test_loss: 0.5328 | test_acc: 0.8292\n",
            "Epoch: 96 | train_loss: 0.0038 | train_acc: 1.0000 | test_loss: 0.5332 | test_acc: 0.8292\n",
            "Epoch: 97 | train_loss: 0.0038 | train_acc: 1.0000 | test_loss: 0.5333 | test_acc: 0.8292\n",
            "Epoch: 98 | train_loss: 0.0037 | train_acc: 1.0000 | test_loss: 0.5337 | test_acc: 0.8292\n",
            "Epoch: 99 | train_loss: 0.0036 | train_acc: 1.0000 | test_loss: 0.5341 | test_acc: 0.8292\n",
            "Epoch: 100 | train_loss: 0.0035 | train_acc: 1.0000 | test_loss: 0.5345 | test_acc: 0.8292\n"
          ]
        }
      ]
    },
    {
      "cell_type": "code",
      "source": [
        "fig, ax = plt.subplots(figsize=(8, 6))\n",
        "ax.plot(model_0_results[\"train_loss\"], label=\"Train Loss\")\n",
        "ax.plot(model_0_results[\"test_loss\"], label=\"Test Loss\")\n",
        "ax.set_xlabel(\"Epoch\")\n",
        "ax.set_ylabel(\"Loss\")\n",
        "ax.set_title(\"Training and Test Loss\")\n",
        "ax.legend()\n",
        "plt.show()"
      ],
      "metadata": {
        "colab": {
          "base_uri": "https://localhost:8080/",
          "height": 564
        },
        "id": "khIsB_QXWXqp",
        "outputId": "9936c249-ca15-43d7-b36c-14aa4ed5ac29"
      },
      "execution_count": 47,
      "outputs": [
        {
          "output_type": "display_data",
          "data": {
            "text/plain": [
              "<Figure size 800x600 with 1 Axes>"
            ],
            "image/png": "[encoded data removed]"
          },
          "metadata": {}
        }
      ]
    },
    {
      "cell_type": "code",
      "source": [
        "def predict(model, input_data):\n",
        "    with torch.no_grad():\n",
        "        pred_logits = model(input_data)\n",
        "        pred_class = torch.argmax(torch.softmax(pred_logits, dim=0), dim=0)\n",
        "\n",
        "        return index_to_intent[pred_class.item()]"
      ],
      "metadata": {
        "id": "ArZtzjNLXa2m"
      },
      "execution_count": 48,
      "outputs": []
    },
    {
      "cell_type": "code",
      "source": [
        "print(predict(model,  sentence_to_tensor(\"hI frIend?\")))"
      ],
      "metadata": {
        "colab": {
          "base_uri": "https://localhost:8080/"
        },
        "id": "r2U11n2YYBfD",
        "outputId": "869d81e9-c9cf-4dfd-89a5-20038a1d765a"
      },
      "execution_count": 50,
      "outputs": [
        {
          "output_type": "stream",
          "name": "stdout",
          "text": [
            "Greet\n"
          ]
        }
      ]
    },
    {
      "cell_type": "code",
      "source": [],
      "metadata": {
        "id": "GHovbKwknUMf"
      },
      "execution_count": null,
      "outputs": []
    }
  ]
}