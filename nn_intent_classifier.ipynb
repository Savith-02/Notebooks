{
  "nbformat": 4,
  "nbformat_minor": 0,
  "metadata": {
    "colab": {
      "provenance": [],
      "gpuType": "T4",
      "mount_file_id": "1Nf927wR4OdskN9km_0vkQpG2mmrAKSbI",
      "authorship_tag": "ABX9TyOKiyg7MgCxtWyhz2Gxx3RT",
      "include_colab_link": true
    },
    "kernelspec": {
      "name": "python3",
      "display_name": "Python 3"
    },
    "language_info": {
      "name": "python"
    },
    "accelerator": "GPU",
    "widgets": {
      "application/vnd.jupyter.widget-state+json": {
        "a327b2f574c243ebb890f6b8248d4eec": {
          "model_module": "@jupyter-widgets/controls",
          "model_name": "HBoxModel",
          "model_module_version": "1.5.0",
          "state": {
            "_dom_classes": [],
            "_model_module": "@jupyter-widgets/controls",
            "_model_module_version": "1.5.0",
            "_model_name": "HBoxModel",
            "_view_count": null,
            "_view_module": "@jupyter-widgets/controls",
            "_view_module_version": "1.5.0",
            "_view_name": "HBoxView",
            "box_style": "",
            "children": [
              "IPY_MODEL_ae3e0be859754f90a303986b7335610b",
              "IPY_MODEL_8e98544e91974bfca500789977163ec9",
              "IPY_MODEL_293b199f2c1e47c38516512b86edb71f"
            ],
            "layout": "IPY_MODEL_ab65afde5e334e7f8a13d8ba1351b2d1"
          }
        },
        "ae3e0be859754f90a303986b7335610b": {
          "model_module": "@jupyter-widgets/controls",
          "model_name": "HTMLModel",
          "model_module_version": "1.5.0",
          "state": {
            "_dom_classes": [],
            "_model_module": "@jupyter-widgets/controls",
            "_model_module_version": "1.5.0",
            "_model_name": "HTMLModel",
            "_view_count": null,
            "_view_module": "@jupyter-widgets/controls",
            "_view_module_version": "1.5.0",
            "_view_name": "HTMLView",
            "description": "",
            "description_tooltip": null,
            "layout": "IPY_MODEL_4ae05d3b869649188aaf2fd64cec0718",
            "placeholder": "​",
            "style": "IPY_MODEL_75a6e34680fe48388a028b7b015d373d",
            "value": "100%"
          }
        },
        "8e98544e91974bfca500789977163ec9": {
          "model_module": "@jupyter-widgets/controls",
          "model_name": "FloatProgressModel",
          "model_module_version": "1.5.0",
          "state": {
            "_dom_classes": [],
            "_model_module": "@jupyter-widgets/controls",
            "_model_module_version": "1.5.0",
            "_model_name": "FloatProgressModel",
            "_view_count": null,
            "_view_module": "@jupyter-widgets/controls",
            "_view_module_version": "1.5.0",
            "_view_name": "ProgressView",
            "bar_style": "success",
            "description": "",
            "description_tooltip": null,
            "layout": "IPY_MODEL_efd085d9d24a43e483c374cbc146c103",
            "max": 100,
            "min": 0,
            "orientation": "horizontal",
            "style": "IPY_MODEL_421dddca4a8d462fb51aec9428bbbeeb",
            "value": 100
          }
        },
        "293b199f2c1e47c38516512b86edb71f": {
          "model_module": "@jupyter-widgets/controls",
          "model_name": "HTMLModel",
          "model_module_version": "1.5.0",
          "state": {
            "_dom_classes": [],
            "_model_module": "@jupyter-widgets/controls",
            "_model_module_version": "1.5.0",
            "_model_name": "HTMLModel",
            "_view_count": null,
            "_view_module": "@jupyter-widgets/controls",
            "_view_module_version": "1.5.0",
            "_view_name": "HTMLView",
            "description": "",
            "description_tooltip": null,
            "layout": "IPY_MODEL_626e661b1e2f467fb8cf291020457b5e",
            "placeholder": "​",
            "style": "IPY_MODEL_aa95c45789354806b0ce6d58c2b6fbdb",
            "value": " 100/100 [00:48&lt;00:00,  2.12it/s]"
          }
        },
        "ab65afde5e334e7f8a13d8ba1351b2d1": {
          "model_module": "@jupyter-widgets/base",
          "model_name": "LayoutModel",
          "model_module_version": "1.2.0",
          "state": {
            "_model_module": "@jupyter-widgets/base",
            "_model_module_version": "1.2.0",
            "_model_name": "LayoutModel",
            "_view_count": null,
            "_view_module": "@jupyter-widgets/base",
            "_view_module_version": "1.2.0",
            "_view_name": "LayoutView",
            "align_content": null,
            "align_items": null,
            "align_self": null,
            "border": null,
            "bottom": null,
            "display": null,
            "flex": null,
            "flex_flow": null,
            "grid_area": null,
            "grid_auto_columns": null,
            "grid_auto_flow": null,
            "grid_auto_rows": null,
            "grid_column": null,
            "grid_gap": null,
            "grid_row": null,
            "grid_template_areas": null,
            "grid_template_columns": null,
            "grid_template_rows": null,
            "height": null,
            "justify_content": null,
            "justify_items": null,
            "left": null,
            "margin": null,
            "max_height": null,
            "max_width": null,
            "min_height": null,
            "min_width": null,
            "object_fit": null,
            "object_position": null,
            "order": null,
            "overflow": null,
            "overflow_x": null,
            "overflow_y": null,
            "padding": null,
            "right": null,
            "top": null,
            "visibility": null,
            "width": null
          }
        },
        "4ae05d3b869649188aaf2fd64cec0718": {
          "model_module": "@jupyter-widgets/base",
          "model_name": "LayoutModel",
          "model_module_version": "1.2.0",
          "state": {
            "_model_module": "@jupyter-widgets/base",
            "_model_module_version": "1.2.0",
            "_model_name": "LayoutModel",
            "_view_count": null,
            "_view_module": "@jupyter-widgets/base",
            "_view_module_version": "1.2.0",
            "_view_name": "LayoutView",
            "align_content": null,
            "align_items": null,
            "align_self": null,
            "border": null,
            "bottom": null,
            "display": null,
            "flex": null,
            "flex_flow": null,
            "grid_area": null,
            "grid_auto_columns": null,
            "grid_auto_flow": null,
            "grid_auto_rows": null,
            "grid_column": null,
            "grid_gap": null,
            "grid_row": null,
            "grid_template_areas": null,
            "grid_template_columns": null,
            "grid_template_rows": null,
            "height": null,
            "justify_content": null,
            "justify_items": null,
            "left": null,
            "margin": null,
            "max_height": null,
            "max_width": null,
            "min_height": null,
            "min_width": null,
            "object_fit": null,
            "object_position": null,
            "order": null,
            "overflow": null,
            "overflow_x": null,
            "overflow_y": null,
            "padding": null,
            "right": null,
            "top": null,
            "visibility": null,
            "width": null
          }
        },
        "75a6e34680fe48388a028b7b015d373d": {
          "model_module": "@jupyter-widgets/controls",
          "model_name": "DescriptionStyleModel",
          "model_module_version": "1.5.0",
          "state": {
            "_model_module": "@jupyter-widgets/controls",
            "_model_module_version": "1.5.0",
            "_model_name": "DescriptionStyleModel",
            "_view_count": null,
            "_view_module": "@jupyter-widgets/base",
            "_view_module_version": "1.2.0",
            "_view_name": "StyleView",
            "description_width": ""
          }
        },
        "efd085d9d24a43e483c374cbc146c103": {
          "model_module": "@jupyter-widgets/base",
          "model_name": "LayoutModel",
          "model_module_version": "1.2.0",
          "state": {
            "_model_module": "@jupyter-widgets/base",
            "_model_module_version": "1.2.0",
            "_model_name": "LayoutModel",
            "_view_count": null,
            "_view_module": "@jupyter-widgets/base",
            "_view_module_version": "1.2.0",
            "_view_name": "LayoutView",
            "align_content": null,
            "align_items": null,
            "align_self": null,
            "border": null,
            "bottom": null,
            "display": null,
            "flex": null,
            "flex_flow": null,
            "grid_area": null,
            "grid_auto_columns": null,
            "grid_auto_flow": null,
            "grid_auto_rows": null,
            "grid_column": null,
            "grid_gap": null,
            "grid_row": null,
            "grid_template_areas": null,
            "grid_template_columns": null,
            "grid_template_rows": null,
            "height": null,
            "justify_content": null,
            "justify_items": null,
            "left": null,
            "margin": null,
            "max_height": null,
            "max_width": null,
            "min_height": null,
            "min_width": null,
            "object_fit": null,
            "object_position": null,
            "order": null,
            "overflow": null,
            "overflow_x": null,
            "overflow_y": null,
            "padding": null,
            "right": null,
            "top": null,
            "visibility": null,
            "width": null
          }
        },
        "421dddca4a8d462fb51aec9428bbbeeb": {
          "model_module": "@jupyter-widgets/controls",
          "model_name": "ProgressStyleModel",
          "model_module_version": "1.5.0",
          "state": {
            "_model_module": "@jupyter-widgets/controls",
            "_model_module_version": "1.5.0",
            "_model_name": "ProgressStyleModel",
            "_view_count": null,
            "_view_module": "@jupyter-widgets/base",
            "_view_module_version": "1.2.0",
            "_view_name": "StyleView",
            "bar_color": null,
            "description_width": ""
          }
        },
        "626e661b1e2f467fb8cf291020457b5e": {
          "model_module": "@jupyter-widgets/base",
          "model_name": "LayoutModel",
          "model_module_version": "1.2.0",
          "state": {
            "_model_module": "@jupyter-widgets/base",
            "_model_module_version": "1.2.0",
            "_model_name": "LayoutModel",
            "_view_count": null,
            "_view_module": "@jupyter-widgets/base",
            "_view_module_version": "1.2.0",
            "_view_name": "LayoutView",
            "align_content": null,
            "align_items": null,
            "align_self": null,
            "border": null,
            "bottom": null,
            "display": null,
            "flex": null,
            "flex_flow": null,
            "grid_area": null,
            "grid_auto_columns": null,
            "grid_auto_flow": null,
            "grid_auto_rows": null,
            "grid_column": null,
            "grid_gap": null,
            "grid_row": null,
            "grid_template_areas": null,
            "grid_template_columns": null,
            "grid_template_rows": null,
            "height": null,
            "justify_content": null,
            "justify_items": null,
            "left": null,
            "margin": null,
            "max_height": null,
            "max_width": null,
            "min_height": null,
            "min_width": null,
            "object_fit": null,
            "object_position": null,
            "order": null,
            "overflow": null,
            "overflow_x": null,
            "overflow_y": null,
            "padding": null,
            "right": null,
            "top": null,
            "visibility": null,
            "width": null
          }
        },
        "aa95c45789354806b0ce6d58c2b6fbdb": {
          "model_module": "@jupyter-widgets/controls",
          "model_name": "DescriptionStyleModel",
          "model_module_version": "1.5.0",
          "state": {
            "_model_module": "@jupyter-widgets/controls",
            "_model_module_version": "1.5.0",
            "_model_name": "DescriptionStyleModel",
            "_view_count": null,
            "_view_module": "@jupyter-widgets/base",
            "_view_module_version": "1.2.0",
            "_view_name": "StyleView",
            "description_width": ""
          }
        }
      }
    }
  },
  "cells": [
    {
      "cell_type": "markdown",
      "metadata": {
        "id": "view-in-github",
        "colab_type": "text"
      },
      "source": [
        "<a href=\"https://colab.research.google.com/github/Savith-02/notebooks/blob/main/nn_intent_classifier.ipynb\" target=\"_parent\"><img src=\"https://colab.research.google.com/assets/colab-badge.svg\" alt=\"Open In Colab\"/></a>"
      ]
    },
    {
      "cell_type": "code",
      "execution_count": 531,
      "metadata": {
        "colab": {
          "base_uri": "https://localhost:8080/"
        },
        "id": "B9jFXoOHZYAG",
        "outputId": "af5fb78f-7637-4a64-d84a-c8ada6a1854a"
      },
      "outputs": [
        {
          "output_type": "stream",
          "name": "stdout",
          "text": [
            "[('Greet', 'Hi'), ('Greet', 'Hello'), ('Greet', 'Hey there'), ('Greet', 'Good morning'), ('Greet', 'Howdy'), ('Greet', 'Hi there'), ('Greet', 'Hey'), ('Greet', 'Good afternoon'), ('Greet', 'Hello there'), ('Greet', 'Hi how can I help you?')]\n"
          ]
        }
      ],
      "source": [
        "def read_dataset(file_path):\n",
        "    data = []\n",
        "    with open(file_path, 'r') as file:\n",
        "        for line in file:\n",
        "            intent, sentence = line.strip().split(',')\n",
        "            data.append((intent.strip(), sentence.strip()))\n",
        "    return data\n",
        "\n",
        "file_path = \"drive/MyDrive/Code/rawData/data_small.txt\"\n",
        "dataset = read_dataset(file_path)[1:]\n",
        "print(dataset[:10])"
      ]
    },
    {
      "cell_type": "code",
      "source": [
        "intent_counts = {}\n",
        "for intent, _ in dataset:\n",
        "    if intent not in intent_counts:\n",
        "        intent_counts[intent] = 0\n",
        "    intent_counts[intent] += 1\n",
        "print(intent_counts)\n",
        "print(f\"Number of examples in dataset: {len(dataset)}\")\n",
        "print(f\"Number of examples in training dataset: {len(training_data)}\")\n",
        "print(f\"Number of examples in cv dataset: {len(test_data)}\")"
      ],
      "metadata": {
        "colab": {
          "base_uri": "https://localhost:8080/"
        },
        "id": "8fRpvOzYZyNr",
        "outputId": "a6265cc5-90cf-4f73-be5a-8c838ca16e12"
      },
      "execution_count": 532,
      "outputs": [
        {
          "output_type": "stream",
          "name": "stdout",
          "text": [
            "{'Greet': 53, 'Farewell': 66, 'Inquiry': 50, 'Feedback': 50, 'Complaint': 38, 'Request': 50, 'Navigation': 58}\n",
            "Number of examples in dataset: 365\n",
            "Number of examples in training dataset: 219\n",
            "Number of examples in cv dataset: 146\n"
          ]
        }
      ]
    },
    {
      "cell_type": "code",
      "source": [
        "all_sentences = set(sentence for intent, sentence in dataset)\n",
        "print(f\"All unique sentences count: {len(all_sentences)}\")"
      ],
      "metadata": {
        "colab": {
          "base_uri": "https://localhost:8080/"
        },
        "id": "al9Wbj_PdWNH",
        "outputId": "856437a8-5bb2-4141-f53e-6fb39da96a57"
      },
      "execution_count": 533,
      "outputs": [
        {
          "output_type": "stream",
          "name": "stdout",
          "text": [
            "All unique sentences count: 355\n"
          ]
        }
      ]
    },
    {
      "cell_type": "code",
      "source": [
        "# Check for duplicates\n",
        "# from collections import Counter\n",
        "# word_counts = Counter(sentence for intent, sentence in dataset)\n",
        "# word_counts"
      ],
      "metadata": {
        "id": "F71YYZb4dUKP"
      },
      "execution_count": 534,
      "outputs": []
    },
    {
      "cell_type": "code",
      "source": [
        "from itertools import chain\n",
        "\n",
        "all_words = set(chain(*[sentence.lower().split(\" \") for intent, sentence in dataset]))\n",
        "print(f\"All unique sentences count: {len(all_words)}\")"
      ],
      "metadata": {
        "colab": {
          "base_uri": "https://localhost:8080/"
        },
        "id": "g3xH2Wv6fxBG",
        "outputId": "050a3a6c-cc42-4412-f5f3-6753d732a9c1"
      },
      "execution_count": 535,
      "outputs": [
        {
          "output_type": "stream",
          "name": "stdout",
          "text": [
            "All unique sentences count: 723\n"
          ]
        }
      ]
    },
    {
      "cell_type": "code",
      "source": [
        "import torch\n",
        "import torch.nn as nn\n",
        "import torch.optim as optim\n",
        "import matplotlib.pyplot as plt\n",
        "import torch.optim as optim\n",
        "\n",
        "device = torch.device(\"cuda:0\" if torch.cuda.is_available() else \"cpu\")"
      ],
      "metadata": {
        "id": "9PE2p0FYZ1Ps"
      },
      "execution_count": 536,
      "outputs": []
    },
    {
      "cell_type": "code",
      "source": [
        "word_to_index = {char: i for i, char in enumerate(all_words)}\n",
        "print(f\"No of words: {len(all_words)}\")\n",
        "print(word_to_index.items())"
      ],
      "metadata": {
        "colab": {
          "base_uri": "https://localhost:8080/"
        },
        "id": "qpxu-BcwZ_1s",
        "outputId": "fafcd388-ab17-42a0-a149-7c15ade5d70e"
      },
      "execution_count": 537,
      "outputs": [
        {
          "output_type": "stream",
          "name": "stdout",
          "text": [
            "No of words: 723\n",
            "dict_items([('way', 0), ('share', 1), ('until', 2), ('color?', 3), ('doing', 4), ('assist', 5), ('solution', 6), ('excellent', 7), ('pm.', 8), ('by', 9), ('lot', 10), ('reliable', 11), ('seamless', 12), ('soon!', 13), ('change', 14), ('navigate', 15), ('and', 16), ('many', 17), ('explanations.', 18), ('advanced', 19), ('easy!', 20), ('incorrect.', 21), ('understand', 22), (\"mornin'\", 23), ('bookmark', 24), ('one', 25), ('leaky', 26), ('up?', 27), ('make', 28), ('effort', 29), ('impairments.', 30), ('year?', 31), ('hiking', 32), ('hotel', 33), ('works?', 34), ('pricing', 35), ('fit', 36), ('goodbye', 37), ('glad', 38), ('issue?', 39), ('items', 40), ('help', 41), ('message', 42), ('easy', 43), ('tutorial', 44), ('tight!', 45), ('here', 46), (\"there's\", 47), ('shall', 48), ('next', 49), ('awesome', 50), ('explain', 51), ('mailing', 52), ('certain', 53), (\"farmers'\", 54), ('summarize', 55), ('responsive', 56), ('new?', 57), ('query?', 58), ('all!', 59), ('upload', 60), ('issues.', 61), ('section', 62), ('pharmacy?', 63), ('hotel?', 64), ('job', 65), ('france?', 66), ('below', 67), ('adventure', 68), ('shopping', 69), ('problem.', 70), ('everything?', 71), ('trouble', 72), ('prompt', 73), ('reflect', 74), ('allergies?', 75), ('tourist', 76), ('show', 77), ('section.', 78), ('dissatisfied', 79), ('provide', 80), ('would', 81), ('poor.', 82), ('bad', 83), ('later?', 84), ('the', 85), ('send', 86), ('support?', 87), ('outcome.', 88), ('break', 89), ('gas', 90), ('a', 91), ('temperature', 92), ('available?', 93), ('different', 94), ('friend', 95), ('problem?', 96), ('cookies?', 97), ('main', 98), ('these', 99), ('goodnight', 100), ('disappointing.', 101), ('tomorrow', 102), ('else', 103), ('like', 104), ('brightly', 105), ('favorite', 106), ('stories', 107), ('stay', 108), ('euros?', 109), ('demographics.', 110), ('fancy', 111), ('effective.', 112), ('work', 113), ('meaning', 114), ('meet', 115), ('every', 116), ('matter.', 117), ('long!', 118), ('spot', 119), ('2', 120), ('pizza', 121), ('ya!', 122), ('recipe.', 123), ('thanks.', 124), ('downtown?', 125), ('user-friendly.', 126), ('am', 127), ('gift', 128), ('7', 129), ('system?', 130), ('touch', 131), ('class?', 132), ('through', 133), ('banana?', 134), ('public', 135), ('flights.', 136), ('unsatisfactory.', 137), ('unacceptable.', 138), ('efficient.', 139), ('list', 140), ('defective.', 141), ('reviews', 142), ('taxes', 143), ('again', 144), ('used.', 145), ('route', 146), ('weekend.', 147), ('account', 148), ('data', 149), ('hi', 150), ('coffee?', 151), ('so', 152), ('everyone', 153), (\"how's\", 154), ('this.', 155), ('paths', 156), ('issue.', 157), ('hello', 158), ('catch', 159), ('nice', 160), ('feature.', 161), ('significant', 162), ('get', 163), ('up.', 164), ('are', 165), ('process?', 166), (\"what's\", 167), ('do', 168), ('some', 169), ('learn', 170), ('options', 171), ('aboard!', 172), ('history?', 173), ('pleasure', 174), ('news?', 175), ('work.', 176), ('difficult', 177), ('upgrade.', 178), ('window', 179), ('there', 180), ('this', 181), ('with', 182), ('traffic', 183), ('time', 184), ('side', 185), ('population', 186), ('clean', 187), ('spanish?', 188), ('app', 189), ('further?', 190), ('nearest', 191), ('biased', 192), ('everyone!', 193), ('tab', 194), ('fix', 195), ('stop?', 196), ('book?', 197), ('person', 198), ('our', 199), ('needed.', 200), ('intuitive.', 201), ('meeting', 202), ('accessible', 203), ('at', 204), ('back', 205), ('that', 206), ('actually', 207), ('but', 208), ('for', 209), ('getting', 210), ('slight', 211), ('afternoon', 212), ('potential', 213), ('in', 214), ('fantastic', 215), ('previous', 216), ('particularly', 217), ('friend!', 218), ('service', 219), ('product.', 220), ('ways.', 221), ('my', 222), ('python?', 223), ('pleased', 224), ('thanks', 225), ('balance?', 226), ('...', 227), ('known', 228), ('customize', 229), ('you', 230), ('job.', 231), ('has', 232), ('tools', 233), ('room', 234), ('developing', 235), ('resource', 236), ('error', 237), ('skip', 238), ('movie', 239), ('explore', 240), ('talk', 241), ('me', 242), ('edit', 243), ('terminology', 244), ('exceeded', 245), ('purchasing', 246), ('tool.', 247), ('definitely', 248), ('into', 249), ('menu', 250), ('privacy', 251), ('product', 252), ('no', 253), ('really', 254), ('hey', 255), ('long', 256), ('pictures', 257), ('concerned', 258), ('went', 259), ('calendar', 260), ('keep', 261), ('article', 262), ('understanding', 263), ('design', 264), ('hiya', 265), ('continues', 266), ('file', 267), (\"o'\", 268), ('paris', 269), ('accuracy', 270), ('document?', 271), ('organic', 272), ('process', 273), ('smiling', 274), ('calories', 275), ('interface', 276), ('develop', 277), ('from', 278), ('point.', 279), ('informative', 280), ('which', 281), ('reservation?', 282), ('needs.', 283), ('service?', 284), ('it', 285), ('anything', 286), ('bank', 287), ('functionality', 288), ('expectations', 289), ('station?', 290), ('late.', 291), ('results', 292), ('description', 293), ('very', 294), ('me?', 295), ('as', 296), ('rocking!', 297), ('we', 298), ('save', 299), ('rendezvous', 300), ('responsive.', 301), ('much', 302), ('unhappy', 303), ('this?', 304), ('visualization', 305), ('morning', 306), ('clarify', 307), ('play', 308), ('center?', 309), ('advertised', 310), ('well', 311), ('who', 312), ('its', 313), ('assistance', 314), ('app.', 315), ('to', 316), ('warm', 317), ('local', 318), ('contact', 319), ('package?', 320), ('how', 321), ('stargazing?', 322), ('additional', 323), ('adios', 324), ('game', 325), ('schedule', 326), ('clear', 327), ('order', 328), ('place', 329), ('outdated', 330), ('made', 331), ('good', 332), ('excellent.', 333), ('menu.', 334), ('having', 335), ('playing', 336), ('sleep', 337), ('feature', 338), ('time!', 339), ('watch', 340), ('progress', 341), ('assistance?', 342), ('book', 343), ('voice', 344), ('assistance.', 345), ('logout', 346), ('or', 347), ('positive.', 348), ('support', 349), ('visual', 350), ('seems', 351), ('later', 352), ('provided', 353), ('night?', 354), ('was', 355), ('annoying.', 356), ('you.', 357), ('sunset?', 358), ('accurately', 359), ('sort', 360), (\"i'd\", 361), ('italian', 362), ('ingredients', 363), ('out', 364), ('restart', 365), ('response.', 366), ('content', 367), ('week?', 368), ('close', 369), ('faucet?', 370), ('customer', 371), ('pet-friendly', 372), ('advice', 373), ('happening?', 374), ('page.', 375), ('thought', 376), ('whenever', 377), ('disabilities.', 378), ('online?', 379), (\"you've\", 380), ('exactly', 381), ('dog-friendly', 382), ('mistake', 383), ('performance', 384), ('before', 385), ('more', 386), ('morning.', 387), ('track', 388), ('guitar?', 389), ('access', 390), ('what', 391), ('artist?', 392), ('safe', 393), ('move', 394), ('if', 395), ('delivery', 396), ('service.', 397), ('team', 398), ('happy', 399), (\"it's\", 400), ('specific', 401), ('groceries?', 402), ('empire.', 403), ('awesome!', 404), ('best', 405), ('word?', 406), ('not', 407), ('plumber?', 408), ('events', 409), ('york', 410), ('crashing', 411), ('page?', 412), ('take', 413), ('go', 414), ('could', 415), ('navigate.', 416), ('company.', 417), ('technology.', 418), ('users', 419), ('thriving', 420), ('capital', 421), (\"let's\", 422), (\"i'm\", 423), ('transportation', 424), ('up!', 425), ('today?', 426), ('ya', 427), ('information', 428), ('news', 429), ('frustrated', 430), ('understand.', 431), ('far', 432), ('other', 433), ('policies', 434), ('give', 435), ('serve', 436), ('impressed', 437), ('sushi-making', 438), ('destinations.', 439), ('recipe', 440), (\"mother's\", 441), ('fast', 442), ('pick', 443), ('buy', 444), ('professional', 445), ('song', 446), ('find', 447), ('task?', 448), ('wait', 449), ('frequently.', 450), ('category', 451), ('impressive.', 452), ('it!', 453), ('return', 454), ('keeps', 455), ('facts', 456), ('tomorrow!', 457), ('see', 458), ('par.', 459), ('powerful', 460), ('chocolate', 461), ('today.', 462), ('love', 463), ('come', 464), ('system', 465), ('music', 466), ('your', 467), ('be', 468), ('chip', 469), ('bill.', 470), ('where', 471), ('time?', 472), ('excited', 473), ('exit', 474), ('to?', 475), ('price?', 476), ('movies', 477), ('doing?', 478), ('requesting', 479), ('disappointed', 480), ('exchange', 481), ('roman', 482), ('tell', 483), ('evening', 484), ('resolve', 485), ('flip', 486), ('file.', 487), ('dog', 488), ('forecast', 489), ('about', 490), ('support.', 491), ('page', 492), ('is', 493), ('city', 494), ('friend?', 495), ('going?', 496), ('library', 497), ('details.', 498), ('appreciated.', 499), ('add', 500), ('expensive', 501), ('helpful', 502), ('print', 503), ('level', 504), ('cart?', 505), ('quality', 506), ('unclear', 507), (\"didn't\", 508), ('can', 509), ('using', 510), ('later!', 511), ('log', 512), ('specializes', 513), ('valuable', 514), ('delivery?', 515), ('okay?', 516), ('detailed', 517), ('brand', 518), ('class!', 519), ('website', 520), ('release?', 521), ('features', 522), ('strong', 523), ('bus', 524), ('open', 525), ('results.', 526), ('ride-sharing', 527), ('thank', 528), ('received.', 529), ('situation?', 530), ('set', 531), ('curve', 532), ('shining', 533), ('language', 534), ('beginning', 535), ('innovative', 536), ('tutorials', 537), ('connect', 538), ('\"ambiguous.\"', 539), ('information?', 540), ('link', 541), ('too', 542), ('welcome', 543), ('tickets?', 544), ('going', 545), ('invaluable', 546), ('doctor', 547), ('problem', 548), ('of', 549), ('appreciate', 550), ('now', 551), ('reset', 552), ('beyond.', 553), ('an', 554), ('please', 555), ('had', 556), ('recent', 557), ('latest', 558), ('live', 559), ('lack', 560), ('learning', 561), ('regret', 562), ('user', 563), ('definition', 564), ('day!', 565), ('work!', 566), ('unhelpful.', 567), ('little', 568), ('city?', 569), ('weather', 570), ('won', 571), ('looking', 572), ('up', 573), ('seeking', 574), ('rate', 575), ('text', 576), ('incredibly', 577), ('response', 578), ('care', 579), ('terrible.', 580), ('breeds?', 581), ('times', 582), ('model', 583), ('package', 584), ('program', 585), ('rent', 586), ('kind', 587), ('near', 588), ('were', 589), ('answer?', 590), ('search', 591), ('experience.', 592), ('exceptional.', 593), ('great!', 594), ('translate', 595), ('audio', 596), ('unexpectedly.', 597), ('date', 598), ('feedback', 599), ('topic', 600), ('child', 601), ('new', 602), ('restaurant?', 603), ('upcoming', 604), ('confident', 605), ('airport?', 606), ('experience', 607), ('use', 608), ('calendar.', 609), ('refine', 610), ('bye', 611), ('cross', 612), ('overall', 613), ('check', 614), ('settings', 615), ('customization', 616), ('enroll', 617), ('it.', 618), ('howdy', 619), ('recommend', 620), ('historical', 621), ('account.', 622), ('buddy', 623), ('soon', 624), ('table', 625), ('impact.', 626), ('theaters.', 627), ('fishing?', 628), ('terms', 629), ('topic?', 630), ('did', 631), ('on', 632), ('car?', 633), ('have', 634), ('item', 635), ('will', 636), ('i', 637), ('detail', 638), ('capabilities.', 639), ('alarm', 640), ('format?', 641), ('criteria', 642), ('food?', 643), ('password?', 644), ('need', 645), ('town?', 646), ('drive?', 647), ('available.', 648), ('card?', 649), ('future.', 650), ('asset', 651), ('related', 652), ('park?', 653), ('browsing', 654), ('great', 655), ('been', 656), ('market?', 657), ('you!', 658), ('day', 659), ('apply', 660), ('attractions?', 661), ('helpful.', 662), ('convenient.', 663), ('device?', 664), ('tonight?', 665), ('yourself', 666), ('last', 667), ('call', 668), ('fastest', 669), ('restrictive.', 670), ('options.', 671), ('airport.', 672), ('expected.', 673), ('been?', 674), ('try', 675), ('results?', 676), ('top', 677), ('example', 678), ('cup', 679), (\"i've\", 680), ('average', 681), ('expectations.', 682), ('window.', 683), ('guide', 684), ('you?', 685), ('filter', 686), ('closest', 687), ('above', 688), ('further', 689), ('now!', 690), ('quite', 691), ('goodnight!', 692), ('feels', 693), ('map', 694), ('started', 695), ('birthday?', 696), ('trail?', 697), ('travel', 698), ('not-too-distant', 699), ('help.', 700), ('fixing', 701), ('video', 702), ('commands?', 703), ('others.', 704), ('system.', 705), ('word', 706), ('satisfied', 707), ('then', 708), ('layout', 709), ('towards', 710), ('school?', 711), ('restaurants', 712), ('integration', 713), ('scenic', 714), ('step', 715), ('current', 716), ('future', 717), ('order.', 718), ('found', 719), ('address?', 720), ('we?', 721), ('makes', 722)])\n"
          ]
        }
      ]
    },
    {
      "cell_type": "code",
      "source": [
        "all_intents = set(intent for intent, _ in dataset[1:])\n",
        "intent_to_index = {intent: i for i, intent in enumerate(all_intents)}\n",
        "index_to_intent = {intent: i for i, intent in intent_to_index.items()}\n",
        "\n",
        "print(f\"No of intents {len(all_intents)}\")\n",
        "print(intent_to_index.items())\n",
        "print(index_to_intent.items())"
      ],
      "metadata": {
        "colab": {
          "base_uri": "https://localhost:8080/"
        },
        "id": "mbmsFe3IaQls",
        "outputId": "2d023df3-a536-4eb1-d967-9d7c3bb7dd1e"
      },
      "execution_count": 538,
      "outputs": [
        {
          "output_type": "stream",
          "name": "stdout",
          "text": [
            "No of intents 7\n",
            "dict_items([('Feedback', 0), ('Greet', 1), ('Complaint', 2), ('Inquiry', 3), ('Navigation', 4), ('Request', 5), ('Farewell', 6)])\n",
            "dict_items([(0, 'Feedback'), (1, 'Greet'), (2, 'Complaint'), (3, 'Inquiry'), (4, 'Navigation'), (5, 'Request'), (6, 'Farewell')])\n"
          ]
        }
      ]
    },
    {
      "cell_type": "code",
      "source": [
        "def sentence_to_tensor(sentence):\n",
        "    # print(sentence)\n",
        "    tensor = torch.zeros(len(all_words)).to(device)\n",
        "    for i, word in enumerate(sentence.lower().split(\" \")):\n",
        "        tensor[word_to_index[word]] = 1\n",
        "\n",
        "    return tensor"
      ],
      "metadata": {
        "id": "CW4XiH4Rj4Ee"
      },
      "execution_count": 539,
      "outputs": []
    },
    {
      "cell_type": "code",
      "source": [
        "# def tensor_to_sentence(tensor, all_words, word_to_index):\n",
        "#     sentence = []\n",
        "#     for i in range(len(tensor)):\n",
        "#         if tensor[i] == 1:\n",
        "#             word = list(word_to_index.keys())[list(word_to_index.values()).index(i)]\n",
        "#             sentence.append(word)\n",
        "#     return \" \".join(sentence)\n"
      ],
      "metadata": {
        "id": "3hKDkeKcu7_G"
      },
      "execution_count": 540,
      "outputs": []
    },
    {
      "cell_type": "code",
      "source": [
        "from torch.utils.data import Dataset, DataLoader\n",
        "from sklearn.model_selection import train_test_split\n",
        "import torchvision.transforms as transforms\n",
        "\n",
        "class CustomDataset(Dataset):\n",
        "    def __init__(self, dataset, feature_transform=None, label_transform=None):\n",
        "        self.data = dataset\n",
        "        self.feature_transform = feature_transform\n",
        "        self.label_transform = label_transform\n",
        "    def __len__(self):\n",
        "        return len(self.data)\n",
        "\n",
        "    def __getitem__(self, idx):\n",
        "        sample = self.data[idx]\n",
        "        return label_transform[sample[0]], feature_transform(sample[1])\n",
        "            # sample[1] = self.transform(sample[1])\n"
      ],
      "metadata": {
        "id": "Q5l0VCoBlcgm"
      },
      "execution_count": 541,
      "outputs": []
    },
    {
      "cell_type": "code",
      "source": [
        "feature_transform = transforms.Compose([\n",
        "    sentence_to_tensor,\n",
        "])\n",
        "label_transform = intent_to_index"
      ],
      "metadata": {
        "id": "xtcBttw71sF4"
      },
      "execution_count": 542,
      "outputs": []
    },
    {
      "cell_type": "code",
      "source": [
        "from sklearn.model_selection import train_test_split\n",
        "\n",
        "training_data, test_data = train_test_split(dataset, test_size=0.4, random_state=42)"
      ],
      "metadata": {
        "id": "I4ZMexkRV5Gr"
      },
      "execution_count": 543,
      "outputs": []
    },
    {
      "cell_type": "code",
      "source": [
        "BATCH_SIZE = 32\n",
        "\n",
        "train_dataset = CustomDataset(training_data, feature_transform=feature_transform, label_transform=label_transform)\n",
        "train_dataloader = DataLoader(train_dataset, batch_size=32, shuffle=True, num_workers=2)\n",
        "\n",
        "test_dataset = CustomDataset(test_data, feature_transform=feature_transform, label_transform=label_transform)\n",
        "test_dataloader = DataLoader(test_dataset, batch_size=32, shuffle=False, num_workers=2)"
      ],
      "metadata": {
        "id": "RnEfoGCamxIW"
      },
      "execution_count": 544,
      "outputs": []
    },
    {
      "cell_type": "code",
      "source": [
        "# Access individual samples from the dataset\n",
        "# for i in range(len(train_dataset[5:10])):\n",
        "#     sample = train_dataset[i]\n",
        "    # print(sample)"
      ],
      "metadata": {
        "id": "DxJ_7NgcoMgr"
      },
      "execution_count": 545,
      "outputs": []
    },
    {
      "cell_type": "code",
      "source": [
        "for batch, (intent, sentence) in enumerate(train_loader):\n",
        "    if batch == 15:\n",
        "      break\n",
        "    print(sentence.shape)\n",
        "    print(intent.shape)\n",
        "    print(intent)\n",
        "\n",
        "    # print(sentence)\n",
        "    # print(len(sentence))\n",
        "    print(\"-----------\")"
      ],
      "metadata": {
        "colab": {
          "base_uri": "https://localhost:8080/"
        },
        "id": "gLE7vFqkocS-",
        "outputId": "de9f8178-5dca-4aa5-c11e-995cfe216801"
      },
      "execution_count": 546,
      "outputs": [
        {
          "output_type": "stream",
          "name": "stdout",
          "text": [
            "torch.Size([32, 723])\n",
            "torch.Size([32])\n",
            "tensor([3, 0, 5, 1, 6, 6, 5, 0, 4, 6, 4, 1, 5, 2, 0, 1, 5, 2, 6, 6, 3, 6, 3, 5,\n",
            "        0, 1, 4, 1, 4, 4, 5, 6])\n",
            "-----------\n",
            "torch.Size([32, 723])\n",
            "torch.Size([32])\n",
            "tensor([5, 2, 6, 3, 6, 0, 1, 4, 0, 5, 3, 0, 5, 3, 3, 5, 6, 4, 0, 6, 0, 3, 1, 6,\n",
            "        0, 1, 2, 6, 1, 0, 2, 0])\n",
            "-----------\n",
            "torch.Size([32, 723])\n",
            "torch.Size([32])\n",
            "tensor([4, 0, 3, 1, 6, 0, 4, 2, 2, 6, 5, 4, 0, 0, 5, 0, 0, 5, 4, 3, 1, 1, 4, 4,\n",
            "        3, 6, 4, 1, 0, 5, 6, 3])\n",
            "-----------\n",
            "torch.Size([32, 723])\n",
            "torch.Size([32])\n",
            "tensor([0, 4, 6, 5, 3, 3, 0, 4, 2, 1, 0, 3, 6, 5, 1, 6, 3, 0, 6, 3, 1, 2, 2, 4,\n",
            "        3, 5, 4, 5, 4, 0, 3, 1])\n",
            "-----------\n",
            "torch.Size([32, 723])\n",
            "torch.Size([32])\n",
            "tensor([1, 0, 2, 4, 4, 1, 5, 3, 5, 5, 5, 6, 3, 0, 6, 4, 0, 5, 1, 1, 2, 4, 4, 5,\n",
            "        1, 2, 1, 3, 0, 6, 5, 3])\n",
            "-----------\n",
            "torch.Size([32, 723])\n",
            "torch.Size([32])\n",
            "tensor([6, 3, 1, 5, 1, 6, 4, 5, 1, 3, 0, 2, 2, 2, 2, 6, 2, 6, 4, 5, 4, 3, 5, 1,\n",
            "        3, 0, 6, 2, 6, 2, 3, 1])\n",
            "-----------\n"
          ]
        }
      ]
    },
    {
      "cell_type": "code",
      "source": [
        "class MyModel(nn.Module):\n",
        "    def __init__(self, word_count, intent_class_count, hidden_units):\n",
        "        super(MyModel, self).__init__()\n",
        "        self.fc1 = nn.Linear(word_count, hidden_units)\n",
        "        self.fc2 = nn.Linear(hidden_units, intent_class_count)\n",
        "\n",
        "    def forward(self, x):\n",
        "        x = torch.relu(self.fc1(x))\n",
        "        x = self.fc2(x)\n",
        "        return x"
      ],
      "metadata": {
        "id": "BlCQAXnsHa_w"
      },
      "execution_count": 547,
      "outputs": []
    },
    {
      "cell_type": "code",
      "source": [
        "def train_step(model, dataloader, optimizer, loss_fn):\n",
        "\n",
        "    model.train()\n",
        "    train_loss, train_acc = 0, 0\n",
        "\n",
        "    for batch, (intent, sentence) in enumerate(dataloader):\n",
        "\n",
        "        # intent_tensor = intent_to_tensor(intent)\n",
        "        train_pred_logits = model(sentence)\n",
        "        loss = loss_fn(train_pred_logits, intent)\n",
        "\n",
        "        model.zero_grad()\n",
        "        loss.backward()\n",
        "        optimizer.step()\n",
        "\n",
        "        train_loss += loss.item()\n",
        "        loss = loss_fn(train_pred_logits, intent)\n",
        "\n",
        "        train_pred_class = torch.argmax(torch.softmax(train_pred_logits, dim=1), dim=1)\n",
        "        train_acc += (train_pred_class == intent).sum().item() / len(train_pred_class)\n",
        "\n",
        "    # Adjust metrics to get average loss and accuracy per batch\n",
        "    train_loss = train_loss / len(dataloader)\n",
        "    train_acc = train_acc / len(dataloader)\n",
        "    return train_loss, train_acc"
      ],
      "metadata": {
        "id": "7ZesrEimLuja"
      },
      "execution_count": 548,
      "outputs": []
    },
    {
      "cell_type": "code",
      "source": [
        "def test_step(model, dataloader, loss_fn):\n",
        "\n",
        "    model.train()\n",
        "    train_loss, train_acc = 0, 0\n",
        "\n",
        "    for batch, (intent, sentence) in enumerate(dataloader):\n",
        "\n",
        "        # intent_tensor = intent_to_tensor(intent)\n",
        "        train_pred_logits = model(sentence)\n",
        "        loss = loss_fn(train_pred_logits, intent)\n",
        "\n",
        "        train_loss += loss.item()\n",
        "        loss = loss_fn(train_pred_logits, intent)\n",
        "\n",
        "        train_pred_class = torch.argmax(torch.softmax(train_pred_logits, dim=1), dim=1)\n",
        "        train_acc += (train_pred_class == intent).sum().item() / len(train_pred_class)\n",
        "\n",
        "    # Adjust metrics to get average loss and accuracy per batch\n",
        "    train_loss = train_loss / len(dataloader)\n",
        "    train_acc = train_acc / len(dataloader)\n",
        "    return train_loss, train_acc"
      ],
      "metadata": {
        "id": "zZ-_DhdGPBkT"
      },
      "execution_count": 549,
      "outputs": []
    },
    {
      "cell_type": "code",
      "source": [
        "from tqdm.auto import tqdm\n",
        "\n",
        "def train(model, train_dataloader, test_dataloader, epochs, optimizer, loss_fn):\n",
        "\n",
        "    results = {\"train_loss\": [],\n",
        "        \"train_acc\": [],\n",
        "        \"test_loss\": [],\n",
        "        \"test_acc\": []\n",
        "    }\n",
        "    for epoch in tqdm(range(epochs)):\n",
        "          train_loss, train_acc = train_step(model=model,\n",
        "                                            dataloader=train_dataloader,\n",
        "                                            loss_fn=loss_fn,\n",
        "                                            optimizer=optimizer)\n",
        "\n",
        "          test_loss, test_acc = test_step(model=model,\n",
        "              dataloader=test_dataloader,\n",
        "              loss_fn=loss_fn)\n",
        "\n",
        "          # 4. Print out what's happening\n",
        "          print(\n",
        "              f\"Epoch: {epoch+1} | \"\n",
        "              f\"train_loss: {train_loss:.4f} | \"\n",
        "              f\"train_acc: {train_acc:.4f} | \"\n",
        "              f\"test_loss: {test_loss:.4f} | \"\n",
        "              f\"test_acc: {test_acc:.4f}\"\n",
        "          )\n",
        "\n",
        "          # 5. Update results dictionary\n",
        "          results[\"train_loss\"].append(train_loss)\n",
        "          results[\"train_acc\"].append(train_acc)\n",
        "          results[\"test_loss\"].append(test_loss)\n",
        "          results[\"test_acc\"].append(test_acc)\n",
        "\n",
        "      # 6. Return the filled results at the end of the epochs\n",
        "    return results"
      ],
      "metadata": {
        "id": "QyVHFUeesWfM"
      },
      "execution_count": 550,
      "outputs": []
    },
    {
      "cell_type": "code",
      "source": [
        "model = MyModel(len(all_words), len(all_intents), 128)\n",
        "loss_fn = nn.CrossEntropyLoss()\n",
        "optimizer = torch.optim.Adam(params=model.parameters(), lr=0.001)"
      ],
      "metadata": {
        "id": "2VQ2mNmxPoGq"
      },
      "execution_count": 551,
      "outputs": []
    },
    {
      "cell_type": "code",
      "source": [
        "model_0_results = train(model, train_dataloader, test_dataloader, 100, optimizer, loss_fn)"
      ],
      "metadata": {
        "colab": {
          "base_uri": "https://localhost:8080/",
          "height": 1000,
          "referenced_widgets": [
            "a327b2f574c243ebb890f6b8248d4eec",
            "ae3e0be859754f90a303986b7335610b",
            "8e98544e91974bfca500789977163ec9",
            "293b199f2c1e47c38516512b86edb71f",
            "ab65afde5e334e7f8a13d8ba1351b2d1",
            "4ae05d3b869649188aaf2fd64cec0718",
            "75a6e34680fe48388a028b7b015d373d",
            "efd085d9d24a43e483c374cbc146c103",
            "421dddca4a8d462fb51aec9428bbbeeb",
            "626e661b1e2f467fb8cf291020457b5e",
            "aa95c45789354806b0ce6d58c2b6fbdb"
          ]
        },
        "id": "Jbz_sjLfUjGl",
        "outputId": "b535117a-283a-4c2c-d89b-00329bc37f22"
      },
      "execution_count": 552,
      "outputs": [
        {
          "output_type": "display_data",
          "data": {
            "text/plain": [
              "  0%|          | 0/100 [00:00<?, ?it/s]"
            ],
            "application/vnd.jupyter.widget-view+json": {
              "version_major": 2,
              "version_minor": 0,
              "model_id": "a327b2f574c243ebb890f6b8248d4eec"
            }
          },
          "metadata": {}
        },
        {
          "output_type": "stream",
          "name": "stdout",
          "text": [
            "Epoch: 1 | train_loss: 1.9382 | train_acc: 0.2351 | test_loss: 1.9320 | test_acc: 0.2931\n",
            "Epoch: 2 | train_loss: 1.8933 | train_acc: 0.4921 | test_loss: 1.9079 | test_acc: 0.3653\n",
            "Epoch: 3 | train_loss: 1.8428 | train_acc: 0.6147 | test_loss: 1.8777 | test_acc: 0.4674\n",
            "Epoch: 4 | train_loss: 1.7817 | train_acc: 0.7288 | test_loss: 1.8367 | test_acc: 0.5208\n",
            "Epoch: 5 | train_loss: 1.6989 | train_acc: 0.7994 | test_loss: 1.7834 | test_acc: 0.6146\n",
            "Epoch: 6 | train_loss: 1.6003 | train_acc: 0.8555 | test_loss: 1.7188 | test_acc: 0.6382\n",
            "Epoch: 7 | train_loss: 1.4753 | train_acc: 0.8867 | test_loss: 1.6395 | test_acc: 0.6632\n",
            "Epoch: 8 | train_loss: 1.3406 | train_acc: 0.8948 | test_loss: 1.5515 | test_acc: 0.6757\n",
            "Epoch: 9 | train_loss: 1.1917 | train_acc: 0.9233 | test_loss: 1.4546 | test_acc: 0.6944\n",
            "Epoch: 10 | train_loss: 1.0376 | train_acc: 0.9509 | test_loss: 1.3496 | test_acc: 0.7257\n",
            "Epoch: 11 | train_loss: 0.8876 | train_acc: 0.9777 | test_loss: 1.2470 | test_acc: 0.7382\n",
            "Epoch: 12 | train_loss: 0.7527 | train_acc: 0.9813 | test_loss: 1.1441 | test_acc: 0.7444\n",
            "Epoch: 13 | train_loss: 0.6253 | train_acc: 0.9911 | test_loss: 1.0508 | test_acc: 0.7632\n",
            "Epoch: 14 | train_loss: 0.5201 | train_acc: 1.0000 | test_loss: 0.9689 | test_acc: 0.7882\n",
            "Epoch: 15 | train_loss: 0.4316 | train_acc: 1.0000 | test_loss: 0.8946 | test_acc: 0.7944\n",
            "Epoch: 16 | train_loss: 0.3577 | train_acc: 1.0000 | test_loss: 0.8330 | test_acc: 0.7944\n",
            "Epoch: 17 | train_loss: 0.2975 | train_acc: 1.0000 | test_loss: 0.7848 | test_acc: 0.7882\n",
            "Epoch: 18 | train_loss: 0.2498 | train_acc: 1.0000 | test_loss: 0.7450 | test_acc: 0.7944\n",
            "Epoch: 19 | train_loss: 0.2115 | train_acc: 1.0000 | test_loss: 0.7106 | test_acc: 0.8007\n",
            "Epoch: 20 | train_loss: 0.1791 | train_acc: 1.0000 | test_loss: 0.6852 | test_acc: 0.8007\n",
            "Epoch: 21 | train_loss: 0.1550 | train_acc: 1.0000 | test_loss: 0.6626 | test_acc: 0.8056\n",
            "Epoch: 22 | train_loss: 0.1360 | train_acc: 1.0000 | test_loss: 0.6452 | test_acc: 0.8118\n",
            "Epoch: 23 | train_loss: 0.1188 | train_acc: 1.0000 | test_loss: 0.6306 | test_acc: 0.8118\n",
            "Epoch: 24 | train_loss: 0.1040 | train_acc: 1.0000 | test_loss: 0.6183 | test_acc: 0.8118\n",
            "Epoch: 25 | train_loss: 0.0933 | train_acc: 1.0000 | test_loss: 0.6075 | test_acc: 0.8118\n",
            "Epoch: 26 | train_loss: 0.0832 | train_acc: 1.0000 | test_loss: 0.5978 | test_acc: 0.8167\n",
            "Epoch: 27 | train_loss: 0.0753 | train_acc: 1.0000 | test_loss: 0.5885 | test_acc: 0.8167\n",
            "Epoch: 28 | train_loss: 0.0682 | train_acc: 1.0000 | test_loss: 0.5832 | test_acc: 0.8229\n",
            "Epoch: 29 | train_loss: 0.0623 | train_acc: 1.0000 | test_loss: 0.5763 | test_acc: 0.8229\n",
            "Epoch: 30 | train_loss: 0.0566 | train_acc: 1.0000 | test_loss: 0.5723 | test_acc: 0.8229\n",
            "Epoch: 31 | train_loss: 0.0521 | train_acc: 1.0000 | test_loss: 0.5674 | test_acc: 0.8229\n",
            "Epoch: 32 | train_loss: 0.0479 | train_acc: 1.0000 | test_loss: 0.5630 | test_acc: 0.8229\n",
            "Epoch: 33 | train_loss: 0.0441 | train_acc: 1.0000 | test_loss: 0.5596 | test_acc: 0.8229\n",
            "Epoch: 34 | train_loss: 0.0409 | train_acc: 1.0000 | test_loss: 0.5565 | test_acc: 0.8229\n",
            "Epoch: 35 | train_loss: 0.0387 | train_acc: 1.0000 | test_loss: 0.5543 | test_acc: 0.8229\n",
            "Epoch: 36 | train_loss: 0.0357 | train_acc: 1.0000 | test_loss: 0.5509 | test_acc: 0.8229\n",
            "Epoch: 37 | train_loss: 0.0335 | train_acc: 1.0000 | test_loss: 0.5505 | test_acc: 0.8229\n",
            "Epoch: 38 | train_loss: 0.0314 | train_acc: 1.0000 | test_loss: 0.5484 | test_acc: 0.8229\n",
            "Epoch: 39 | train_loss: 0.0290 | train_acc: 1.0000 | test_loss: 0.5455 | test_acc: 0.8229\n",
            "Epoch: 40 | train_loss: 0.0273 | train_acc: 1.0000 | test_loss: 0.5432 | test_acc: 0.8229\n",
            "Epoch: 41 | train_loss: 0.0261 | train_acc: 1.0000 | test_loss: 0.5421 | test_acc: 0.8229\n",
            "Epoch: 42 | train_loss: 0.0244 | train_acc: 1.0000 | test_loss: 0.5409 | test_acc: 0.8167\n",
            "Epoch: 43 | train_loss: 0.0233 | train_acc: 1.0000 | test_loss: 0.5390 | test_acc: 0.8167\n",
            "Epoch: 44 | train_loss: 0.0218 | train_acc: 1.0000 | test_loss: 0.5387 | test_acc: 0.8167\n",
            "Epoch: 45 | train_loss: 0.0208 | train_acc: 1.0000 | test_loss: 0.5379 | test_acc: 0.8167\n",
            "Epoch: 46 | train_loss: 0.0199 | train_acc: 1.0000 | test_loss: 0.5373 | test_acc: 0.8167\n",
            "Epoch: 47 | train_loss: 0.0189 | train_acc: 1.0000 | test_loss: 0.5357 | test_acc: 0.8167\n",
            "Epoch: 48 | train_loss: 0.0178 | train_acc: 1.0000 | test_loss: 0.5350 | test_acc: 0.8167\n",
            "Epoch: 49 | train_loss: 0.0170 | train_acc: 1.0000 | test_loss: 0.5358 | test_acc: 0.8167\n",
            "Epoch: 50 | train_loss: 0.0162 | train_acc: 1.0000 | test_loss: 0.5350 | test_acc: 0.8167\n",
            "Epoch: 51 | train_loss: 0.0156 | train_acc: 1.0000 | test_loss: 0.5343 | test_acc: 0.8167\n",
            "Epoch: 52 | train_loss: 0.0149 | train_acc: 1.0000 | test_loss: 0.5341 | test_acc: 0.8167\n",
            "Epoch: 53 | train_loss: 0.0141 | train_acc: 1.0000 | test_loss: 0.5335 | test_acc: 0.8167\n",
            "Epoch: 54 | train_loss: 0.0136 | train_acc: 1.0000 | test_loss: 0.5329 | test_acc: 0.8167\n",
            "Epoch: 55 | train_loss: 0.0132 | train_acc: 1.0000 | test_loss: 0.5319 | test_acc: 0.8167\n",
            "Epoch: 56 | train_loss: 0.0125 | train_acc: 1.0000 | test_loss: 0.5323 | test_acc: 0.8167\n",
            "Epoch: 57 | train_loss: 0.0122 | train_acc: 1.0000 | test_loss: 0.5323 | test_acc: 0.8167\n",
            "Epoch: 58 | train_loss: 0.0117 | train_acc: 1.0000 | test_loss: 0.5322 | test_acc: 0.8167\n",
            "Epoch: 59 | train_loss: 0.0112 | train_acc: 1.0000 | test_loss: 0.5322 | test_acc: 0.8167\n",
            "Epoch: 60 | train_loss: 0.0109 | train_acc: 1.0000 | test_loss: 0.5323 | test_acc: 0.8167\n",
            "Epoch: 61 | train_loss: 0.0104 | train_acc: 1.0000 | test_loss: 0.5324 | test_acc: 0.8167\n",
            "Epoch: 62 | train_loss: 0.0102 | train_acc: 1.0000 | test_loss: 0.5320 | test_acc: 0.8167\n",
            "Epoch: 63 | train_loss: 0.0098 | train_acc: 1.0000 | test_loss: 0.5324 | test_acc: 0.8167\n",
            "Epoch: 64 | train_loss: 0.0095 | train_acc: 1.0000 | test_loss: 0.5322 | test_acc: 0.8167\n",
            "Epoch: 65 | train_loss: 0.0091 | train_acc: 1.0000 | test_loss: 0.5321 | test_acc: 0.8167\n",
            "Epoch: 66 | train_loss: 0.0088 | train_acc: 1.0000 | test_loss: 0.5326 | test_acc: 0.8167\n",
            "Epoch: 67 | train_loss: 0.0086 | train_acc: 1.0000 | test_loss: 0.5330 | test_acc: 0.8167\n",
            "Epoch: 68 | train_loss: 0.0083 | train_acc: 1.0000 | test_loss: 0.5329 | test_acc: 0.8167\n",
            "Epoch: 69 | train_loss: 0.0080 | train_acc: 1.0000 | test_loss: 0.5326 | test_acc: 0.8167\n",
            "Epoch: 70 | train_loss: 0.0078 | train_acc: 1.0000 | test_loss: 0.5329 | test_acc: 0.8167\n",
            "Epoch: 71 | train_loss: 0.0075 | train_acc: 1.0000 | test_loss: 0.5328 | test_acc: 0.8167\n",
            "Epoch: 72 | train_loss: 0.0074 | train_acc: 1.0000 | test_loss: 0.5329 | test_acc: 0.8167\n",
            "Epoch: 73 | train_loss: 0.0071 | train_acc: 1.0000 | test_loss: 0.5333 | test_acc: 0.8167\n",
            "Epoch: 74 | train_loss: 0.0069 | train_acc: 1.0000 | test_loss: 0.5337 | test_acc: 0.8167\n",
            "Epoch: 75 | train_loss: 0.0067 | train_acc: 1.0000 | test_loss: 0.5342 | test_acc: 0.8167\n",
            "Epoch: 76 | train_loss: 0.0065 | train_acc: 1.0000 | test_loss: 0.5346 | test_acc: 0.8229\n",
            "Epoch: 77 | train_loss: 0.0064 | train_acc: 1.0000 | test_loss: 0.5340 | test_acc: 0.8167\n",
            "Epoch: 78 | train_loss: 0.0061 | train_acc: 1.0000 | test_loss: 0.5343 | test_acc: 0.8167\n",
            "Epoch: 79 | train_loss: 0.0060 | train_acc: 1.0000 | test_loss: 0.5345 | test_acc: 0.8229\n",
            "Epoch: 80 | train_loss: 0.0059 | train_acc: 1.0000 | test_loss: 0.5349 | test_acc: 0.8229\n",
            "Epoch: 81 | train_loss: 0.0057 | train_acc: 1.0000 | test_loss: 0.5352 | test_acc: 0.8229\n",
            "Epoch: 82 | train_loss: 0.0055 | train_acc: 1.0000 | test_loss: 0.5356 | test_acc: 0.8229\n",
            "Epoch: 83 | train_loss: 0.0054 | train_acc: 1.0000 | test_loss: 0.5356 | test_acc: 0.8229\n",
            "Epoch: 84 | train_loss: 0.0053 | train_acc: 1.0000 | test_loss: 0.5363 | test_acc: 0.8229\n",
            "Epoch: 85 | train_loss: 0.0051 | train_acc: 1.0000 | test_loss: 0.5362 | test_acc: 0.8229\n",
            "Epoch: 86 | train_loss: 0.0050 | train_acc: 1.0000 | test_loss: 0.5364 | test_acc: 0.8229\n",
            "Epoch: 87 | train_loss: 0.0050 | train_acc: 1.0000 | test_loss: 0.5367 | test_acc: 0.8229\n",
            "Epoch: 88 | train_loss: 0.0048 | train_acc: 1.0000 | test_loss: 0.5371 | test_acc: 0.8229\n",
            "Epoch: 89 | train_loss: 0.0047 | train_acc: 1.0000 | test_loss: 0.5373 | test_acc: 0.8229\n",
            "Epoch: 90 | train_loss: 0.0046 | train_acc: 1.0000 | test_loss: 0.5376 | test_acc: 0.8229\n",
            "Epoch: 91 | train_loss: 0.0045 | train_acc: 1.0000 | test_loss: 0.5379 | test_acc: 0.8229\n",
            "Epoch: 92 | train_loss: 0.0043 | train_acc: 1.0000 | test_loss: 0.5386 | test_acc: 0.8229\n",
            "Epoch: 93 | train_loss: 0.0043 | train_acc: 1.0000 | test_loss: 0.5394 | test_acc: 0.8229\n",
            "Epoch: 94 | train_loss: 0.0042 | train_acc: 1.0000 | test_loss: 0.5392 | test_acc: 0.8229\n",
            "Epoch: 95 | train_loss: 0.0041 | train_acc: 1.0000 | test_loss: 0.5392 | test_acc: 0.8229\n",
            "Epoch: 96 | train_loss: 0.0040 | train_acc: 1.0000 | test_loss: 0.5399 | test_acc: 0.8229\n",
            "Epoch: 97 | train_loss: 0.0039 | train_acc: 1.0000 | test_loss: 0.5399 | test_acc: 0.8229\n",
            "Epoch: 98 | train_loss: 0.0038 | train_acc: 1.0000 | test_loss: 0.5403 | test_acc: 0.8229\n",
            "Epoch: 99 | train_loss: 0.0038 | train_acc: 1.0000 | test_loss: 0.5405 | test_acc: 0.8229\n",
            "Epoch: 100 | train_loss: 0.0037 | train_acc: 1.0000 | test_loss: 0.5409 | test_acc: 0.8229\n"
          ]
        }
      ]
    },
    {
      "cell_type": "code",
      "source": [
        "fig, ax = plt.subplots(figsize=(8, 6))\n",
        "ax.plot(model_0_results[\"train_loss\"], label=\"Train Loss\")\n",
        "ax.plot(model_0_results[\"test_loss\"], label=\"Test Loss\")\n",
        "ax.set_xlabel(\"Epoch\")\n",
        "ax.set_ylabel(\"Loss\")\n",
        "ax.set_title(\"Training and Test Loss\")\n",
        "ax.legend()\n",
        "plt.show()"
      ],
      "metadata": {
        "colab": {
          "base_uri": "https://localhost:8080/",
          "height": 564
        },
        "id": "khIsB_QXWXqp",
        "outputId": "d8351859-cb4b-4425-cb54-17b653c817b1"
      },
      "execution_count": 553,
      "outputs": [
        {
          "output_type": "display_data",
          "data": {
            "text/plain": [
              "<Figure size 800x600 with 1 Axes>"
            ],
            "image/png": "[encoded data removed]"
          },
          "metadata": {}
        }
      ]
    },
    {
      "cell_type": "code",
      "source": [
        "def predict(model, input_data):\n",
        "    with torch.no_grad():\n",
        "        pred_logits = model(input_data)\n",
        "        pred_class = torch.argmax(torch.softmax(pred_logits, dim=0), dim=0)\n",
        "\n",
        "        return index_to_intent[pred_class.item()]"
      ],
      "metadata": {
        "id": "ArZtzjNLXa2m"
      },
      "execution_count": 556,
      "outputs": []
    },
    {
      "cell_type": "code",
      "source": [
        "print(predict(model,  sentence_to_tensor(\"hI frIend bye see ya\")))"
      ],
      "metadata": {
        "colab": {
          "base_uri": "https://localhost:8080/"
        },
        "id": "r2U11n2YYBfD",
        "outputId": "3163eea7-5e8d-4775-8fdb-1df62a415193"
      },
      "execution_count": 563,
      "outputs": [
        {
          "output_type": "stream",
          "name": "stdout",
          "text": [
            "Farewell\n"
          ]
        }
      ]
    },
    {
      "cell_type": "code",
      "source": [],
      "metadata": {
        "id": "oXvze15Qejt-"
      },
      "execution_count": 555,
      "outputs": []
    }
  ]
}