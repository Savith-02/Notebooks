{
  "nbformat": 4,
  "nbformat_minor": 0,
  "metadata": {
    "colab": {
      "provenance": [],
      "mount_file_id": "1Nf927wR4OdskN9km_0vkQpG2mmrAKSbI",
      "authorship_tag": "ABX9TyP0lhdRHb87gh7kurOXAc2H",
      "include_colab_link": true
    },
    "kernelspec": {
      "name": "python3",
      "display_name": "Python 3"
    },
    "language_info": {
      "name": "python"
    },
    "widgets": {
      "application/vnd.jupyter.widget-state+json": {
        "a1a4fb70ee644c05a6f6ab9ed09b41e9": {
          "model_module": "@jupyter-widgets/controls",
          "model_name": "HBoxModel",
          "model_module_version": "1.5.0",
          "state": {
            "_dom_classes": [],
            "_model_module": "@jupyter-widgets/controls",
            "_model_module_version": "1.5.0",
            "_model_name": "HBoxModel",
            "_view_count": null,
            "_view_module": "@jupyter-widgets/controls",
            "_view_module_version": "1.5.0",
            "_view_name": "HBoxView",
            "box_style": "",
            "children": [
              "IPY_MODEL_778ab8b7424a468fac978876fbbc3af9",
              "IPY_MODEL_520c401fc2904362b01e0f695bc9303f",
              "IPY_MODEL_716e1f822def4640a3938c8b34156504"
            ],
            "layout": "IPY_MODEL_2941b7f7f5224a149876989b5e0d69dd"
          }
        },
        "778ab8b7424a468fac978876fbbc3af9": {
          "model_module": "@jupyter-widgets/controls",
          "model_name": "HTMLModel",
          "model_module_version": "1.5.0",
          "state": {
            "_dom_classes": [],
            "_model_module": "@jupyter-widgets/controls",
            "_model_module_version": "1.5.0",
            "_model_name": "HTMLModel",
            "_view_count": null,
            "_view_module": "@jupyter-widgets/controls",
            "_view_module_version": "1.5.0",
            "_view_name": "HTMLView",
            "description": "",
            "description_tooltip": null,
            "layout": "IPY_MODEL_fa7acae8fd2e4f9e85f11cc15b471033",
            "placeholder": "​",
            "style": "IPY_MODEL_36290020a247468eabc87839e30d89ec",
            "value": "100%"
          }
        },
        "520c401fc2904362b01e0f695bc9303f": {
          "model_module": "@jupyter-widgets/controls",
          "model_name": "FloatProgressModel",
          "model_module_version": "1.5.0",
          "state": {
            "_dom_classes": [],
            "_model_module": "@jupyter-widgets/controls",
            "_model_module_version": "1.5.0",
            "_model_name": "FloatProgressModel",
            "_view_count": null,
            "_view_module": "@jupyter-widgets/controls",
            "_view_module_version": "1.5.0",
            "_view_name": "ProgressView",
            "bar_style": "success",
            "description": "",
            "description_tooltip": null,
            "layout": "IPY_MODEL_1fd226a99a0e4bf1b8e68b43d97c81dd",
            "max": 100,
            "min": 0,
            "orientation": "horizontal",
            "style": "IPY_MODEL_080d3db14bd04b99a91b78c5713303c4",
            "value": 100
          }
        },
        "716e1f822def4640a3938c8b34156504": {
          "model_module": "@jupyter-widgets/controls",
          "model_name": "HTMLModel",
          "model_module_version": "1.5.0",
          "state": {
            "_dom_classes": [],
            "_model_module": "@jupyter-widgets/controls",
            "_model_module_version": "1.5.0",
            "_model_name": "HTMLModel",
            "_view_count": null,
            "_view_module": "@jupyter-widgets/controls",
            "_view_module_version": "1.5.0",
            "_view_name": "HTMLView",
            "description": "",
            "description_tooltip": null,
            "layout": "IPY_MODEL_6494546a79114f82a244fce9777bbfd3",
            "placeholder": "​",
            "style": "IPY_MODEL_89de09c959a94028a51a3cbbda5c0039",
            "value": " 100/100 [00:29&lt;00:00,  4.40it/s]"
          }
        },
        "2941b7f7f5224a149876989b5e0d69dd": {
          "model_module": "@jupyter-widgets/base",
          "model_name": "LayoutModel",
          "model_module_version": "1.2.0",
          "state": {
            "_model_module": "@jupyter-widgets/base",
            "_model_module_version": "1.2.0",
            "_model_name": "LayoutModel",
            "_view_count": null,
            "_view_module": "@jupyter-widgets/base",
            "_view_module_version": "1.2.0",
            "_view_name": "LayoutView",
            "align_content": null,
            "align_items": null,
            "align_self": null,
            "border": null,
            "bottom": null,
            "display": null,
            "flex": null,
            "flex_flow": null,
            "grid_area": null,
            "grid_auto_columns": null,
            "grid_auto_flow": null,
            "grid_auto_rows": null,
            "grid_column": null,
            "grid_gap": null,
            "grid_row": null,
            "grid_template_areas": null,
            "grid_template_columns": null,
            "grid_template_rows": null,
            "height": null,
            "justify_content": null,
            "justify_items": null,
            "left": null,
            "margin": null,
            "max_height": null,
            "max_width": null,
            "min_height": null,
            "min_width": null,
            "object_fit": null,
            "object_position": null,
            "order": null,
            "overflow": null,
            "overflow_x": null,
            "overflow_y": null,
            "padding": null,
            "right": null,
            "top": null,
            "visibility": null,
            "width": null
          }
        },
        "fa7acae8fd2e4f9e85f11cc15b471033": {
          "model_module": "@jupyter-widgets/base",
          "model_name": "LayoutModel",
          "model_module_version": "1.2.0",
          "state": {
            "_model_module": "@jupyter-widgets/base",
            "_model_module_version": "1.2.0",
            "_model_name": "LayoutModel",
            "_view_count": null,
            "_view_module": "@jupyter-widgets/base",
            "_view_module_version": "1.2.0",
            "_view_name": "LayoutView",
            "align_content": null,
            "align_items": null,
            "align_self": null,
            "border": null,
            "bottom": null,
            "display": null,
            "flex": null,
            "flex_flow": null,
            "grid_area": null,
            "grid_auto_columns": null,
            "grid_auto_flow": null,
            "grid_auto_rows": null,
            "grid_column": null,
            "grid_gap": null,
            "grid_row": null,
            "grid_template_areas": null,
            "grid_template_columns": null,
            "grid_template_rows": null,
            "height": null,
            "justify_content": null,
            "justify_items": null,
            "left": null,
            "margin": null,
            "max_height": null,
            "max_width": null,
            "min_height": null,
            "min_width": null,
            "object_fit": null,
            "object_position": null,
            "order": null,
            "overflow": null,
            "overflow_x": null,
            "overflow_y": null,
            "padding": null,
            "right": null,
            "top": null,
            "visibility": null,
            "width": null
          }
        },
        "36290020a247468eabc87839e30d89ec": {
          "model_module": "@jupyter-widgets/controls",
          "model_name": "DescriptionStyleModel",
          "model_module_version": "1.5.0",
          "state": {
            "_model_module": "@jupyter-widgets/controls",
            "_model_module_version": "1.5.0",
            "_model_name": "DescriptionStyleModel",
            "_view_count": null,
            "_view_module": "@jupyter-widgets/base",
            "_view_module_version": "1.2.0",
            "_view_name": "StyleView",
            "description_width": ""
          }
        },
        "1fd226a99a0e4bf1b8e68b43d97c81dd": {
          "model_module": "@jupyter-widgets/base",
          "model_name": "LayoutModel",
          "model_module_version": "1.2.0",
          "state": {
            "_model_module": "@jupyter-widgets/base",
            "_model_module_version": "1.2.0",
            "_model_name": "LayoutModel",
            "_view_count": null,
            "_view_module": "@jupyter-widgets/base",
            "_view_module_version": "1.2.0",
            "_view_name": "LayoutView",
            "align_content": null,
            "align_items": null,
            "align_self": null,
            "border": null,
            "bottom": null,
            "display": null,
            "flex": null,
            "flex_flow": null,
            "grid_area": null,
            "grid_auto_columns": null,
            "grid_auto_flow": null,
            "grid_auto_rows": null,
            "grid_column": null,
            "grid_gap": null,
            "grid_row": null,
            "grid_template_areas": null,
            "grid_template_columns": null,
            "grid_template_rows": null,
            "height": null,
            "justify_content": null,
            "justify_items": null,
            "left": null,
            "margin": null,
            "max_height": null,
            "max_width": null,
            "min_height": null,
            "min_width": null,
            "object_fit": null,
            "object_position": null,
            "order": null,
            "overflow": null,
            "overflow_x": null,
            "overflow_y": null,
            "padding": null,
            "right": null,
            "top": null,
            "visibility": null,
            "width": null
          }
        },
        "080d3db14bd04b99a91b78c5713303c4": {
          "model_module": "@jupyter-widgets/controls",
          "model_name": "ProgressStyleModel",
          "model_module_version": "1.5.0",
          "state": {
            "_model_module": "@jupyter-widgets/controls",
            "_model_module_version": "1.5.0",
            "_model_name": "ProgressStyleModel",
            "_view_count": null,
            "_view_module": "@jupyter-widgets/base",
            "_view_module_version": "1.2.0",
            "_view_name": "StyleView",
            "bar_color": null,
            "description_width": ""
          }
        },
        "6494546a79114f82a244fce9777bbfd3": {
          "model_module": "@jupyter-widgets/base",
          "model_name": "LayoutModel",
          "model_module_version": "1.2.0",
          "state": {
            "_model_module": "@jupyter-widgets/base",
            "_model_module_version": "1.2.0",
            "_model_name": "LayoutModel",
            "_view_count": null,
            "_view_module": "@jupyter-widgets/base",
            "_view_module_version": "1.2.0",
            "_view_name": "LayoutView",
            "align_content": null,
            "align_items": null,
            "align_self": null,
            "border": null,
            "bottom": null,
            "display": null,
            "flex": null,
            "flex_flow": null,
            "grid_area": null,
            "grid_auto_columns": null,
            "grid_auto_flow": null,
            "grid_auto_rows": null,
            "grid_column": null,
            "grid_gap": null,
            "grid_row": null,
            "grid_template_areas": null,
            "grid_template_columns": null,
            "grid_template_rows": null,
            "height": null,
            "justify_content": null,
            "justify_items": null,
            "left": null,
            "margin": null,
            "max_height": null,
            "max_width": null,
            "min_height": null,
            "min_width": null,
            "object_fit": null,
            "object_position": null,
            "order": null,
            "overflow": null,
            "overflow_x": null,
            "overflow_y": null,
            "padding": null,
            "right": null,
            "top": null,
            "visibility": null,
            "width": null
          }
        },
        "89de09c959a94028a51a3cbbda5c0039": {
          "model_module": "@jupyter-widgets/controls",
          "model_name": "DescriptionStyleModel",
          "model_module_version": "1.5.0",
          "state": {
            "_model_module": "@jupyter-widgets/controls",
            "_model_module_version": "1.5.0",
            "_model_name": "DescriptionStyleModel",
            "_view_count": null,
            "_view_module": "@jupyter-widgets/base",
            "_view_module_version": "1.2.0",
            "_view_name": "StyleView",
            "description_width": ""
          }
        }
      }
    }
  },
  "cells": [
    {
      "cell_type": "markdown",
      "metadata": {
        "id": "view-in-github",
        "colab_type": "text"
      },
      "source": [
        "<a href=\"https://colab.research.google.com/github/Savith-02/notebooks/blob/main/nn_intent_classifier.ipynb\" target=\"_parent\"><img src=\"https://colab.research.google.com/assets/colab-badge.svg\" alt=\"Open In Colab\"/></a>"
      ]
    },
    {
      "cell_type": "code",
      "execution_count": 1,
      "metadata": {
        "colab": {
          "base_uri": "https://localhost:8080/"
        },
        "id": "B9jFXoOHZYAG",
        "outputId": "70b013cd-b584-4df5-fb79-7df7f6dfbf56"
      },
      "outputs": [
        {
          "output_type": "stream",
          "name": "stdout",
          "text": [
            "[('Greet', 'Hi'), ('Greet', 'Hello'), ('Greet', 'Hey there'), ('Greet', 'Good morning'), ('Greet', 'Howdy'), ('Greet', 'Hi there'), ('Greet', 'Hey'), ('Greet', 'Good afternoon'), ('Greet', 'Hello there'), ('Greet', 'Hi how can I help you?')]\n"
          ]
        }
      ],
      "source": [
        "def read_dataset(file_path):\n",
        "    data = []\n",
        "    with open(file_path, 'r') as file:\n",
        "        for line in file:\n",
        "            intent, sentence = line.strip().split(',')\n",
        "            data.append((intent.strip(), sentence.strip()))\n",
        "    return data\n",
        "\n",
        "file_path = \"drive/MyDrive/Code/rawData/data_small.txt\"\n",
        "dataset = read_dataset(file_path)[1:]\n",
        "print(dataset[:10])"
      ]
    },
    {
      "cell_type": "code",
      "source": [
        "intent_counts = {}\n",
        "for intent, _ in dataset:\n",
        "    if intent not in intent_counts:\n",
        "        intent_counts[intent] = 0\n",
        "    intent_counts[intent] += 1\n",
        "print(intent_counts)\n",
        "print(f\"Number of examples in dataset: {len(dataset)}\")"
      ],
      "metadata": {
        "colab": {
          "base_uri": "https://localhost:8080/"
        },
        "id": "8fRpvOzYZyNr",
        "outputId": "59dbae62-c546-4d68-c5fe-89acdad4218d"
      },
      "execution_count": 2,
      "outputs": [
        {
          "output_type": "stream",
          "name": "stdout",
          "text": [
            "{'Greet': 53, 'Farewell': 66, 'Inquiry': 50, 'Feedback': 50, 'Complaint': 38, 'Request': 50, 'Navigation': 58}\n",
            "Number of examples in dataset: 365\n"
          ]
        }
      ]
    },
    {
      "cell_type": "code",
      "source": [
        "all_sentences = set(sentence for intent, sentence in dataset)\n",
        "print(f\"All unique sentences count: {len(all_sentences)}\")"
      ],
      "metadata": {
        "colab": {
          "base_uri": "https://localhost:8080/"
        },
        "id": "al9Wbj_PdWNH",
        "outputId": "921d67b1-2c9f-469e-a964-8e88457348b3"
      },
      "execution_count": 3,
      "outputs": [
        {
          "output_type": "stream",
          "name": "stdout",
          "text": [
            "All unique sentences count: 355\n"
          ]
        }
      ]
    },
    {
      "cell_type": "code",
      "source": [
        "# Check for duplicates\n",
        "# from collections import Counter\n",
        "# word_counts = Counter(sentence for intent, sentence in dataset)\n",
        "# word_counts"
      ],
      "metadata": {
        "id": "F71YYZb4dUKP"
      },
      "execution_count": 4,
      "outputs": []
    },
    {
      "cell_type": "code",
      "source": [
        "from itertools import chain\n",
        "\n",
        "all_words = set(chain(*[sentence.lower().split(\" \") for intent, sentence in dataset]))\n",
        "print(f\"All unique sentences count: {len(all_words)}\")"
      ],
      "metadata": {
        "colab": {
          "base_uri": "https://localhost:8080/"
        },
        "id": "g3xH2Wv6fxBG",
        "outputId": "68f0074d-5128-4be2-f85f-1947a0423f89"
      },
      "execution_count": 5,
      "outputs": [
        {
          "output_type": "stream",
          "name": "stdout",
          "text": [
            "All unique sentences count: 723\n"
          ]
        }
      ]
    },
    {
      "cell_type": "code",
      "source": [
        "import torch\n",
        "import torch.nn as nn\n",
        "import torch.optim as optim\n",
        "import matplotlib.pyplot as plt\n",
        "import torch.optim as optim\n",
        "\n",
        "device = torch.device(\"cuda:0\" if torch.cuda.is_available() else \"cpu\")"
      ],
      "metadata": {
        "id": "9PE2p0FYZ1Ps"
      },
      "execution_count": 6,
      "outputs": []
    },
    {
      "cell_type": "code",
      "source": [
        "word_to_index = {char: i for i, char in enumerate(all_words)}\n",
        "print(f\"No of words: {len(all_words)}\")\n",
        "print(word_to_index.items())"
      ],
      "metadata": {
        "colab": {
          "base_uri": "https://localhost:8080/"
        },
        "id": "qpxu-BcwZ_1s",
        "outputId": "ed04607a-ee29-4c3a-edbf-8eee64f57116"
      },
      "execution_count": 7,
      "outputs": [
        {
          "output_type": "stream",
          "name": "stdout",
          "text": [
            "No of words: 723\n",
            "dict_items([('guitar?', 0), ('care', 1), ('7', 2), ('pet-friendly', 3), ('really', 4), ('clean', 5), ('recipe.', 6), ('learning', 7), ('chocolate', 8), ('leaky', 9), ('a', 10), ('tight!', 11), ('available?', 12), ('related', 13), ('awesome', 14), ('accuracy', 15), ('day!', 16), ('city?', 17), ('back', 18), ('specific', 19), ('navigate', 20), ('expectations.', 21), ('progress', 22), ('issue?', 23), ('week?', 24), ('thank', 25), ('side', 26), ('issue.', 27), ('problem.', 28), ('mailing', 29), ('way', 30), ('recent', 31), ('translate', 32), ('good', 33), ('events', 34), ('add', 35), ('solution', 36), ('calendar.', 37), (\"mother's\", 38), ('meet', 39), ('hiking', 40), ('crashing', 41), ('it', 42), ('seamless', 43), ('easy', 44), ('items', 45), ('all!', 46), ('video', 47), ('integration', 48), ('adventure', 49), ('touch', 50), ('everyone', 51), ('list', 52), ('later!', 53), ('excellent.', 54), ('wait', 55), ('contact', 56), ('helpful', 57), ('appreciated.', 58), ('keeps', 59), ('send', 60), ('kind', 61), ('welcome', 62), ('customization', 63), ('article', 64), ('started', 65), ('theaters.', 66), ('this.', 67), ('this?', 68), ('movies', 69), ('upgrade.', 70), ('music', 71), ('route', 72), (\"i've\", 73), ('accurately', 74), ('friend', 75), ('shining', 76), ('work', 77), ('excited', 78), ('city', 79), ('out', 80), ('did', 81), ('delivery?', 82), (\"didn't\", 83), ('need', 84), ('to', 85), ('understand', 86), ('great!', 87), ('sunset?', 88), ('commands?', 89), ('class!', 90), ('page.', 91), ('nice', 92), ('been?', 93), ('options', 94), ('terrible.', 95), ('or', 96), ('on', 97), ('today?', 98), ('not-too-distant', 99), ('team', 100), ('game', 101), ('advice', 102), ('link', 103), ('soon', 104), ('keep', 105), ('help', 106), ('slight', 107), ('in', 108), ('thanks.', 109), ('tickets?', 110), ('facts', 111), ('would', 112), ('live', 113), ('further', 114), ('2', 115), ('going?', 116), ('paths', 117), ('situation?', 118), ('these', 119), ('known', 120), ('restaurants', 121), ('topic?', 122), ('price?', 123), ('weekend.', 124), ('bill.', 125), ('window', 126), ('yourself', 127), ('impact.', 128), ('informative', 129), ('news?', 130), (\"farmers'\", 131), ('change', 132), ('model', 133), ('so', 134), ('drive?', 135), ('call', 136), ('audio', 137), ('process?', 138), ('pm.', 139), ('actually', 140), ('explanations.', 141), ('getting', 142), ('design', 143), ('ingredients', 144), ('detail', 145), ('be', 146), ('before', 147), ('brand', 148), ('received.', 149), ('italian', 150), ('see', 151), ('disappointed', 152), ('stay', 153), ('watch', 154), ('terminology', 155), ('coffee?', 156), ('exchange', 157), ('efficient.', 158), ('card?', 159), ('of', 160), ('some', 161), ('unsatisfactory.', 162), ('stories', 163), ('doctor', 164), ('were', 165), ('traffic', 166), ('powerful', 167), ('product', 168), ('convenient.', 169), ('responsive', 170), ('delivery', 171), ('restaurant?', 172), ('more', 173), ('which', 174), ('tonight?', 175), ('pleasure', 176), ('guide', 177), ('dog', 178), ('hello', 179), ('system.', 180), ('particularly', 181), ('trail?', 182), ('as', 183), ('up.', 184), ('shopping', 185), ('hiya', 186), ('outdated', 187), ('towards', 188), ('flights.', 189), ('tomorrow!', 190), ('visualization', 191), ('professional', 192), ('break', 193), ('day', 194), ('significant', 195), ('time', 196), ('buy', 197), ('section', 198), ('track', 199), ('reflect', 200), ('give', 201), ('item', 202), ('favorite', 203), ('color?', 204), ('available.', 205), ('python?', 206), (\"i'm\", 207), ('one', 208), ('privacy', 209), ('child', 210), ('thriving', 211), ('like', 212), ('downtown?', 213), ('paris', 214), ('share', 215), ('you?', 216), ('our', 217), ('glad', 218), ('needs.', 219), ('anything', 220), ('later', 221), ('job', 222), ('banana?', 223), ('latest', 224), ('app.', 225), ('tell', 226), ('much', 227), ('continues', 228), ('beginning', 229), ('level', 230), ('make', 231), ('gas', 232), ('balance?', 233), ('point.', 234), ('tourist', 235), ('please', 236), ('works?', 237), ('previous', 238), ('attractions?', 239), ('artist?', 240), ('plumber?', 241), ('friend?', 242), ('move', 243), ('alarm', 244), ('room', 245), ('overall', 246), ('nearest', 247), ('task?', 248), ('play', 249), ('potential', 250), ('reliable', 251), ('service', 252), ('company.', 253), ('average', 254), ('incorrect.', 255), ('travel', 256), ('groceries?', 257), ('terms', 258), ('long!', 259), ('outcome.', 260), ('food?', 261), ('looking', 262), ('menu', 263), ('smiling', 264), ('detailed', 265), ('what', 266), ('news', 267), ('through', 268), ('page?', 269), ('destinations.', 270), ('shall', 271), ('experience', 272), ('that', 273), ('order.', 274), ('been', 275), ('went', 276), ('best', 277), ('word?', 278), ('support?', 279), ('pricing', 280), ('issues.', 281), ('temperature', 282), ('bus', 283), ('work!', 284), ('warm', 285), ('step', 286), ('summarize', 287), ('develop', 288), ('service?', 289), ('website', 290), ('sleep', 291), ('show', 292), ('come', 293), ('else', 294), ('future', 295), ('very', 296), ('interface', 297), ('market?', 298), ('information?', 299), ('resolve', 300), ('users', 301), ('and', 302), ('apply', 303), ('if', 304), ('history?', 305), ('effective.', 306), ('excellent', 307), ('calendar', 308), (\"let's\", 309), ('search', 310), ('take', 311), ('had', 312), ('skip', 313), ('love', 314), ('print', 315), ('customer', 316), ('account.', 317), ('trouble', 318), ('lot', 319), ('class?', 320), ('system?', 321), ('stargazing?', 322), ('recommend', 323), ('long', 324), ('public', 325), ('positive.', 326), ('again', 327), ('language', 328), ('schedule', 329), ('set', 330), ('answer?', 331), ('dissatisfied', 332), ('refine', 333), ('tab', 334), ('at', 335), ('ways.', 336), ('times', 337), ('rendezvous', 338), ('time!', 339), ('process', 340), ('pharmacy?', 341), ('reviews', 342), ('book?', 343), ('results', 344), ('restart', 345), ('prompt', 346), ('soon!', 347), ('cross', 348), ('bank', 349), ('page', 350), ('hey', 351), ('unhappy', 352), ('matter.', 353), ('empire.', 354), ('but', 355), ('serve', 356), ('fancy', 357), ('bad', 358), ('return', 359), ('disabilities.', 360), ('account', 361), ('goodnight', 362), ('made', 363), ('breeds?', 364), ('date', 365), ('package?', 366), ('options.', 367), ('book', 368), ('afternoon', 369), ('then', 370), ('time?', 371), ('support.', 372), ('frustrated', 373), ('helpful.', 374), ('weather', 375), ('can', 376), ('bye', 377), ('browsing', 378), ('expected.', 379), ('it.', 380), ('up', 381), ('talk', 382), ('get', 383), ('taxes', 384), ('everything?', 385), ('we', 386), ('assistance', 387), (\"o'\", 388), ('responsive.', 389), ('me?', 390), ('fit', 391), ('below', 392), ('upload', 393), ('satisfied', 394), ('who', 395), ('understanding', 396), ('cart?', 397), ('airport.', 398), ('disappointing.', 399), ('performance', 400), ('explain', 401), ('today.', 402), ('we?', 403), ('rocking!', 404), ('example', 405), ('close', 406), ('support', 407), ('visual', 408), ('morning', 409), ('about', 410), ('device?', 411), ('scenic', 412), ('many', 413), ('seems', 414), ('hi', 415), ('document?', 416), ('filter', 417), ('appreciate', 418), ('found', 419), ('understand.', 420), ('user', 421), ('par.', 422), ('advanced', 423), ('invaluable', 424), ('school?', 425), ('hotel?', 426), ('logout', 427), ('tutorials', 428), ('euros?', 429), ('format?', 430), ('tutorial', 431), ('feedback', 432), ('provided', 433), ('meeting', 434), ('later?', 435), ('customize', 436), ('up!', 437), ('easy!', 438), ('exceptional.', 439), ('makes', 440), ('am', 441), ('exit', 442), ('experience.', 443), ('have', 444), ('definition', 445), ('is', 446), ('other', 447), (\"i'd\", 448), ('using', 449), ('park?', 450), ('difficult', 451), ('brightly', 452), ('find', 453), ('far', 454), (\"what's\", 455), ('window.', 456), ('happy', 457), ('meaning', 458), ('fastest', 459), ('table', 460), ('feature.', 461), ('you.', 462), ('feels', 463), ('could', 464), ('i', 465), ('population', 466), ('faucet?', 467), ('doing', 468), ('strong', 469), ('with', 470), ('program', 471), ('address?', 472), ('to?', 473), ('okay?', 474), ('order', 475), ('tool.', 476), ('fishing?', 477), ('help.', 478), ('roman', 479), ('main', 480), ('ya!', 481), ('new?', 482), ('beyond.', 483), ('there', 484), ('sushi-making', 485), ('log', 486), ('library', 487), ('certain', 488), ('local', 489), ('for', 490), ('assistance?', 491), ('text', 492), ('transportation', 493), ('functionality', 494), ('resource', 495), ('word', 496), ('an', 497), ('different', 498), ('map', 499), ('are', 500), ('howdy', 501), ('layout', 502), ('calories', 503), ('description', 504), ('system', 505), ('fast', 506), ('place', 507), ('capabilities.', 508), ('friend!', 509), ('historical', 510), ('seeking', 511), ('message', 512), ('rate', 513), ('going', 514), ('aboard!', 515), ('york', 516), ('service.', 517), ('enroll', 518), ('expensive', 519), ('now', 520), ('ride-sharing', 521), ('\"ambiguous.\"', 522), ('developing', 523), ('content', 524), ('query?', 525), ('spot', 526), ('new', 527), ('exceeded', 528), ('asset', 529), ('poor.', 530), ('try', 531), ('reset', 532), ('how', 533), ('next', 534), ('it!', 535), ('additional', 536), ('open', 537), ('everyone!', 538), ('error', 539), ('little', 540), ('fixing', 541), ('pleased', 542), ('catch', 543), ('learn', 544), ('effort', 545), (\"how's\", 546), ('do', 547), ('feature', 548), ('birthday?', 549), ('access', 550), ('pictures', 551), ('edit', 552), ('cookies?', 553), ('response.', 554), ('app', 555), ('tools', 556), ('playing', 557), ('defective.', 558), ('annoying.', 559), ('forecast', 560), ('purchasing', 561), ('password?', 562), ('by', 563), ('adios', 564), ('from', 565), ('frequently.', 566), ('clear', 567), ('capital', 568), ('chip', 569), ('having', 570), ('gift', 571), ('no', 572), ('used.', 573), ('impairments.', 574), ('go', 575), ('into', 576), ('fantastic', 577), ('restrictive.', 578), ('settings', 579), ('incredibly', 580), ('thanks', 581), ('results.', 582), ('unhelpful.', 583), ('my', 584), ('will', 585), ('closest', 586), ('unexpectedly.', 587), ('save', 588), ('you!', 589), ('its', 590), ('doing?', 591), ('awesome!', 592), ('goodnight!', 593), ('features', 594), ('connect', 595), ('product.', 596), ('technology.', 597), ('specializes', 598), ('curve', 599), ('regret', 600), ('quality', 601), ('pizza', 602), ('definitely', 603), ('the', 604), ('unclear', 605), ('voice', 606), ('current', 607), ('response', 608), ('until', 609), ('allergies?', 610), ('further?', 611), ('category', 612), ('center?', 613), ('top', 614), ('future.', 615), ('advertised', 616), ('buddy', 617), ('clarify', 618), ('evening', 619), ('mistake', 620), ('concerned', 621), ('last', 622), ('dog-friendly', 623), ('lack', 624), ('song', 625), ('explore', 626), (\"there's\", 627), ('recipe', 628), ('cup', 629), ('check', 630), ('...', 631), ('accessible', 632), ('france?', 633), ('tomorrow', 634), ('organic', 635), ('file.', 636), ('policies', 637), ('fix', 638), ('whenever', 639), ('stop?', 640), ('movie', 641), ('provide', 642), ('biased', 643), ('rent', 644), ('above', 645), ('file', 646), ('navigate.', 647), ('not', 648), ('exactly', 649), ('innovative', 650), ('information', 651), ('ya', 652), ('section.', 653), ('menu.', 654), ('topic', 655), ('your', 656), ('has', 657), ('package', 658), ('needed.', 659), ('details.', 660), ('results?', 661), ('town?', 662), ('online?', 663), ('demographics.', 664), ('up?', 665), ('was', 666), ('valuable', 667), ('late.', 668), ('job.', 669), ('me', 670), ('well', 671), ('work.', 672), ('expectations', 673), ('criteria', 674), ('too', 675), ('thought', 676), ('assist', 677), ('bookmark', 678), ('station?', 679), ('year?', 680), ('reservation?', 681), ('every', 682), ('person', 683), ('great', 684), ('intuitive.', 685), ('quite', 686), ('assistance.', 687), ('airport?', 688), ('hotel', 689), (\"it's\", 690), ('data', 691), ('safe', 692), (\"you've\", 693), ('here', 694), ('release?', 695), (\"mornin'\", 696), ('you', 697), ('this', 698), ('won', 699), ('confident', 700), ('pick', 701), ('impressed', 702), ('goodbye', 703), ('sort', 704), ('spanish?', 705), ('others.', 706), ('morning.', 707), ('problem', 708), ('requesting', 709), ('happening?', 710), ('unacceptable.', 711), ('now!', 712), ('flip', 713), ('impressive.', 714), ('use', 715), ('upcoming', 716), ('near', 717), ('user-friendly.', 718), ('car?', 719), ('problem?', 720), ('night?', 721), ('where', 722)])\n"
          ]
        }
      ]
    },
    {
      "cell_type": "code",
      "source": [
        "all_intents = set(intent for intent, _ in dataset[1:])\n",
        "intent_to_index = {intent: i for i, intent in enumerate(all_intents)}\n",
        "index_to_intent = {intent: i for i, intent in intent_to_index.items()}\n",
        "\n",
        "print(f\"No of intents {len(all_intents)}\")\n",
        "print(intent_to_index.items())\n",
        "print(index_to_intent.items())"
      ],
      "metadata": {
        "colab": {
          "base_uri": "https://localhost:8080/"
        },
        "id": "mbmsFe3IaQls",
        "outputId": "73abb8f6-1aa6-4b9e-ff8f-acb2f7938c06"
      },
      "execution_count": 8,
      "outputs": [
        {
          "output_type": "stream",
          "name": "stdout",
          "text": [
            "No of intents 7\n",
            "dict_items([('Greet', 0), ('Farewell', 1), ('Complaint', 2), ('Inquiry', 3), ('Navigation', 4), ('Request', 5), ('Feedback', 6)])\n",
            "dict_items([(0, 'Greet'), (1, 'Farewell'), (2, 'Complaint'), (3, 'Inquiry'), (4, 'Navigation'), (5, 'Request'), (6, 'Feedback')])\n"
          ]
        }
      ]
    },
    {
      "cell_type": "code",
      "source": [
        "def sentence_to_tensor(sentence):\n",
        "    tensor = torch.zeros(len(all_words)).to(device)\n",
        "    for i, word in enumerate(sentence.lower().split(\" \")):\n",
        "        if word in word_to_index:\n",
        "          tensor[word_to_index[word]] = 1\n",
        "\n",
        "    return tensor"
      ],
      "metadata": {
        "id": "CW4XiH4Rj4Ee"
      },
      "execution_count": 9,
      "outputs": []
    },
    {
      "cell_type": "code",
      "source": [
        "# def tensor_to_sentence(tensor, all_words, word_to_index):\n",
        "#     sentence = []\n",
        "#     for i in range(len(tensor)):\n",
        "#         if tensor[i] == 1:\n",
        "#             word = list(word_to_index.keys())[list(word_to_index.values()).index(i)]\n",
        "#             sentence.append(word)\n",
        "#     return \" \".join(sentence)"
      ],
      "metadata": {
        "id": "3hKDkeKcu7_G"
      },
      "execution_count": 10,
      "outputs": []
    },
    {
      "cell_type": "code",
      "source": [
        "from torch.utils.data import Dataset, DataLoader\n",
        "from sklearn.model_selection import train_test_split\n",
        "import torchvision.transforms as transforms\n",
        "\n",
        "class CustomDataset(Dataset):\n",
        "    def __init__(self, dataset, feature_transform=None, label_transform=None):\n",
        "        self.data = dataset\n",
        "        self.feature_transform = feature_transform\n",
        "        self.label_transform = label_transform\n",
        "    def __len__(self):\n",
        "        return len(self.data)\n",
        "\n",
        "    def __getitem__(self, idx):\n",
        "        sample = self.data[idx]\n",
        "        return label_transform[sample[0]], feature_transform(sample[1])\n",
        "            # sample[1] = self.transform(sample[1])\n"
      ],
      "metadata": {
        "id": "Q5l0VCoBlcgm"
      },
      "execution_count": 11,
      "outputs": []
    },
    {
      "cell_type": "code",
      "source": [
        "feature_transform = transforms.Compose([\n",
        "    sentence_to_tensor,\n",
        "])\n",
        "label_transform = intent_to_index"
      ],
      "metadata": {
        "id": "xtcBttw71sF4"
      },
      "execution_count": 12,
      "outputs": []
    },
    {
      "cell_type": "code",
      "source": [
        "from sklearn.model_selection import train_test_split\n",
        "\n",
        "training_data, test_data = train_test_split(dataset, test_size=0.4, random_state=42)"
      ],
      "metadata": {
        "id": "I4ZMexkRV5Gr"
      },
      "execution_count": 13,
      "outputs": []
    },
    {
      "cell_type": "code",
      "source": [
        "BATCH_SIZE = 32\n",
        "\n",
        "train_dataset = CustomDataset(training_data, feature_transform=feature_transform, label_transform=label_transform)\n",
        "train_dataloader = DataLoader(train_dataset, batch_size=32, shuffle=True, num_workers=2)\n",
        "\n",
        "test_dataset = CustomDataset(test_data, feature_transform=feature_transform, label_transform=label_transform)\n",
        "test_dataloader = DataLoader(test_dataset, batch_size=32, shuffle=False, num_workers=2)\n",
        "print(f\"Number of samples in training dataset: {len(train_dataset)}\")\n",
        "print(f\"Number of samples in cv dataset: {len(test_dataset)}\")"
      ],
      "metadata": {
        "id": "RnEfoGCamxIW",
        "colab": {
          "base_uri": "https://localhost:8080/"
        },
        "outputId": "d9391b62-1cf6-4b58-93ed-8eb695ab2fa6"
      },
      "execution_count": 14,
      "outputs": [
        {
          "output_type": "stream",
          "name": "stdout",
          "text": [
            "Number of samples in training dataset: 219\n",
            "Number of samples in cv dataset: 146\n"
          ]
        }
      ]
    },
    {
      "cell_type": "code",
      "source": [
        "# for batch, (intent, sentence) in enumerate(train_dataloader):\n",
        "#     if batch == 1:\n",
        "#       break\n",
        "#     print(sentence.shape)\n",
        "#     print(intent.shape)\n",
        "#     print(intent)\n",
        "#     print(\"-----------\")"
      ],
      "metadata": {
        "id": "gLE7vFqkocS-"
      },
      "execution_count": 15,
      "outputs": []
    },
    {
      "cell_type": "code",
      "source": [
        "class MyModel(nn.Module):\n",
        "    def __init__(self, word_count, intent_class_count, hidden_units):\n",
        "        super(MyModel, self).__init__()\n",
        "        self.fc1 = nn.Linear(word_count, hidden_units)\n",
        "        self.fc2 = nn.Linear(hidden_units, intent_class_count)\n",
        "\n",
        "    def forward(self, x):\n",
        "        x = torch.relu(self.fc1(x))\n",
        "        x = self.fc2(x)\n",
        "        return x"
      ],
      "metadata": {
        "id": "BlCQAXnsHa_w"
      },
      "execution_count": 16,
      "outputs": []
    },
    {
      "cell_type": "code",
      "source": [
        "def train_step(model, dataloader, optimizer, loss_fn):\n",
        "\n",
        "    model.train()\n",
        "    train_loss, train_acc = 0, 0\n",
        "\n",
        "    for batch, (intent, sentence) in enumerate(dataloader):\n",
        "\n",
        "        train_pred_logits = model(sentence)\n",
        "        loss = loss_fn(train_pred_logits, intent)\n",
        "\n",
        "        model.zero_grad()\n",
        "        loss.backward()\n",
        "        optimizer.step()\n",
        "\n",
        "        train_loss += loss.item()\n",
        "        loss = loss_fn(train_pred_logits, intent)\n",
        "\n",
        "        train_pred_class = torch.argmax(torch.softmax(train_pred_logits, dim=1), dim=1)\n",
        "        train_acc += (train_pred_class == intent).sum().item() / len(train_pred_class)\n",
        "\n",
        "    train_loss = train_loss / len(dataloader)\n",
        "    train_acc = train_acc / len(dataloader)\n",
        "    return train_loss, train_acc"
      ],
      "metadata": {
        "id": "7ZesrEimLuja"
      },
      "execution_count": 17,
      "outputs": []
    },
    {
      "cell_type": "code",
      "source": [
        "def test_step(model, dataloader, loss_fn):\n",
        "\n",
        "    model.train()\n",
        "    train_loss, train_acc = 0, 0\n",
        "\n",
        "    for batch, (intent, sentence) in enumerate(dataloader):\n",
        "\n",
        "        train_pred_logits = model(sentence)\n",
        "        loss = loss_fn(train_pred_logits, intent)\n",
        "\n",
        "        train_loss += loss.item()\n",
        "        loss = loss_fn(train_pred_logits, intent)\n",
        "\n",
        "        train_pred_class = torch.argmax(torch.softmax(train_pred_logits, dim=1), dim=1)\n",
        "        train_acc += (train_pred_class == intent).sum().item() / len(train_pred_class)\n",
        "\n",
        "    train_loss = train_loss / len(dataloader)\n",
        "    train_acc = train_acc / len(dataloader)\n",
        "    return train_loss, train_acc"
      ],
      "metadata": {
        "id": "zZ-_DhdGPBkT"
      },
      "execution_count": 18,
      "outputs": []
    },
    {
      "cell_type": "code",
      "source": [
        "from tqdm.auto import tqdm\n",
        "\n",
        "def train(model, train_dataloader, test_dataloader, epochs, optimizer, loss_fn):\n",
        "\n",
        "    results = {\"train_loss\": [],\n",
        "        \"train_acc\": [],\n",
        "        \"test_loss\": [],\n",
        "        \"test_acc\": []\n",
        "    }\n",
        "    for epoch in tqdm(range(epochs)):\n",
        "          train_loss, train_acc = train_step(model=model,\n",
        "                                            dataloader=train_dataloader,\n",
        "                                            loss_fn=loss_fn,\n",
        "                                            optimizer=optimizer)\n",
        "\n",
        "          test_loss, test_acc = test_step(model=model,\n",
        "              dataloader=test_dataloader,\n",
        "              loss_fn=loss_fn)\n",
        "\n",
        "          print(\n",
        "              f\"Epoch: {epoch+1} | \"\n",
        "              f\"train_loss: {train_loss:.4f} | \"\n",
        "              f\"train_acc: {train_acc:.4f} | \"\n",
        "              f\"test_loss: {test_loss:.4f} | \"\n",
        "              f\"test_acc: {test_acc:.4f}\"\n",
        "          )\n",
        "\n",
        "          results[\"train_loss\"].append(train_loss)\n",
        "          results[\"train_acc\"].append(train_acc)\n",
        "          results[\"test_loss\"].append(test_loss)\n",
        "          results[\"test_acc\"].append(test_acc)\n",
        "\n",
        "    return results"
      ],
      "metadata": {
        "id": "QyVHFUeesWfM"
      },
      "execution_count": 19,
      "outputs": []
    },
    {
      "cell_type": "code",
      "source": [
        "model = MyModel(len(all_words), len(all_intents), 128)\n",
        "loss_fn = nn.CrossEntropyLoss()\n",
        "optimizer = torch.optim.Adam(params=model.parameters(), lr=0.001)"
      ],
      "metadata": {
        "id": "2VQ2mNmxPoGq"
      },
      "execution_count": 20,
      "outputs": []
    },
    {
      "cell_type": "code",
      "source": [
        "model_0_results = train(model, train_dataloader, test_dataloader, 100, optimizer, loss_fn)"
      ],
      "metadata": {
        "colab": {
          "base_uri": "https://localhost:8080/",
          "height": 1000,
          "referenced_widgets": [
            "a1a4fb70ee644c05a6f6ab9ed09b41e9",
            "778ab8b7424a468fac978876fbbc3af9",
            "520c401fc2904362b01e0f695bc9303f",
            "716e1f822def4640a3938c8b34156504",
            "2941b7f7f5224a149876989b5e0d69dd",
            "fa7acae8fd2e4f9e85f11cc15b471033",
            "36290020a247468eabc87839e30d89ec",
            "1fd226a99a0e4bf1b8e68b43d97c81dd",
            "080d3db14bd04b99a91b78c5713303c4",
            "6494546a79114f82a244fce9777bbfd3",
            "89de09c959a94028a51a3cbbda5c0039"
          ]
        },
        "id": "Jbz_sjLfUjGl",
        "outputId": "849303af-d6c8-4fa1-a281-58b2eab99fdc"
      },
      "execution_count": 21,
      "outputs": [
        {
          "output_type": "display_data",
          "data": {
            "text/plain": [
              "  0%|          | 0/100 [00:00<?, ?it/s]"
            ],
            "application/vnd.jupyter.widget-view+json": {
              "version_major": 2,
              "version_minor": 0,
              "model_id": "a1a4fb70ee644c05a6f6ab9ed09b41e9"
            }
          },
          "metadata": {}
        },
        {
          "output_type": "stream",
          "name": "stdout",
          "text": [
            "Epoch: 1 | train_loss: 1.9373 | train_acc: 0.1819 | test_loss: 1.9240 | test_acc: 0.2771\n",
            "Epoch: 2 | train_loss: 1.8924 | train_acc: 0.5389 | test_loss: 1.9025 | test_acc: 0.5028\n",
            "Epoch: 3 | train_loss: 1.8468 | train_acc: 0.7556 | test_loss: 1.8753 | test_acc: 0.5750\n",
            "Epoch: 4 | train_loss: 1.7890 | train_acc: 0.8282 | test_loss: 1.8379 | test_acc: 0.6396\n",
            "Epoch: 5 | train_loss: 1.7109 | train_acc: 0.8778 | test_loss: 1.7885 | test_acc: 0.6646\n",
            "Epoch: 6 | train_loss: 1.6119 | train_acc: 0.8957 | test_loss: 1.7270 | test_acc: 0.6646\n",
            "Epoch: 7 | train_loss: 1.4909 | train_acc: 0.9233 | test_loss: 1.6513 | test_acc: 0.6583\n",
            "Epoch: 8 | train_loss: 1.3556 | train_acc: 0.9411 | test_loss: 1.5646 | test_acc: 0.6583\n",
            "Epoch: 9 | train_loss: 1.2022 | train_acc: 0.9501 | test_loss: 1.4698 | test_acc: 0.6833\n",
            "Epoch: 10 | train_loss: 1.0497 | train_acc: 0.9732 | test_loss: 1.3694 | test_acc: 0.7021\n",
            "Epoch: 11 | train_loss: 0.8962 | train_acc: 0.9777 | test_loss: 1.2660 | test_acc: 0.7333\n",
            "Epoch: 12 | train_loss: 0.7576 | train_acc: 0.9911 | test_loss: 1.1670 | test_acc: 0.7694\n",
            "Epoch: 13 | train_loss: 0.6350 | train_acc: 0.9955 | test_loss: 1.0716 | test_acc: 0.7819\n",
            "Epoch: 14 | train_loss: 0.5247 | train_acc: 1.0000 | test_loss: 0.9883 | test_acc: 0.8056\n",
            "Epoch: 15 | train_loss: 0.4327 | train_acc: 0.9955 | test_loss: 0.9111 | test_acc: 0.8181\n",
            "Epoch: 16 | train_loss: 0.3591 | train_acc: 0.9955 | test_loss: 0.8487 | test_acc: 0.8243\n",
            "Epoch: 17 | train_loss: 0.2972 | train_acc: 0.9955 | test_loss: 0.7999 | test_acc: 0.8243\n",
            "Epoch: 18 | train_loss: 0.2514 | train_acc: 0.9955 | test_loss: 0.7589 | test_acc: 0.8243\n",
            "Epoch: 19 | train_loss: 0.2116 | train_acc: 0.9955 | test_loss: 0.7217 | test_acc: 0.8243\n",
            "Epoch: 20 | train_loss: 0.1792 | train_acc: 0.9955 | test_loss: 0.6932 | test_acc: 0.8292\n",
            "Epoch: 21 | train_loss: 0.1546 | train_acc: 0.9955 | test_loss: 0.6712 | test_acc: 0.8292\n",
            "Epoch: 22 | train_loss: 0.1357 | train_acc: 1.0000 | test_loss: 0.6552 | test_acc: 0.8229\n",
            "Epoch: 23 | train_loss: 0.1176 | train_acc: 1.0000 | test_loss: 0.6394 | test_acc: 0.8229\n",
            "Epoch: 24 | train_loss: 0.1042 | train_acc: 1.0000 | test_loss: 0.6249 | test_acc: 0.8229\n",
            "Epoch: 25 | train_loss: 0.0925 | train_acc: 1.0000 | test_loss: 0.6141 | test_acc: 0.8229\n",
            "Epoch: 26 | train_loss: 0.0830 | train_acc: 1.0000 | test_loss: 0.6047 | test_acc: 0.8167\n",
            "Epoch: 27 | train_loss: 0.0747 | train_acc: 1.0000 | test_loss: 0.5977 | test_acc: 0.8167\n",
            "Epoch: 28 | train_loss: 0.0675 | train_acc: 1.0000 | test_loss: 0.5902 | test_acc: 0.8167\n",
            "Epoch: 29 | train_loss: 0.0620 | train_acc: 1.0000 | test_loss: 0.5842 | test_acc: 0.8167\n",
            "Epoch: 30 | train_loss: 0.0559 | train_acc: 1.0000 | test_loss: 0.5788 | test_acc: 0.8167\n",
            "Epoch: 31 | train_loss: 0.0513 | train_acc: 1.0000 | test_loss: 0.5731 | test_acc: 0.8167\n",
            "Epoch: 32 | train_loss: 0.0482 | train_acc: 1.0000 | test_loss: 0.5695 | test_acc: 0.8167\n",
            "Epoch: 33 | train_loss: 0.0436 | train_acc: 1.0000 | test_loss: 0.5654 | test_acc: 0.8229\n",
            "Epoch: 34 | train_loss: 0.0407 | train_acc: 1.0000 | test_loss: 0.5619 | test_acc: 0.8229\n",
            "Epoch: 35 | train_loss: 0.0378 | train_acc: 1.0000 | test_loss: 0.5589 | test_acc: 0.8229\n",
            "Epoch: 36 | train_loss: 0.0350 | train_acc: 1.0000 | test_loss: 0.5556 | test_acc: 0.8229\n",
            "Epoch: 37 | train_loss: 0.0327 | train_acc: 1.0000 | test_loss: 0.5539 | test_acc: 0.8229\n",
            "Epoch: 38 | train_loss: 0.0308 | train_acc: 1.0000 | test_loss: 0.5507 | test_acc: 0.8229\n",
            "Epoch: 39 | train_loss: 0.0290 | train_acc: 1.0000 | test_loss: 0.5503 | test_acc: 0.8229\n",
            "Epoch: 40 | train_loss: 0.0272 | train_acc: 1.0000 | test_loss: 0.5475 | test_acc: 0.8229\n",
            "Epoch: 41 | train_loss: 0.0254 | train_acc: 1.0000 | test_loss: 0.5471 | test_acc: 0.8229\n",
            "Epoch: 42 | train_loss: 0.0241 | train_acc: 1.0000 | test_loss: 0.5455 | test_acc: 0.8229\n",
            "Epoch: 43 | train_loss: 0.0229 | train_acc: 1.0000 | test_loss: 0.5437 | test_acc: 0.8229\n",
            "Epoch: 44 | train_loss: 0.0218 | train_acc: 1.0000 | test_loss: 0.5434 | test_acc: 0.8229\n",
            "Epoch: 45 | train_loss: 0.0206 | train_acc: 1.0000 | test_loss: 0.5414 | test_acc: 0.8229\n",
            "Epoch: 46 | train_loss: 0.0195 | train_acc: 1.0000 | test_loss: 0.5410 | test_acc: 0.8229\n",
            "Epoch: 47 | train_loss: 0.0186 | train_acc: 1.0000 | test_loss: 0.5401 | test_acc: 0.8229\n",
            "Epoch: 48 | train_loss: 0.0176 | train_acc: 1.0000 | test_loss: 0.5394 | test_acc: 0.8229\n",
            "Epoch: 49 | train_loss: 0.0169 | train_acc: 1.0000 | test_loss: 0.5386 | test_acc: 0.8229\n",
            "Epoch: 50 | train_loss: 0.0160 | train_acc: 1.0000 | test_loss: 0.5381 | test_acc: 0.8229\n",
            "Epoch: 51 | train_loss: 0.0154 | train_acc: 1.0000 | test_loss: 0.5377 | test_acc: 0.8229\n",
            "Epoch: 52 | train_loss: 0.0148 | train_acc: 1.0000 | test_loss: 0.5373 | test_acc: 0.8229\n",
            "Epoch: 53 | train_loss: 0.0141 | train_acc: 1.0000 | test_loss: 0.5371 | test_acc: 0.8229\n",
            "Epoch: 54 | train_loss: 0.0136 | train_acc: 1.0000 | test_loss: 0.5366 | test_acc: 0.8229\n",
            "Epoch: 55 | train_loss: 0.0130 | train_acc: 1.0000 | test_loss: 0.5363 | test_acc: 0.8229\n",
            "Epoch: 56 | train_loss: 0.0126 | train_acc: 1.0000 | test_loss: 0.5359 | test_acc: 0.8229\n",
            "Epoch: 57 | train_loss: 0.0120 | train_acc: 1.0000 | test_loss: 0.5357 | test_acc: 0.8229\n",
            "Epoch: 58 | train_loss: 0.0115 | train_acc: 1.0000 | test_loss: 0.5357 | test_acc: 0.8229\n",
            "Epoch: 59 | train_loss: 0.0112 | train_acc: 1.0000 | test_loss: 0.5354 | test_acc: 0.8229\n",
            "Epoch: 60 | train_loss: 0.0107 | train_acc: 1.0000 | test_loss: 0.5350 | test_acc: 0.8229\n",
            "Epoch: 61 | train_loss: 0.0104 | train_acc: 1.0000 | test_loss: 0.5343 | test_acc: 0.8229\n",
            "Epoch: 62 | train_loss: 0.0100 | train_acc: 1.0000 | test_loss: 0.5344 | test_acc: 0.8229\n",
            "Epoch: 63 | train_loss: 0.0096 | train_acc: 1.0000 | test_loss: 0.5346 | test_acc: 0.8229\n",
            "Epoch: 64 | train_loss: 0.0094 | train_acc: 1.0000 | test_loss: 0.5345 | test_acc: 0.8229\n",
            "Epoch: 65 | train_loss: 0.0090 | train_acc: 1.0000 | test_loss: 0.5356 | test_acc: 0.8229\n",
            "Epoch: 66 | train_loss: 0.0087 | train_acc: 1.0000 | test_loss: 0.5349 | test_acc: 0.8229\n",
            "Epoch: 67 | train_loss: 0.0085 | train_acc: 1.0000 | test_loss: 0.5346 | test_acc: 0.8229\n",
            "Epoch: 68 | train_loss: 0.0082 | train_acc: 1.0000 | test_loss: 0.5353 | test_acc: 0.8229\n",
            "Epoch: 69 | train_loss: 0.0079 | train_acc: 1.0000 | test_loss: 0.5352 | test_acc: 0.8229\n",
            "Epoch: 70 | train_loss: 0.0077 | train_acc: 1.0000 | test_loss: 0.5349 | test_acc: 0.8229\n",
            "Epoch: 71 | train_loss: 0.0074 | train_acc: 1.0000 | test_loss: 0.5347 | test_acc: 0.8229\n",
            "Epoch: 72 | train_loss: 0.0074 | train_acc: 1.0000 | test_loss: 0.5351 | test_acc: 0.8229\n",
            "Epoch: 73 | train_loss: 0.0071 | train_acc: 1.0000 | test_loss: 0.5352 | test_acc: 0.8229\n",
            "Epoch: 74 | train_loss: 0.0068 | train_acc: 1.0000 | test_loss: 0.5351 | test_acc: 0.8292\n",
            "Epoch: 75 | train_loss: 0.0067 | train_acc: 1.0000 | test_loss: 0.5353 | test_acc: 0.8292\n",
            "Epoch: 76 | train_loss: 0.0064 | train_acc: 1.0000 | test_loss: 0.5355 | test_acc: 0.8292\n",
            "Epoch: 77 | train_loss: 0.0064 | train_acc: 1.0000 | test_loss: 0.5357 | test_acc: 0.8292\n",
            "Epoch: 78 | train_loss: 0.0061 | train_acc: 1.0000 | test_loss: 0.5357 | test_acc: 0.8292\n",
            "Epoch: 79 | train_loss: 0.0060 | train_acc: 1.0000 | test_loss: 0.5359 | test_acc: 0.8292\n",
            "Epoch: 80 | train_loss: 0.0058 | train_acc: 1.0000 | test_loss: 0.5364 | test_acc: 0.8292\n",
            "Epoch: 81 | train_loss: 0.0056 | train_acc: 1.0000 | test_loss: 0.5363 | test_acc: 0.8292\n",
            "Epoch: 82 | train_loss: 0.0055 | train_acc: 1.0000 | test_loss: 0.5366 | test_acc: 0.8292\n",
            "Epoch: 83 | train_loss: 0.0054 | train_acc: 1.0000 | test_loss: 0.5369 | test_acc: 0.8292\n",
            "Epoch: 84 | train_loss: 0.0053 | train_acc: 1.0000 | test_loss: 0.5377 | test_acc: 0.8292\n",
            "Epoch: 85 | train_loss: 0.0051 | train_acc: 1.0000 | test_loss: 0.5374 | test_acc: 0.8292\n",
            "Epoch: 86 | train_loss: 0.0050 | train_acc: 1.0000 | test_loss: 0.5379 | test_acc: 0.8292\n",
            "Epoch: 87 | train_loss: 0.0049 | train_acc: 1.0000 | test_loss: 0.5381 | test_acc: 0.8292\n",
            "Epoch: 88 | train_loss: 0.0048 | train_acc: 1.0000 | test_loss: 0.5384 | test_acc: 0.8292\n",
            "Epoch: 89 | train_loss: 0.0047 | train_acc: 1.0000 | test_loss: 0.5385 | test_acc: 0.8292\n",
            "Epoch: 90 | train_loss: 0.0045 | train_acc: 1.0000 | test_loss: 0.5390 | test_acc: 0.8292\n",
            "Epoch: 91 | train_loss: 0.0044 | train_acc: 1.0000 | test_loss: 0.5391 | test_acc: 0.8292\n",
            "Epoch: 92 | train_loss: 0.0044 | train_acc: 1.0000 | test_loss: 0.5394 | test_acc: 0.8292\n",
            "Epoch: 93 | train_loss: 0.0042 | train_acc: 1.0000 | test_loss: 0.5395 | test_acc: 0.8292\n",
            "Epoch: 94 | train_loss: 0.0041 | train_acc: 1.0000 | test_loss: 0.5402 | test_acc: 0.8292\n",
            "Epoch: 95 | train_loss: 0.0041 | train_acc: 1.0000 | test_loss: 0.5401 | test_acc: 0.8292\n",
            "Epoch: 96 | train_loss: 0.0040 | train_acc: 1.0000 | test_loss: 0.5406 | test_acc: 0.8292\n",
            "Epoch: 97 | train_loss: 0.0039 | train_acc: 1.0000 | test_loss: 0.5408 | test_acc: 0.8292\n",
            "Epoch: 98 | train_loss: 0.0038 | train_acc: 1.0000 | test_loss: 0.5411 | test_acc: 0.8292\n",
            "Epoch: 99 | train_loss: 0.0037 | train_acc: 1.0000 | test_loss: 0.5412 | test_acc: 0.8292\n",
            "Epoch: 100 | train_loss: 0.0036 | train_acc: 1.0000 | test_loss: 0.5418 | test_acc: 0.8292\n"
          ]
        }
      ]
    },
    {
      "cell_type": "code",
      "source": [
        "fig, ax = plt.subplots(figsize=(8, 6))\n",
        "ax.plot(model_0_results[\"train_loss\"], label=\"Train Loss\")\n",
        "ax.plot(model_0_results[\"test_loss\"], label=\"Test Loss\")\n",
        "ax.set_xlabel(\"Epoch\")\n",
        "ax.set_ylabel(\"Loss\")\n",
        "ax.set_title(\"Training and Test Loss\")\n",
        "ax.legend()\n",
        "plt.show()"
      ],
      "metadata": {
        "colab": {
          "base_uri": "https://localhost:8080/",
          "height": 564
        },
        "id": "khIsB_QXWXqp",
        "outputId": "ea0c31c0-8773-44c6-a762-b107066cd225"
      },
      "execution_count": 22,
      "outputs": [
        {
          "output_type": "display_data",
          "data": {
            "text/plain": [
              "<Figure size 800x600 with 1 Axes>"
            ],
            "image/png": "[encoded data removed]"
          },
          "metadata": {}
        }
      ]
    },
    {
      "cell_type": "code",
      "source": [
        "def predict(model, input_data):\n",
        "    with torch.no_grad():\n",
        "        pred_logits = model(input_data)\n",
        "        pred_class = torch.argmax(torch.softmax(pred_logits, dim=0), dim=0)\n",
        "\n",
        "        return index_to_intent[pred_class.item()]"
      ],
      "metadata": {
        "id": "ArZtzjNLXa2m"
      },
      "execution_count": 23,
      "outputs": []
    },
    {
      "cell_type": "code",
      "source": [
        "print(predict(model,  sentence_to_tensor(\"hI frIend?\")))"
      ],
      "metadata": {
        "colab": {
          "base_uri": "https://localhost:8080/"
        },
        "id": "r2U11n2YYBfD",
        "outputId": "2a6241e6-fd79-4058-b14c-a9ee31bf0dea"
      },
      "execution_count": 56,
      "outputs": [
        {
          "output_type": "stream",
          "name": "stdout",
          "text": [
            "Greet\n"
          ]
        }
      ]
    },
    {
      "cell_type": "code",
      "source": [
        "from sklearn.metrics import accuracy_score"
      ],
      "metadata": {
        "id": "hIMXctXzOMzD"
      },
      "execution_count": 57,
      "outputs": []
    },
    {
      "cell_type": "code",
      "source": [
        "train_sentences = [[x, y] for y, x in training_data]\n",
        "train_inputs = list(map(lambda x: sentence_to_tensor(x[0]), train_sentences))\n",
        "train_targets = list(map(lambda x: intent_to_index[x[1]], train_sentences))\n",
        "train_predictions = [ int(torch.argmax(torch.softmax(model(input), dim=0), dim=0)) for input in train_inputs]"
      ],
      "metadata": {
        "id": "BzcwWR1AOOLd"
      },
      "execution_count": 73,
      "outputs": []
    },
    {
      "cell_type": "code",
      "source": [
        "accuracy_score(train_predictions, train_targets)"
      ],
      "metadata": {
        "colab": {
          "base_uri": "https://localhost:8080/"
        },
        "id": "NOwv7GX0Pkik",
        "outputId": "693c0ad9-0bcf-4d5c-d783-2683ee74fa0c"
      },
      "execution_count": 74,
      "outputs": [
        {
          "output_type": "execute_result",
          "data": {
            "text/plain": [
              "1.0"
            ]
          },
          "metadata": {},
          "execution_count": 74
        }
      ]
    },
    {
      "cell_type": "code",
      "source": [
        "test_sentences = [[x, y] for y, x in test_data]\n",
        "test_inputs = list(map(lambda x: sentence_to_tensor(x[0]), test_sentences))\n",
        "test_targets = list(map(lambda x: intent_to_index[x[1]], test_sentences))\n",
        "test_predictions = [ int(torch.argmax(torch.softmax(model(input), dim=0), dim=0)) for input in test_inputs]"
      ],
      "metadata": {
        "id": "t6iT8yFTRRMV"
      },
      "execution_count": 75,
      "outputs": []
    },
    {
      "cell_type": "code",
      "source": [
        "accuracy_score(test_predictions, test_targets)"
      ],
      "metadata": {
        "colab": {
          "base_uri": "https://localhost:8080/"
        },
        "id": "DlVX2Oz5T8VJ",
        "outputId": "b5be20d9-10ed-4501-be05-a2d79990d65b"
      },
      "execution_count": 76,
      "outputs": [
        {
          "output_type": "execute_result",
          "data": {
            "text/plain": [
              "0.8287671232876712"
            ]
          },
          "metadata": {},
          "execution_count": 76
        }
      ]
    },
    {
      "cell_type": "code",
      "source": [],
      "metadata": {
        "id": "6KmOo0KlT_OK"
      },
      "execution_count": null,
      "outputs": []
    }
  ]
}