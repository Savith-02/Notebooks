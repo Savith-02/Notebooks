{
  "nbformat": 4,
  "nbformat_minor": 0,
  "metadata": {
    "colab": {
      "provenance": [],
      "gpuType": "T4",
      "mount_file_id": "1sST_UPQk_FIxuOx6R_iEnS3WuZ_3p12H",
      "authorship_tag": "ABX9TyMeU9Z4OmVx3T6AnE8e2KtM",
      "include_colab_link": true
    },
    "kernelspec": {
      "name": "python3",
      "display_name": "Python 3"
    },
    "language_info": {
      "name": "python"
    },
    "accelerator": "GPU"
  },
  "cells": [
    {
      "cell_type": "markdown",
      "metadata": {
        "id": "view-in-github",
        "colab_type": "text"
      },
      "source": [
        "<a href=\"https://colab.research.google.com/github/Savith-02/notebooks/blob/main/rnn_intent_classifier_BERT.ipynb\" target=\"_parent\"><img src=\"https://colab.research.google.com/assets/colab-badge.svg\" alt=\"Open In Colab\"/></a>"
      ]
    },
    {
      "cell_type": "code",
      "source": [
        "# import torch\n",
        "# from transformers import BertTokenizer, BertForSequenceClassification\n",
        "# from torch.utils.data import DataLoader, Dataset\n",
        "# from sklearn.model_selection import train_test_split"
      ],
      "metadata": {
        "id": "fOY69bSitt8w"
      },
      "execution_count": 1,
      "outputs": []
    },
    {
      "cell_type": "code",
      "source": [
        "# def read_dataset(file_path):\n",
        "#     data = []\n",
        "#     with open(file_path, 'r') as file:\n",
        "#         for line in file:\n",
        "#             intent, sentence = line.strip().split(',')\n",
        "#             data.append((intent.strip(), sentence.strip()))\n",
        "#     return data\n",
        "\n",
        "# file_path = \"drive/MyDrive/Code/rawData/data_small.txt\"\n",
        "# dataset = read_dataset(file_path)[1:]\n",
        "# print(dataset[:5])\n",
        "# texts = [text for label, text in dataset]\n",
        "# labels = [label for label, text in dataset]\n",
        "\n",
        "# print(texts[:5], labels[:5])\n",
        "# # Example dataset\n",
        "# # texts = [\"This is a good movie\", \"This is a bad movie\", \"I love this film\", \"I hate this film\"]\n",
        "# # labels = [1, 0, 1, 0]"
      ],
      "metadata": {
        "colab": {
          "base_uri": "https://localhost:8080/"
        },
        "id": "T0xZURQrtw1X",
        "outputId": "4329cae4-4fb9-41c1-d057-03ecf471a048"
      },
      "execution_count": 2,
      "outputs": [
        {
          "output_type": "stream",
          "name": "stdout",
          "text": [
            "[('Greet', 'Hi'), ('Greet', 'Hello'), ('Greet', 'Hey there'), ('Greet', 'Good morning'), ('Greet', 'Howdy')]\n",
            "['Hi', 'Hello', 'Hey there', 'Good morning', 'Howdy'] ['Greet', 'Greet', 'Greet', 'Greet', 'Greet']\n"
          ]
        }
      ]
    },
    {
      "cell_type": "code",
      "source": [
        "# print(len(texts))"
      ],
      "metadata": {
        "colab": {
          "base_uri": "https://localhost:8080/"
        },
        "id": "oA74ratf1cM6",
        "outputId": "23839654-16a8-4261-88ef-730211821afa"
      },
      "execution_count": 3,
      "outputs": [
        {
          "output_type": "stream",
          "name": "stdout",
          "text": [
            "365\n"
          ]
        }
      ]
    },
    {
      "cell_type": "code",
      "source": [
        "# all_intents = set(intent for intent, _ in dataset[1:])\n",
        "# intent_to_index = {intent: i for i, intent in enumerate(all_intents)}\n",
        "# index_to_intent = {intent: i for i, intent in intent_to_index.items()}\n",
        "# labels = list(map(lambda x: intent_to_index[x], labels))"
      ],
      "metadata": {
        "id": "LMrVKCI4x3t_"
      },
      "execution_count": 4,
      "outputs": []
    },
    {
      "cell_type": "code",
      "source": [
        "# all_intents"
      ],
      "metadata": {
        "colab": {
          "base_uri": "https://localhost:8080/"
        },
        "id": "_1Y5LBV615Qo",
        "outputId": "50be26ef-20fb-4d38-bcb0-86933c35b9bc"
      },
      "execution_count": 5,
      "outputs": [
        {
          "output_type": "execute_result",
          "data": {
            "text/plain": [
              "{'Complaint',\n",
              " 'Farewell',\n",
              " 'Feedback',\n",
              " 'Greet',\n",
              " 'Inquiry',\n",
              " 'Navigation',\n",
              " 'Request'}"
            ]
          },
          "metadata": {},
          "execution_count": 5
        }
      ]
    },
    {
      "cell_type": "code",
      "source": [
        "# indexes = set(index for index in labels)\n",
        "# print(f\"All unique index count: {len(indexes)}\")"
      ],
      "metadata": {
        "colab": {
          "base_uri": "https://localhost:8080/"
        },
        "id": "49fHf_BJzhBp",
        "outputId": "4a5c6f75-741e-4ca1-97cb-2cf510268404"
      },
      "execution_count": 6,
      "outputs": [
        {
          "output_type": "stream",
          "name": "stdout",
          "text": [
            "All unique index count: 7\n"
          ]
        }
      ]
    },
    {
      "cell_type": "code",
      "source": [
        "# # Data Augmentation (Synonym Replacement)\n",
        "# def synonym_replacement(sentence):\n",
        "#     words = sentence.split()\n",
        "#     new_sentence = sentence\n",
        "#     for word in words:\n",
        "#         # Replace with a synonym (simple example, replace 'good' with 'nice')\n",
        "#         if word == \"good\":\n",
        "#             new_sentence = new_sentence.replace(\"good\", \"nice\")\n",
        "#     return new_sentence\n",
        "\n",
        "# augmented_texts = [synonym_replacement(text) for text in texts]\n",
        "# texts.extend(augmented_texts)\n",
        "# labels.extend(labels)"
      ],
      "metadata": {
        "id": "FA6QOgLktzFG"
      },
      "execution_count": 9,
      "outputs": []
    },
    {
      "cell_type": "code",
      "execution_count": null,
      "metadata": {
        "id": "-QY5ibQerezg"
      },
      "outputs": [],
      "source": [
        "# tokenizer = BertTokenizer.from_pretrained('bert-base-uncased')\n",
        "# num_classes = 7  # Update this number based on your dataset\n",
        "\n",
        "# from torch.nn.utils.rnn import pad_sequence\n",
        "\n",
        "# class TextDataset(Dataset):\n",
        "#     def __init__(self, texts, labels):\n",
        "#         self.texts = texts\n",
        "#         self.labels = labels\n",
        "\n",
        "#     def __len__(self):\n",
        "#         return len(self.texts)\n",
        "\n",
        "#     def __getitem__(self, idx):\n",
        "#         text = self.texts[idx]\n",
        "#         label = self.labels[idx]\n",
        "#         encoding = tokenizer.encode_plus(\n",
        "#             text,\n",
        "#             add_special_tokens=True,\n",
        "#             max_length=64,\n",
        "#             return_token_type_ids=False,\n",
        "#             padding='max_length',\n",
        "#             return_attention_mask=True,\n",
        "#             return_tensors='pt',\n",
        "#         )\n",
        "#         return {\n",
        "#             'text': text,\n",
        "#             'input_ids': encoding['input_ids'].flatten(),\n",
        "#             'attention_mask': encoding['attention_mask'].flatten(),\n",
        "#             'label': torch.tensor(label, dtype=torch.long)\n",
        "#         }\n",
        "\n",
        "#     def collate_fn(batch):\n",
        "#         input_ids = [item['input_ids'] for item in batch]\n",
        "#         attention_masks = [item['attention_mask'] for item in batch]\n",
        "#         labels = [item['label'] for item in batch]\n",
        "\n",
        "#         padded_input_ids = pad_sequence(input_ids, batch_first=True)\n",
        "#         padded_attention_masks = pad_sequence(attention_masks, batch_first=True)\n",
        "\n",
        "#         return {\n",
        "#             'input_ids': padded_input_ids,\n",
        "#             'attention_mask': padded_attention_masks,\n",
        "#             'label': torch.stack(labels)\n",
        "#         }\n",
        "\n",
        "# # Split dataset\n",
        "# train_texts, val_texts, train_labels, val_labels = train_test_split(texts, labels, test_size=0.2, shuffle=True)\n",
        "\n",
        "# train_dataset = TextDataset(train_texts, train_labels)\n",
        "# val_dataset = TextDataset(val_texts, val_labels)\n",
        "\n",
        "# train_loader = DataLoader(train_dataset, batch_size=2, shuffle=True, collate_fn=train_dataset.collate_fn)\n",
        "# val_loader = DataLoader(val_dataset, batch_size=2, shuffle=False, collate_fn=val_dataset.collate_fn)\n"
      ]
    },
    {
      "cell_type": "code",
      "source": [
        "# print(f\"Number of samples in training dataset: {len(train_dataset)}\")\n",
        "# print(f\"Number of samples in cv dataset: {len(val_dataset)}\")"
      ],
      "metadata": {
        "colab": {
          "base_uri": "https://localhost:8080/"
        },
        "id": "aQ4XppDZv7uw",
        "outputId": "857a4935-d94b-4be9-c884-f2a200da4056"
      },
      "execution_count": null,
      "outputs": [
        {
          "output_type": "stream",
          "name": "stdout",
          "text": [
            "Number of samples in training dataset: 584\n",
            "Number of samples in cv dataset: 146\n"
          ]
        }
      ]
    },
    {
      "cell_type": "code",
      "source": [
        "# train_dataset[5]"
      ],
      "metadata": {
        "colab": {
          "base_uri": "https://localhost:8080/"
        },
        "id": "mg8v5QPFwK-Y",
        "outputId": "d436c80b-2e0e-448e-8fea-8e9bc1ce28cb"
      },
      "execution_count": null,
      "outputs": [
        {
          "output_type": "execute_result",
          "data": {
            "text/plain": [
              "{'text': 'The product description did not accurately reflect its capabilities.',\n",
              " 'input_ids': tensor([  101,  1996,  4031,  6412,  2106,  2025, 14125,  8339,  2049,  9859,\n",
              "          1012,   102,     0,     0,     0,     0,     0,     0,     0,     0,\n",
              "             0,     0,     0,     0,     0,     0,     0,     0,     0,     0,\n",
              "             0,     0,     0,     0,     0,     0,     0,     0,     0,     0,\n",
              "             0,     0,     0,     0,     0,     0,     0,     0,     0,     0,\n",
              "             0,     0,     0,     0,     0,     0,     0,     0,     0,     0,\n",
              "             0,     0,     0,     0]),\n",
              " 'attention_mask': tensor([1, 1, 1, 1, 1, 1, 1, 1, 1, 1, 1, 1, 0, 0, 0, 0, 0, 0, 0, 0, 0, 0, 0, 0,\n",
              "         0, 0, 0, 0, 0, 0, 0, 0, 0, 0, 0, 0, 0, 0, 0, 0, 0, 0, 0, 0, 0, 0, 0, 0,\n",
              "         0, 0, 0, 0, 0, 0, 0, 0, 0, 0, 0, 0, 0, 0, 0, 0]),\n",
              " 'label': tensor(6)}"
            ]
          },
          "metadata": {},
          "execution_count": 134
        }
      ]
    },
    {
      "cell_type": "code",
      "source": [
        "# # Model\n",
        "# # model = BertForSequenceClassification.from_pretrained('bert-base-uncased')\n",
        "# model = BertForSequenceClassification.from_pretrained('bert-base-uncased', num_labels=num_classes)\n",
        "# # Training loop (simplified)\n",
        "# optimizer = torch.optim.Adam(model.parameters(), lr=1e-5)\n",
        "# model.train()"
      ],
      "metadata": {
        "colab": {
          "base_uri": "https://localhost:8080/"
        },
        "id": "ubB2TMI5uKWm",
        "outputId": "5af5df57-0939-4c18-82de-3104deb69117"
      },
      "execution_count": null,
      "outputs": [
        {
          "output_type": "stream",
          "name": "stderr",
          "text": [
            "Some weights of BertForSequenceClassification were not initialized from the model checkpoint at bert-base-uncased and are newly initialized: ['classifier.bias', 'classifier.weight']\n",
            "You should probably TRAIN this model on a down-stream task to be able to use it for predictions and inference.\n"
          ]
        },
        {
          "output_type": "execute_result",
          "data": {
            "text/plain": [
              "BertForSequenceClassification(\n",
              "  (bert): BertModel(\n",
              "    (embeddings): BertEmbeddings(\n",
              "      (word_embeddings): Embedding(30522, 768, padding_idx=0)\n",
              "      (position_embeddings): Embedding(512, 768)\n",
              "      (token_type_embeddings): Embedding(2, 768)\n",
              "      (LayerNorm): LayerNorm((768,), eps=1e-12, elementwise_affine=True)\n",
              "      (dropout): Dropout(p=0.1, inplace=False)\n",
              "    )\n",
              "    (encoder): BertEncoder(\n",
              "      (layer): ModuleList(\n",
              "        (0-11): 12 x BertLayer(\n",
              "          (attention): BertAttention(\n",
              "            (self): BertSdpaSelfAttention(\n",
              "              (query): Linear(in_features=768, out_features=768, bias=True)\n",
              "              (key): Linear(in_features=768, out_features=768, bias=True)\n",
              "              (value): Linear(in_features=768, out_features=768, bias=True)\n",
              "              (dropout): Dropout(p=0.1, inplace=False)\n",
              "            )\n",
              "            (output): BertSelfOutput(\n",
              "              (dense): Linear(in_features=768, out_features=768, bias=True)\n",
              "              (LayerNorm): LayerNorm((768,), eps=1e-12, elementwise_affine=True)\n",
              "              (dropout): Dropout(p=0.1, inplace=False)\n",
              "            )\n",
              "          )\n",
              "          (intermediate): BertIntermediate(\n",
              "            (dense): Linear(in_features=768, out_features=3072, bias=True)\n",
              "            (intermediate_act_fn): GELUActivation()\n",
              "          )\n",
              "          (output): BertOutput(\n",
              "            (dense): Linear(in_features=3072, out_features=768, bias=True)\n",
              "            (LayerNorm): LayerNorm((768,), eps=1e-12, elementwise_affine=True)\n",
              "            (dropout): Dropout(p=0.1, inplace=False)\n",
              "          )\n",
              "        )\n",
              "      )\n",
              "    )\n",
              "    (pooler): BertPooler(\n",
              "      (dense): Linear(in_features=768, out_features=768, bias=True)\n",
              "      (activation): Tanh()\n",
              "    )\n",
              "  )\n",
              "  (dropout): Dropout(p=0.1, inplace=False)\n",
              "  (classifier): Linear(in_features=768, out_features=2, bias=True)\n",
              ")"
            ]
          },
          "metadata": {},
          "execution_count": 135
        }
      ]
    },
    {
      "cell_type": "code",
      "source": [
        "# for epoch in range(3):  # Number of epochs\n",
        "#     for batch in train_loader:\n",
        "#         optimizer.zero_grad()\n",
        "#         input_ids = batch['input_ids']\n",
        "#         attention_mask = batch['attention_mask']\n",
        "#         labels = batch['label']\n",
        "#         outputs = model(input_ids, attention_mask=attention_mask, labels=labels)\n",
        "#         loss = outputs.loss\n",
        "#         loss.backward()\n",
        "#         optimizer.step()\n"
      ],
      "metadata": {
        "colab": {
          "base_uri": "https://localhost:8080/",
          "height": 321
        },
        "id": "isgZV1L_uGNf",
        "outputId": "02b8be5f-4733-4bdb-ba9b-81cc0bd80de1"
      },
      "execution_count": null,
      "outputs": [
        {
          "output_type": "error",
          "ename": "TypeError",
          "evalue": "TextDataset.collate_fn() takes 1 positional argument but 2 were given",
          "traceback": [
            "\u001b[0;31m---------------------------------------------------------------------------\u001b[0m",
            "\u001b[0;31mTypeError\u001b[0m                                 Traceback (most recent call last)",
            "\u001b[0;32m<ipython-input-136-de6a157f85f4>\u001b[0m in \u001b[0;36m<cell line: 1>\u001b[0;34m()\u001b[0m\n\u001b[1;32m      1\u001b[0m \u001b[0;32mfor\u001b[0m \u001b[0mepoch\u001b[0m \u001b[0;32min\u001b[0m \u001b[0mrange\u001b[0m\u001b[0;34m(\u001b[0m\u001b[0;36m3\u001b[0m\u001b[0;34m)\u001b[0m\u001b[0;34m:\u001b[0m  \u001b[0;31m# Number of epochs\u001b[0m\u001b[0;34m\u001b[0m\u001b[0;34m\u001b[0m\u001b[0m\n\u001b[0;32m----> 2\u001b[0;31m     \u001b[0;32mfor\u001b[0m \u001b[0mbatch\u001b[0m \u001b[0;32min\u001b[0m \u001b[0mtrain_loader\u001b[0m\u001b[0;34m:\u001b[0m\u001b[0;34m\u001b[0m\u001b[0;34m\u001b[0m\u001b[0m\n\u001b[0m\u001b[1;32m      3\u001b[0m         \u001b[0moptimizer\u001b[0m\u001b[0;34m.\u001b[0m\u001b[0mzero_grad\u001b[0m\u001b[0;34m(\u001b[0m\u001b[0;34m)\u001b[0m\u001b[0;34m\u001b[0m\u001b[0;34m\u001b[0m\u001b[0m\n\u001b[1;32m      4\u001b[0m         \u001b[0minput_ids\u001b[0m \u001b[0;34m=\u001b[0m \u001b[0mbatch\u001b[0m\u001b[0;34m[\u001b[0m\u001b[0;34m'input_ids'\u001b[0m\u001b[0;34m]\u001b[0m\u001b[0;34m\u001b[0m\u001b[0;34m\u001b[0m\u001b[0m\n\u001b[1;32m      5\u001b[0m         \u001b[0mattention_mask\u001b[0m \u001b[0;34m=\u001b[0m \u001b[0mbatch\u001b[0m\u001b[0;34m[\u001b[0m\u001b[0;34m'attention_mask'\u001b[0m\u001b[0;34m]\u001b[0m\u001b[0;34m\u001b[0m\u001b[0;34m\u001b[0m\u001b[0m\n",
            "\u001b[0;32m/usr/local/lib/python3.10/dist-packages/torch/utils/data/dataloader.py\u001b[0m in \u001b[0;36m__next__\u001b[0;34m(self)\u001b[0m\n\u001b[1;32m    629\u001b[0m                 \u001b[0;31m# TODO(https://github.com/pytorch/pytorch/issues/76750)\u001b[0m\u001b[0;34m\u001b[0m\u001b[0;34m\u001b[0m\u001b[0m\n\u001b[1;32m    630\u001b[0m                 \u001b[0mself\u001b[0m\u001b[0;34m.\u001b[0m\u001b[0m_reset\u001b[0m\u001b[0;34m(\u001b[0m\u001b[0;34m)\u001b[0m  \u001b[0;31m# type: ignore[call-arg]\u001b[0m\u001b[0;34m\u001b[0m\u001b[0;34m\u001b[0m\u001b[0m\n\u001b[0;32m--> 631\u001b[0;31m             \u001b[0mdata\u001b[0m \u001b[0;34m=\u001b[0m \u001b[0mself\u001b[0m\u001b[0;34m.\u001b[0m\u001b[0m_next_data\u001b[0m\u001b[0;34m(\u001b[0m\u001b[0;34m)\u001b[0m\u001b[0;34m\u001b[0m\u001b[0;34m\u001b[0m\u001b[0m\n\u001b[0m\u001b[1;32m    632\u001b[0m             \u001b[0mself\u001b[0m\u001b[0;34m.\u001b[0m\u001b[0m_num_yielded\u001b[0m \u001b[0;34m+=\u001b[0m \u001b[0;36m1\u001b[0m\u001b[0;34m\u001b[0m\u001b[0;34m\u001b[0m\u001b[0m\n\u001b[1;32m    633\u001b[0m             \u001b[0;32mif\u001b[0m \u001b[0mself\u001b[0m\u001b[0;34m.\u001b[0m\u001b[0m_dataset_kind\u001b[0m \u001b[0;34m==\u001b[0m \u001b[0m_DatasetKind\u001b[0m\u001b[0;34m.\u001b[0m\u001b[0mIterable\u001b[0m \u001b[0;32mand\u001b[0m\u001b[0;31m \u001b[0m\u001b[0;31m\\\u001b[0m\u001b[0;34m\u001b[0m\u001b[0;34m\u001b[0m\u001b[0m\n",
            "\u001b[0;32m/usr/local/lib/python3.10/dist-packages/torch/utils/data/dataloader.py\u001b[0m in \u001b[0;36m_next_data\u001b[0;34m(self)\u001b[0m\n\u001b[1;32m    673\u001b[0m     \u001b[0;32mdef\u001b[0m \u001b[0m_next_data\u001b[0m\u001b[0;34m(\u001b[0m\u001b[0mself\u001b[0m\u001b[0;34m)\u001b[0m\u001b[0;34m:\u001b[0m\u001b[0;34m\u001b[0m\u001b[0;34m\u001b[0m\u001b[0m\n\u001b[1;32m    674\u001b[0m         \u001b[0mindex\u001b[0m \u001b[0;34m=\u001b[0m \u001b[0mself\u001b[0m\u001b[0;34m.\u001b[0m\u001b[0m_next_index\u001b[0m\u001b[0;34m(\u001b[0m\u001b[0;34m)\u001b[0m  \u001b[0;31m# may raise StopIteration\u001b[0m\u001b[0;34m\u001b[0m\u001b[0;34m\u001b[0m\u001b[0m\n\u001b[0;32m--> 675\u001b[0;31m         \u001b[0mdata\u001b[0m \u001b[0;34m=\u001b[0m \u001b[0mself\u001b[0m\u001b[0;34m.\u001b[0m\u001b[0m_dataset_fetcher\u001b[0m\u001b[0;34m.\u001b[0m\u001b[0mfetch\u001b[0m\u001b[0;34m(\u001b[0m\u001b[0mindex\u001b[0m\u001b[0;34m)\u001b[0m  \u001b[0;31m# may raise StopIteration\u001b[0m\u001b[0;34m\u001b[0m\u001b[0;34m\u001b[0m\u001b[0m\n\u001b[0m\u001b[1;32m    676\u001b[0m         \u001b[0;32mif\u001b[0m \u001b[0mself\u001b[0m\u001b[0;34m.\u001b[0m\u001b[0m_pin_memory\u001b[0m\u001b[0;34m:\u001b[0m\u001b[0;34m\u001b[0m\u001b[0;34m\u001b[0m\u001b[0m\n\u001b[1;32m    677\u001b[0m             \u001b[0mdata\u001b[0m \u001b[0;34m=\u001b[0m \u001b[0m_utils\u001b[0m\u001b[0;34m.\u001b[0m\u001b[0mpin_memory\u001b[0m\u001b[0;34m.\u001b[0m\u001b[0mpin_memory\u001b[0m\u001b[0;34m(\u001b[0m\u001b[0mdata\u001b[0m\u001b[0;34m,\u001b[0m \u001b[0mself\u001b[0m\u001b[0;34m.\u001b[0m\u001b[0m_pin_memory_device\u001b[0m\u001b[0;34m)\u001b[0m\u001b[0;34m\u001b[0m\u001b[0;34m\u001b[0m\u001b[0m\n",
            "\u001b[0;32m/usr/local/lib/python3.10/dist-packages/torch/utils/data/_utils/fetch.py\u001b[0m in \u001b[0;36mfetch\u001b[0;34m(self, possibly_batched_index)\u001b[0m\n\u001b[1;32m     52\u001b[0m         \u001b[0;32melse\u001b[0m\u001b[0;34m:\u001b[0m\u001b[0;34m\u001b[0m\u001b[0;34m\u001b[0m\u001b[0m\n\u001b[1;32m     53\u001b[0m             \u001b[0mdata\u001b[0m \u001b[0;34m=\u001b[0m \u001b[0mself\u001b[0m\u001b[0;34m.\u001b[0m\u001b[0mdataset\u001b[0m\u001b[0;34m[\u001b[0m\u001b[0mpossibly_batched_index\u001b[0m\u001b[0;34m]\u001b[0m\u001b[0;34m\u001b[0m\u001b[0;34m\u001b[0m\u001b[0m\n\u001b[0;32m---> 54\u001b[0;31m         \u001b[0;32mreturn\u001b[0m \u001b[0mself\u001b[0m\u001b[0;34m.\u001b[0m\u001b[0mcollate_fn\u001b[0m\u001b[0;34m(\u001b[0m\u001b[0mdata\u001b[0m\u001b[0;34m)\u001b[0m\u001b[0;34m\u001b[0m\u001b[0;34m\u001b[0m\u001b[0m\n\u001b[0m",
            "\u001b[0;31mTypeError\u001b[0m: TextDataset.collate_fn() takes 1 positional argument but 2 were given"
          ]
        }
      ]
    },
    {
      "cell_type": "code",
      "source": [
        "# # Validation loop (simplified)\n",
        "# model.eval()\n",
        "# correct = 0\n",
        "# total = 0\n",
        "# with torch.no_grad():\n",
        "#     for batch in val_loader:\n",
        "#         input_ids = batch['input_ids']\n",
        "#         attention_mask = batch['attention_mask']\n",
        "#         labels = batch['label']\n",
        "#         outputs = model(input_ids, attention_mask=attention_mask)\n",
        "#         _, predicted = torch.max(outputs.logits, 1)\n",
        "#         total += labels.size(0)\n",
        "#         correct += (predicted == labels).sum().item()\n",
        "\n",
        "# print('Validation Accuracy:', correct / total)"
      ],
      "metadata": {
        "id": "xV1ypgyJuA3_"
      },
      "execution_count": null,
      "outputs": []
    },
    {
      "cell_type": "code",
      "source": [
        "def read_dataset(file_path):\n",
        "    data = []\n",
        "    with open(file_path, 'r') as file:\n",
        "        for line in file:\n",
        "            intent, sentence = line.strip().split(',')\n",
        "            data.append((intent.strip(), sentence.strip()))\n",
        "    return data\n",
        "\n",
        "file_path = \"drive/MyDrive/Code/rawData/data_small.txt\"\n",
        "dataset = read_dataset(file_path)[1:]\n",
        "print(dataset[:5])\n",
        "texts = [text for label, text in dataset]\n",
        "labels = [label for label, text in dataset]\n",
        "\n",
        "print(len(texts))\n",
        "print(texts[:5], labels[:5])"
      ],
      "metadata": {
        "colab": {
          "base_uri": "https://localhost:8080/"
        },
        "id": "OMYoOEJ9pQgR",
        "outputId": "d083c47b-d872-4c58-d3ef-6c779eb0aa38"
      },
      "execution_count": 46,
      "outputs": [
        {
          "output_type": "stream",
          "name": "stdout",
          "text": [
            "[('Greet', 'Hi'), ('Greet', 'Hello'), ('Greet', 'Hey there'), ('Greet', 'Good morning'), ('Greet', 'Howdy')]\n",
            "365\n",
            "['Hi', 'Hello', 'Hey there', 'Good morning', 'Howdy'] ['Greet', 'Greet', 'Greet', 'Greet', 'Greet']\n"
          ]
        }
      ]
    },
    {
      "cell_type": "code",
      "source": [
        "all_intents = set(intent for intent, _ in dataset[1:])\n",
        "intent_to_index = {intent: i for i, intent in enumerate(all_intents)}\n",
        "index_to_intent = {intent: i for i, intent in intent_to_index.items()}\n",
        "labels = list(map(lambda x: intent_to_index[x], labels))"
      ],
      "metadata": {
        "id": "jRzm32FSpSmR"
      },
      "execution_count": 47,
      "outputs": []
    },
    {
      "cell_type": "code",
      "source": [
        "print(all_intents)"
      ],
      "metadata": {
        "colab": {
          "base_uri": "https://localhost:8080/"
        },
        "id": "Itd1TQ_xpbVj",
        "outputId": "fa751de2-e4cb-4943-ce18-d30a9fc4ca26"
      },
      "execution_count": 48,
      "outputs": [
        {
          "output_type": "stream",
          "name": "stdout",
          "text": [
            "{'Farewell', 'Complaint', 'Request', 'Greet', 'Feedback', 'Navigation', 'Inquiry'}\n"
          ]
        }
      ]
    },
    {
      "cell_type": "code",
      "source": [
        "indexes = set(index for index in labels)\n",
        "print(f\"All unique index count: {len(indexes)}\")"
      ],
      "metadata": {
        "colab": {
          "base_uri": "https://localhost:8080/"
        },
        "id": "7Fkmoy0Ypihh",
        "outputId": "ce80b4c5-b49d-415d-df2b-87da40e9afb6"
      },
      "execution_count": 49,
      "outputs": [
        {
          "output_type": "stream",
          "name": "stdout",
          "text": [
            "All unique index count: 7\n"
          ]
        }
      ]
    },
    {
      "cell_type": "code",
      "source": [
        "import torch\n",
        "from transformers import BertTokenizer, BertForSequenceClassification\n",
        "from torch.utils.data import DataLoader, Dataset\n",
        "from sklearn.model_selection import train_test_split\n",
        "from torch.nn.utils.rnn import pad_sequence\n",
        "import torch.nn as nn\n",
        "import torch.optim as optim\n",
        "from sklearn.metrics import accuracy_score, precision_score, recall_score, f1_score\n",
        "import matplotlib.pyplot as plt"
      ],
      "metadata": {
        "id": "_4qz5M5xnHYg"
      },
      "execution_count": 50,
      "outputs": []
    },
    {
      "cell_type": "code",
      "source": [
        "# # Data Augmentation (Synonym Replacement)\n",
        "# def synonym_replacement(sentence):\n",
        "#     words = sentence.split()\n",
        "#     new_sentence = sentence\n",
        "#     for word in words:\n",
        "#         # Replace with a synonym (simple example, replace 'good' with 'nice')\n",
        "#         if word == \"good\":\n",
        "#             new_sentence = new_sentence.replace(\"good\", \"nice\")\n",
        "#     return new_sentence\n",
        "\n",
        "# augmented_texts = [synonym_replacement(text) for text in texts]\n",
        "# texts.extend(augmented_texts)\n",
        "# labels.extend(labels)"
      ],
      "metadata": {
        "id": "baBZQB4EnMZZ"
      },
      "execution_count": 51,
      "outputs": []
    },
    {
      "cell_type": "code",
      "source": [
        "# Preprocessing with BERT tokenizer\n",
        "tokenizer = BertTokenizer.from_pretrained('bert-base-uncased')\n",
        "\n",
        "class TextDataset(Dataset):\n",
        "    def __init__(self, texts, labels):\n",
        "        self.texts = texts\n",
        "        self.labels = labels\n",
        "\n",
        "    def __len__(self):\n",
        "        return len(self.texts)\n",
        "\n",
        "    def __getitem__(self, idx):\n",
        "        text = self.texts[idx]\n",
        "        label = self.labels[idx]\n",
        "        encoding = tokenizer.encode_plus(\n",
        "            text,\n",
        "            add_special_tokens=True,\n",
        "            max_length=64,\n",
        "            return_token_type_ids=False,\n",
        "            padding='max_length',\n",
        "            return_attention_mask=True,\n",
        "            return_tensors='pt',\n",
        "        )\n",
        "        return {\n",
        "            'text': text,\n",
        "            'input_ids': encoding['input_ids'].flatten(),\n",
        "            'attention_mask': encoding['attention_mask'].flatten(),\n",
        "            'label': torch.tensor(label, dtype=torch.long)\n",
        "        }\n",
        "\n",
        "    def collate_fn(batch):\n",
        "        input_ids = [item['input_ids'] for item in batch]\n",
        "        attention_masks = [item['attention_mask'] for item in batch]\n",
        "        labels = [item['label'] for item in batch]\n",
        "\n",
        "        padded_input_ids = pad_sequence(input_ids, batch_first=True)\n",
        "        padded_attention_masks = pad_sequence(attention_masks, batch_first=True)\n",
        "\n",
        "        return {\n",
        "            'input_ids': padded_input_ids,\n",
        "            'attention_mask': padded_attention_masks,\n",
        "            'label': torch.stack(labels)\n",
        "        }"
      ],
      "metadata": {
        "id": "vLyoDMUVnR7p"
      },
      "execution_count": 52,
      "outputs": []
    },
    {
      "cell_type": "code",
      "source": [
        "# Split dataset\n",
        "train_texts, val_texts, train_labels, val_labels = train_test_split(texts, labels, test_size=0.2, shuffle=True)\n",
        "\n",
        "train_dataset = TextDataset(train_texts, train_labels)\n",
        "val_dataset = TextDataset(val_texts, val_labels)\n",
        "\n",
        "train_loader = DataLoader(train_dataset, batch_size=4, shuffle=True, collate_fn=TextDataset.collate_fn)\n",
        "val_loader = DataLoader(val_dataset, batch_size=4, shuffle=False, collate_fn=TextDataset.collate_fn)"
      ],
      "metadata": {
        "id": "Kn-fJUYNnWGJ"
      },
      "execution_count": 53,
      "outputs": []
    },
    {
      "cell_type": "code",
      "source": [
        "def save_model(model, optimizer, epoch, path='model.pth'):\n",
        "    state = {\n",
        "        'epoch': epoch,\n",
        "        'model_state_dict': model.state_dict(),\n",
        "        'optimizer_state_dict': optimizer.state_dict(),\n",
        "    }\n",
        "    torch.save(state, path)\n",
        "\n",
        "def load_model(model, optimizer, path='model.pth'):\n",
        "    checkpoint = torch.load(path)\n",
        "    model.load_state_dict(checkpoint['model_state_dict'])\n",
        "    optimizer.load_state_dict(checkpoint['optimizer_state_dict'])\n",
        "    epoch = checkpoint['epoch']\n",
        "    return model, optimizer, epoch\n"
      ],
      "metadata": {
        "id": "bU-t9oMWnhGx"
      },
      "execution_count": 54,
      "outputs": []
    },
    {
      "cell_type": "code",
      "source": [
        "model = BertForSequenceClassification.from_pretrained('bert-base-uncased', num_labels=7)\n",
        "\n",
        "device = torch.device(\"cuda\" if torch.cuda.is_available() else \"cpu\")\n",
        "model.to(device)\n",
        "optimizer = optim.AdamW(model.parameters(), lr=1e-5, weight_decay=0.01)\n",
        "criterion = nn.CrossEntropyLoss()"
      ],
      "metadata": {
        "colab": {
          "base_uri": "https://localhost:8080/"
        },
        "id": "IuMvYSUlnzTh",
        "outputId": "94b1274b-ac65-41e8-fc15-ad08ad40bfe4"
      },
      "execution_count": 121,
      "outputs": [
        {
          "output_type": "stream",
          "name": "stderr",
          "text": [
            "Some weights of BertForSequenceClassification were not initialized from the model checkpoint at bert-base-uncased and are newly initialized: ['classifier.bias', 'classifier.weight']\n",
            "You should probably TRAIN this model on a down-stream task to be able to use it for predictions and inference.\n"
          ]
        }
      ]
    },
    {
      "cell_type": "code",
      "source": [
        "model, optimizer, start_epoch = load_model(model, optimizer, path='drive/MyDrive/Code/models/BERT_rnn/model.pth')"
      ],
      "metadata": {
        "id": "tQbeKKLooBLx"
      },
      "execution_count": 56,
      "outputs": []
    },
    {
      "cell_type": "code",
      "source": [
        "def train(model, train_loader, optimizer, criterion):\n",
        "    model.train()\n",
        "    running_loss = 0.0\n",
        "    # losses = []\n",
        "    for batch in train_loader:\n",
        "        input_ids = batch['input_ids'].to(device)\n",
        "        attention_mask = batch['attention_mask'].to(device)\n",
        "        labels = batch['label'].to(device)\n",
        "\n",
        "        optimizer.zero_grad()\n",
        "        outputs = model(input_ids, attention_mask=attention_mask, labels=labels)\n",
        "        loss = outputs.loss\n",
        "        loss.backward()\n",
        "        optimizer.step()\n",
        "        running_loss += loss.item()\n",
        "        # losses.append(loss.item())\n",
        "    return running_loss / len(train_loader)\n",
        "\n",
        "def evaluate(model, val_loader):\n",
        "    model.eval()\n",
        "    running_loss = 0.0\n",
        "    all_preds = []\n",
        "    all_labels = []\n",
        "    # losses = []\n",
        "\n",
        "    with torch.no_grad():\n",
        "        for batch in val_loader:\n",
        "            input_ids = batch['input_ids'].to(device)\n",
        "            attention_mask = batch['attention_mask'].to(device)\n",
        "            labels = batch['label'].to(device)\n",
        "\n",
        "            outputs = model(input_ids, attention_mask=attention_mask, labels=labels)\n",
        "            loss = outputs.loss\n",
        "            running_loss += loss.item()\n",
        "            _, preds = torch.max(outputs.logits, dim=1)\n",
        "            all_preds.extend(preds.cpu().numpy())\n",
        "            all_labels.extend(labels.cpu().numpy())\n",
        "            # losses.append(loss.item())\n",
        "            # print(loss.item())\n",
        "\n",
        "    accuracy = accuracy_score(all_labels, all_preds)\n",
        "    precision = precision_score(all_labels, all_preds, average='weighted')\n",
        "    recall = recall_score(all_labels, all_preds, average='weighted')\n",
        "    f1 = f1_score(all_labels, all_preds, average='weighted')\n",
        "\n",
        "    return accuracy, precision, recall, f1, running_loss / len(train_loader)"
      ],
      "metadata": {
        "id": "8jH2K4_houXq"
      },
      "execution_count": 110,
      "outputs": []
    },
    {
      "cell_type": "code",
      "source": [
        "# Training loop\n",
        "NUM_EPOCHS = 10\n",
        "train_losses = []\n",
        "test_losses = []\n",
        "\n",
        "for epoch in range(NUM_EPOCHS):\n",
        "    train_loss = train(model, train_loader, optimizer, criterion)\n",
        "    save_model(model, optimizer, epoch, path=f'drive/MyDrive/Code/models/BERT_rnn/model.pth')\n",
        "\n",
        "    test_accuracy, test_precision, test_recall, test_f1, test_loss = evaluate(model, val_loader)\n",
        "    print(f\"Epoch {epoch + 1}/{NUM_EPOCHS}, Train Loss: {train_loss:.4f}, test Loss: {test_loss:.4f},Validation Accuracy: {test_accuracy:.4f}, Validation Precision: {test_precision:.4f}, Validation Recall: {test_recall:.4f}, Validation F1-Score: {test_f1:.4f}\")\n",
        "    # print(f\"Epoch {epoch + 1}/{NUM_EPOCHS}, Train Loss: {sum(train_loss) / len(train_loss):.4f}, test Loss: {sum(test_loss) / len(test_loss):.4f},Validation Accuracy: {test_accuracy:.4f}, Validation Precision: {test_precision:.4f}, Validation Recall: {test_recall:.4f}, Validation F1-Score: {test_f1:.4f}\")\n",
        "    train_losses.append(train_loss)\n",
        "    test_losses.append(test_loss)"
      ],
      "metadata": {
        "colab": {
          "base_uri": "https://localhost:8080/"
        },
        "id": "ggylsclr3t34",
        "outputId": "40235afa-fa76-4089-d394-55160469ec80"
      },
      "execution_count": 122,
      "outputs": [
        {
          "output_type": "stream",
          "name": "stderr",
          "text": [
            "/usr/local/lib/python3.10/dist-packages/sklearn/metrics/_classification.py:1344: UndefinedMetricWarning: Precision is ill-defined and being set to 0.0 in labels with no predicted samples. Use `zero_division` parameter to control this behavior.\n",
            "  _warn_prf(average, modifier, msg_start, len(result))\n"
          ]
        },
        {
          "output_type": "stream",
          "name": "stdout",
          "text": [
            "Epoch 1/10, Train Loss: 128.2989, test Loss: 27.0211,Validation Accuracy: 0.6986, Validation Precision: 0.7226, Validation Recall: 0.6986, Validation F1-Score: 0.6554\n",
            "Epoch 2/10, Train Loss: 88.1981, test Loss: 17.1577,Validation Accuracy: 0.8904, Validation Precision: 0.9061, Validation Recall: 0.8904, Validation F1-Score: 0.8900\n",
            "Epoch 3/10, Train Loss: 53.4558, test Loss: 10.2467,Validation Accuracy: 0.9452, Validation Precision: 0.9503, Validation Recall: 0.9452, Validation F1-Score: 0.9453\n",
            "Epoch 4/10, Train Loss: 30.6328, test Loss: 7.2478,Validation Accuracy: 0.9452, Validation Precision: 0.9520, Validation Recall: 0.9452, Validation F1-Score: 0.9435\n",
            "Epoch 5/10, Train Loss: 17.4306, test Loss: 5.1728,Validation Accuracy: 0.9452, Validation Precision: 0.9503, Validation Recall: 0.9452, Validation F1-Score: 0.9453\n",
            "Epoch 6/10, Train Loss: 10.5992, test Loss: 4.2633,Validation Accuracy: 0.9315, Validation Precision: 0.9331, Validation Recall: 0.9315, Validation F1-Score: 0.9311\n",
            "Epoch 7/10, Train Loss: 7.0828, test Loss: 3.9239,Validation Accuracy: 0.9315, Validation Precision: 0.9334, Validation Recall: 0.9315, Validation F1-Score: 0.9300\n",
            "Epoch 8/10, Train Loss: 5.1261, test Loss: 3.8659,Validation Accuracy: 0.9315, Validation Precision: 0.9331, Validation Recall: 0.9315, Validation F1-Score: 0.9311\n",
            "Epoch 9/10, Train Loss: 4.0433, test Loss: 3.7609,Validation Accuracy: 0.9315, Validation Precision: 0.9299, Validation Recall: 0.9315, Validation F1-Score: 0.9302\n",
            "Epoch 10/10, Train Loss: 3.1983, test Loss: 3.8926,Validation Accuracy: 0.9315, Validation Precision: 0.9331, Validation Recall: 0.9315, Validation F1-Score: 0.9311\n"
          ]
        }
      ]
    },
    {
      "cell_type": "code",
      "source": [
        "print(train_losses[:2])"
      ],
      "metadata": {
        "colab": {
          "base_uri": "https://localhost:8080/"
        },
        "id": "zLK-uN9oqxjr",
        "outputId": "45b1dd61-31a3-4097-9d89-a15009618706"
      },
      "execution_count": 123,
      "outputs": [
        {
          "output_type": "stream",
          "name": "stdout",
          "text": [
            "[128.29892218112946, 88.19811832904816]\n"
          ]
        }
      ]
    },
    {
      "cell_type": "code",
      "source": [
        "# train_losses = [item for losses in train_losses for item in losses]\n",
        "# test_losses = [item for losses in test_losses for item in losses]\n",
        "train_losses = [losses for losses in train_losses]\n",
        "test_losses = [losses for losses in test_losses]"
      ],
      "metadata": {
        "id": "WsCVCWZSr9nc"
      },
      "execution_count": 124,
      "outputs": []
    },
    {
      "cell_type": "code",
      "source": [
        "print(train_losses[:8])\n",
        "print(test_losses[:8])\n",
        "print(len(train_losses))\n",
        "print(len(test_losses))"
      ],
      "metadata": {
        "colab": {
          "base_uri": "https://localhost:8080/"
        },
        "id": "v0lxwKPvwD7y",
        "outputId": "1beb4fe5-c802-4416-bf60-a8ddc0b1cf8f"
      },
      "execution_count": 125,
      "outputs": [
        {
          "output_type": "stream",
          "name": "stdout",
          "text": [
            "[128.29892218112946, 88.19811832904816, 53.45578199625015, 30.632836028933525, 17.430643260478973, 10.599153779447079, 7.082788459956646, 5.126089833676815]\n",
            "[27.02110242843628, 17.157749235630035, 10.24674242734909, 7.247758999466896, 5.172767460346222, 4.263326443731785, 3.9238604120910168, 3.865865845233202]\n",
            "10\n",
            "10\n"
          ]
        }
      ]
    },
    {
      "cell_type": "code",
      "source": [
        "step = 2\n",
        "\n",
        "fig, (ax1, ax2, ax3) = plt.subplots(1, 3,figsize=(15, 5))\n",
        "ax1.plot(train_losses[::step], color=\"black\", label=\"train\")\n",
        "ax1.plot(test_losses[::step], color=\"red\", label=\"test\")\n",
        "ax1.legend()\n",
        "ax1.set_ylabel(\"loss\")\n",
        "ax1.set_xlabel(\"epoch\")\n",
        "\n",
        "plt.plot()"
      ],
      "metadata": {
        "colab": {
          "base_uri": "https://localhost:8080/",
          "height": 487
        },
        "id": "C3F0AQ0fY7ZM",
        "outputId": "9ca02c09-f90b-4f02-c62b-3cf7bcc052a8"
      },
      "execution_count": 126,
      "outputs": [
        {
          "output_type": "execute_result",
          "data": {
            "text/plain": [
              "[]"
            ]
          },
          "metadata": {},
          "execution_count": 126
        },
        {
          "output_type": "display_data",
          "data": {
            "text/plain": [
              "<Figure size 1500x500 with 3 Axes>"
            ],
            "image/png": "[encoded data removed]"
          },
          "metadata": {}
        }
      ]
    },
    {
      "cell_type": "code",
      "source": [
        "def predict_text(text, model, tokenizer, device):\n",
        "    model.eval()\n",
        "    inputs = tokenizer(text, return_tensors=\"pt\", padding=True, truncation=True)\n",
        "    inputs = {key: tensor.to(device) for key, tensor in inputs.items()}  # Move tensors to device\n",
        "    with torch.no_grad():\n",
        "        outputs = model(**inputs)\n",
        "    logits = outputs.logits\n",
        "    probabilities = torch.softmax(logits, dim=1).tolist()[0]\n",
        "    predicted_class = torch.argmax(logits, dim=1).item()\n",
        "    return predicted_class, probabilities"
      ],
      "metadata": {
        "id": "MiCnoF9O8eJc"
      },
      "execution_count": null,
      "outputs": []
    },
    {
      "cell_type": "code",
      "source": [
        "device = torch.device(\"cuda\" if torch.cuda.is_available() else \"cpu\")\n",
        "text = \"This isnt working right\"\n",
        "predicted_class, probabilities = predict_text(text, model, tokenizer, device)\n",
        "print(\"Predicted class:\", predicted_class)\n",
        "print(\"Class probabilities:\", probabilities)\n",
        "index_to_intent[predicted_class]"
      ],
      "metadata": {
        "colab": {
          "base_uri": "https://localhost:8080/",
          "height": 70
        },
        "id": "CIEmgx6V7rsA",
        "outputId": "aa6f934b-da2f-4f1a-c0ce-92fd9e1ea8ef"
      },
      "execution_count": 91,
      "outputs": [
        {
          "output_type": "stream",
          "name": "stdout",
          "text": [
            "Predicted class: 1\n",
            "Class probabilities: [0.12015555053949356, 0.6171199083328247, 0.03031042031943798, 0.025286497548222542, 0.04624459147453308, 0.09965561330318451, 0.0612274669110775]\n"
          ]
        },
        {
          "output_type": "execute_result",
          "data": {
            "text/plain": [
              "'Complaint'"
            ],
            "application/vnd.google.colaboratory.intrinsic+json": {
              "type": "string"
            }
          },
          "metadata": {},
          "execution_count": 91
        }
      ]
    },
    {
      "cell_type": "code",
      "source": [],
      "metadata": {
        "id": "xEq6BDjC8qeH"
      },
      "execution_count": 65,
      "outputs": []
    }
  ]
}