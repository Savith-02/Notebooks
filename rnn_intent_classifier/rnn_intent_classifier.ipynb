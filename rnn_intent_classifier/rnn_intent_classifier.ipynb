{
  "nbformat": 4,
  "nbformat_minor": 0,
  "metadata": {
    "colab": {
      "provenance": [],
      "gpuType": "T4",
      "authorship_tag": "ABX9TyNDhi94qxIINaUlsPlC/sRm",
      "include_colab_link": true
    },
    "kernelspec": {
      "name": "python3",
      "display_name": "Python 3"
    },
    "language_info": {
      "name": "python"
    },
    "accelerator": "GPU"
  },
  "cells": [
    {
      "cell_type": "markdown",
      "metadata": {
        "id": "view-in-github",
        "colab_type": "text"
      },
      "source": [
        "<a href=\"https://colab.research.google.com/github/Savith-02/notebooks/blob/main/rnn_intent_classifier/rnn_intent_classifier.ipynb\" target=\"_parent\"><img src=\"https://colab.research.google.com/assets/colab-badge.svg\" alt=\"Open In Colab\"/></a>"
      ]
    },
    {
      "cell_type": "code",
      "source": [
        "def read_dataset(file_path):\n",
        "    data = []\n",
        "    with open(file_path, 'r') as file:\n",
        "        for line in file:\n",
        "            intent, sentence = line.strip().split(',')\n",
        "            data.append((intent.strip(), sentence.strip()))\n",
        "    return data\n",
        "\n",
        "# Example usage\n",
        "file_path = \"data.txt\"  # Replace with the path to your dataset file\n",
        "dataset = read_dataset(file_path)\n",
        "print(dataset[:10])"
      ],
      "metadata": {
        "colab": {
          "base_uri": "https://localhost:8080/"
        },
        "id": "JusHuMZN0iad",
        "outputId": "a3e5c7e1-aecf-4e7d-abcf-905cd919ec62"
      },
      "execution_count": 3,
      "outputs": [
        {
          "output_type": "stream",
          "name": "stdout",
          "text": [
            "[('Intent', 'Example'), ('Greet', 'Hi'), ('Greet', 'Hello'), ('Greet', 'Hey there'), ('Greet', 'Good morning'), ('Greet', 'Howdy'), ('Greet', 'Hi there'), ('Greet', 'Hey'), ('Greet', 'Good afternoon'), ('Greet', 'Hello there')]\n"
          ]
        }
      ]
    },
    {
      "cell_type": "code",
      "execution_count": 4,
      "metadata": {
        "id": "DiIkOCj-w0Ok"
      },
      "outputs": [],
      "source": [
        "import torch\n",
        "import torch.nn as nn\n",
        "import torch.optim as optim\n",
        "import matplotlib.pyplot as plt\n",
        "\n",
        "# Define the dataset\n",
        "training_data = dataset\n",
        "\n",
        "# Define the vocabulary\n",
        "all_chars = set(''.join([sentence for intent, sentence in training_data]))\n",
        "char_to_index = {char: i for i, char in enumerate(all_chars)}\n",
        "index_to_char = {i: char for char, i in char_to_index.items()}\n",
        "num_chars = len(all_chars)\n",
        "\n",
        "all_intents = set(intent for intent, _ in training_data)\n",
        "intent_to_index = {intent: i for i, intent in enumerate(all_intents)}\n",
        "index_to_intent = {i: intent for intent, i in intent_to_index.items()}\n",
        "num_intents = len(all_intents)\n",
        "\n",
        "device = torch.device(\"cuda:0\" if torch.cuda.is_available() else \"cpu\")\n",
        "\n",
        "# Convert sentences to tensors\n",
        "def sentence_to_tensor(sentence):\n",
        "    tensor = torch.zeros(len(sentence), 1, num_chars).to(device)\n",
        "    for i, char in enumerate(sentence):\n",
        "        tensor[i][0][char_to_index[char]] = 1\n",
        "    return tensor\n",
        "\n",
        "# Convert intents to tensors\n",
        "def intent_to_tensor(intent):\n",
        "    return torch.tensor([intent_to_index[intent]], dtype=torch.long).to(device)\n",
        "\n",
        "# Define the RNN model\n",
        "class RNN(nn.Module):\n",
        "    def __init__(self, input_size, hidden_size, output_size):\n",
        "        super(RNN, self).__init__()\n",
        "        self.hidden_size = hidden_size\n",
        "        self.rnn = nn.RNN(input_size, hidden_size)\n",
        "        self.fc = nn.Linear(hidden_size, output_size)\n",
        "        self.softmax = nn.LogSoftmax(dim=1)\n",
        "\n",
        "    def forward(self, input):\n",
        "        hidden = self.init_hidden()\n",
        "        output, _ = self.rnn(input, hidden)\n",
        "        output = self.fc(output[-1])\n",
        "        output = self.softmax(output)\n",
        "        return output\n",
        "\n",
        "    def init_hidden(self):\n",
        "        return torch.zeros(1, 1, self.hidden_size).to(device)"
      ]
    },
    {
      "cell_type": "code",
      "source": [
        "# optim.lr_scheduler.ExponentialLR\n",
        "import torch.optim as optim\n"
      ],
      "metadata": {
        "id": "uXSP0hGKnUuf"
      },
      "execution_count": 6,
      "outputs": []
    },
    {
      "cell_type": "code",
      "source": [
        "# Define hyperparameters\n",
        "hidden_size = 128\n",
        "learning_rate = 0.001\n",
        "epochs = 100\n",
        "\n",
        "# Initialize the model\n",
        "model = RNN(num_chars, hidden_size, num_intents)\n",
        "model.to(device)\n",
        "\n",
        "loss_function = nn.NLLLoss()\n",
        "optimizer = torch.optim.SGD(model.parameters(), lr=learning_rate, momentum=0.9)\n",
        "# optimizer = optim.Adam(model.parameters(), lr=learning_rate)\n",
        "scheduler = optim.lr_scheduler.ExponentialLR(optimizer, gamma=0.9)\n",
        "\n",
        "# Training loop with loss plotting\n",
        "losses = []\n",
        "for epoch in range(epochs):\n",
        "    total_loss = 0\n",
        "    for intent, sentence in training_data:\n",
        "        model.zero_grad()\n",
        "        intent_tensor = intent_to_tensor(intent)\n",
        "        sentence_tensor = sentence_to_tensor(sentence)\n",
        "        output = model(sentence_tensor)\n",
        "        loss = loss_function(output, intent_tensor)\n",
        "        loss.backward()\n",
        "        optimizer.step()\n",
        "        total_loss += loss.item()\n",
        "\n",
        "    scheduler.step()\n",
        "    losses.append(total_loss)\n",
        "    if (epoch + 1) % 10 == 0:\n",
        "        print(f\"Epoch {epoch+1}/{epochs}, Loss: {total_loss}\")\n",
        "\n",
        "# Plot the loss\n",
        "plt.plot(losses)\n",
        "plt.xlabel('Epochs')\n",
        "plt.ylabel('Loss')\n",
        "plt.title('Training Loss')\n",
        "plt.show()\n"
      ],
      "metadata": {
        "colab": {
          "base_uri": "https://localhost:8080/",
          "height": 645
        },
        "id": "P04_icq_nMw4",
        "outputId": "436bbbd2-74a7-4388-e061-0caeec450527"
      },
      "execution_count": 10,
      "outputs": [
        {
          "output_type": "stream",
          "name": "stdout",
          "text": [
            "Epoch 10/100, Loss: 691.8052645921707\n",
            "Epoch 20/100, Loss: 632.3695509433746\n",
            "Epoch 30/100, Loss: 605.4352175593376\n",
            "Epoch 40/100, Loss: 594.1335757374763\n",
            "Epoch 50/100, Loss: 588.2165080308914\n",
            "Epoch 60/100, Loss: 586.0003904700279\n",
            "Epoch 70/100, Loss: 585.1318122148514\n",
            "Epoch 80/100, Loss: 584.8166472911835\n",
            "Epoch 90/100, Loss: 584.7051454782486\n",
            "Epoch 100/100, Loss: 584.6663357019424\n"
          ]
        },
        {
          "output_type": "display_data",
          "data": {
            "text/plain": [
              "<Figure size 640x480 with 1 Axes>"
            ],
            "image/png": "[encoded data removed]"
          },
          "metadata": {}
        }
      ]
    },
    {
      "cell_type": "code",
      "source": [
        "\n",
        "def train_rnn(model, training_data, intent_to_tensor, sentence_to_tensor, device, hidden_size, learning_rate, epochs):\n",
        "\n",
        "    # Initialize the model\n",
        "    model = model(num_chars, hidden_size, num_intents)\n",
        "    model.to(device)\n",
        "\n",
        "    loss_function = nn.NLLLoss()\n",
        "    optimizer = optim.Adam(model.parameters(), lr=learning_rate)\n",
        "    scheduler = optim.lr_scheduler.ExponentialLR(optimizer, gamma=0.9)\n",
        "\n",
        "    # Training loop with loss plotting\n",
        "    losses = []\n",
        "    for epoch in range(epochs):\n",
        "        total_loss = 0\n",
        "        for intent, sentence in training_data:\n",
        "            model.zero_grad()\n",
        "            intent_tensor = intent_to_tensor(intent)\n",
        "            sentence_tensor = sentence_to_tensor(sentence)\n",
        "            output = model(sentence_tensor)\n",
        "            loss = loss_function(output, intent_tensor)\n",
        "            loss.backward()\n",
        "            optimizer.step()\n",
        "            total_loss += loss.item()\n",
        "\n",
        "        scheduler.step()\n",
        "        losses.append(total_loss)\n",
        "        if (epoch + 1) % 10 == 0:\n",
        "            print(f\"Epoch {epoch+1}/{epochs}, Loss: {total_loss}\")\n",
        "\n",
        "    # Plot the loss\n",
        "    plt.plot(losses)\n",
        "    plt.xlabel('Epochs')\n",
        "    plt.ylabel('Loss')\n",
        "    plt.title('Training Loss')\n",
        "    plt.show()\n",
        "\n",
        "    return model"
      ],
      "metadata": {
        "id": "PtyblcFDpSNp"
      },
      "execution_count": 11,
      "outputs": []
    },
    {
      "cell_type": "code",
      "source": [
        "trained_model = train_rnn(\n",
        "    model=RNN,\n",
        "    training_data=training_data,\n",
        "    intent_to_tensor=intent_to_tensor,\n",
        "    sentence_to_tensor=sentence_to_tensor,\n",
        "    device=device,\n",
        "    hidden_size=128,\n",
        "    learning_rate=0.001,\n",
        "    epochs=100\n",
        ")"
      ],
      "metadata": {
        "colab": {
          "base_uri": "https://localhost:8080/",
          "height": 645
        },
        "id": "5Or4K3-zJNEC",
        "outputId": "56d961eb-1f55-4e96-8129-27e2685c13df"
      },
      "execution_count": 12,
      "outputs": [
        {
          "output_type": "stream",
          "name": "stdout",
          "text": [
            "Epoch 10/100, Loss: 652.3157294988632\n",
            "Epoch 20/100, Loss: 558.9973648190498\n",
            "Epoch 30/100, Loss: 510.012005597353\n",
            "Epoch 40/100, Loss: 479.1255812048912\n",
            "Epoch 50/100, Loss: 468.20854502916336\n",
            "Epoch 60/100, Loss: 463.5842518657446\n",
            "Epoch 70/100, Loss: 462.0213473290205\n",
            "Epoch 80/100, Loss: 461.4759628176689\n",
            "Epoch 90/100, Loss: 461.2861725986004\n",
            "Epoch 100/100, Loss: 461.22019155323505\n"
          ]
        },
        {
          "output_type": "display_data",
          "data": {
            "text/plain": [
              "<Figure size 640x480 with 1 Axes>"
            ],
            "image/png": "[encoded data removed]"
          },
          "metadata": {}
        }
      ]
    },
    {
      "cell_type": "code",
      "source": [
        "# Test the model\n",
        "def predict_intent(sentence):\n",
        "    with torch.no_grad():\n",
        "        output = model(sentence_to_tensor(sentence))\n",
        "        _, predicted_index = torch.max(output, 1)\n",
        "        predicted_intent = index_to_intent[predicted_index.item()]\n",
        "        return predicted_intent\n",
        "\n",
        "# Example usage\n",
        "test_sentence = \"How are you?\"\n",
        "print(\"Predicted intent:\", predict_intent(test_sentence))"
      ],
      "metadata": {
        "colab": {
          "base_uri": "https://localhost:8080/"
        },
        "id": "We4cVSCb3XQs",
        "outputId": "2e8a17db-6629-4123-e9ed-c54bc2707c0a"
      },
      "execution_count": 16,
      "outputs": [
        {
          "output_type": "stream",
          "name": "stdout",
          "text": [
            "Predicted intent: Inquiry\n"
          ]
        }
      ]
    },
    {
      "cell_type": "code",
      "source": [
        "# all_intents"
      ],
      "metadata": {
        "id": "oZ0D8s1l3wdn"
      },
      "execution_count": 14,
      "outputs": []
    },
    {
      "cell_type": "code",
      "source": [
        "# char_to_index.items()"
      ],
      "metadata": {
        "colab": {
          "base_uri": "https://localhost:8080/"
        },
        "id": "aEreHFbj31SD",
        "outputId": "8a52cfcb-f439-4ee9-d717-0e89f03bff55"
      },
      "execution_count": null,
      "outputs": [
        {
          "output_type": "execute_result",
          "data": {
            "text/plain": [
              "dict_items([('l', 0), ('R', 1), ('q', 2), ('m', 3), ('B', 4), ('U', 5), ('C', 6), ('w', 7), ('e', 8), ('o', 9), ('h', 10), ('p', 11), ('T', 12), ('v', 13), ('L', 14), ('F', 15), ('n', 16), ('S', 17), ('P', 18), ('-', 19), ('b', 20), ('i', 21), ('G', 22), ('2', 23), ('.', 24), ('u', 25), ('g', 26), ('j', 27), ('c', 28), ('E', 29), ('W', 30), ('x', 31), ('N', 32), ('f', 33), ('O', 34), ('r', 35), ('z', 36), ('a', 37), ('t', 38), ('k', 39), ('?', 40), (' ', 41), ('y', 42), ('Y', 43), ('I', 44), ('s', 45), ('7', 46), ('H', 47), ('A', 48), ('\"', 49), (\"'\", 50), ('d', 51), ('M', 52), ('!', 53)])"
            ]
          },
          "metadata": {},
          "execution_count": 35
        }
      ]
    }
  ]
}